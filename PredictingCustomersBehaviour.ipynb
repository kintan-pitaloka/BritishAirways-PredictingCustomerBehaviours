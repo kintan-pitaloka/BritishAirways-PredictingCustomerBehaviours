{
 "cells": [
  {
   "cell_type": "markdown",
   "id": "25e29a58",
   "metadata": {},
   "source": [
    "## British Airways - Predicting Customers Behaviours"
   ]
  },
  {
   "cell_type": "markdown",
   "id": "767b388e",
   "metadata": {},
   "source": [
    "\n",
    "Build a predictive model to understand factors that influence buying behaviour"
   ]
  },
  {
   "cell_type": "code",
   "execution_count": 163,
   "id": "3bb86acd",
   "metadata": {},
   "outputs": [],
   "source": [
    "import pandas as pd\n",
    "import numpy as np\n",
    "import seaborn as sns\n",
    "import matplotlib.pyplot as plt\n",
    "%matplotlib inline\n",
    "\n",
    "import warnings\n",
    "warnings.simplefilter(\"ignore\")"
   ]
  },
  {
   "cell_type": "code",
   "execution_count": 164,
   "id": "c856fd62",
   "metadata": {},
   "outputs": [],
   "source": [
    "data_cust = pd.read_csv(\"data/customer_booking.csv\", encoding='ISO-8859-1')"
   ]
  },
  {
   "cell_type": "code",
   "execution_count": 165,
   "id": "194ed6e8",
   "metadata": {},
   "outputs": [
    {
     "data": {
      "text/html": [
       "<div>\n",
       "<style scoped>\n",
       "    .dataframe tbody tr th:only-of-type {\n",
       "        vertical-align: middle;\n",
       "    }\n",
       "\n",
       "    .dataframe tbody tr th {\n",
       "        vertical-align: top;\n",
       "    }\n",
       "\n",
       "    .dataframe thead th {\n",
       "        text-align: right;\n",
       "    }\n",
       "</style>\n",
       "<table border=\"1\" class=\"dataframe\">\n",
       "  <thead>\n",
       "    <tr style=\"text-align: right;\">\n",
       "      <th></th>\n",
       "      <th>num_passengers</th>\n",
       "      <th>sales_channel</th>\n",
       "      <th>trip_type</th>\n",
       "      <th>purchase_lead</th>\n",
       "      <th>length_of_stay</th>\n",
       "      <th>flight_hour</th>\n",
       "      <th>flight_day</th>\n",
       "      <th>route</th>\n",
       "      <th>booking_origin</th>\n",
       "      <th>wants_extra_baggage</th>\n",
       "      <th>wants_preferred_seat</th>\n",
       "      <th>wants_in_flight_meals</th>\n",
       "      <th>flight_duration</th>\n",
       "      <th>booking_complete</th>\n",
       "    </tr>\n",
       "  </thead>\n",
       "  <tbody>\n",
       "    <tr>\n",
       "      <th>0</th>\n",
       "      <td>2</td>\n",
       "      <td>Internet</td>\n",
       "      <td>RoundTrip</td>\n",
       "      <td>262</td>\n",
       "      <td>19</td>\n",
       "      <td>7</td>\n",
       "      <td>Sat</td>\n",
       "      <td>AKLDEL</td>\n",
       "      <td>New Zealand</td>\n",
       "      <td>1</td>\n",
       "      <td>0</td>\n",
       "      <td>0</td>\n",
       "      <td>5.52</td>\n",
       "      <td>0</td>\n",
       "    </tr>\n",
       "    <tr>\n",
       "      <th>1</th>\n",
       "      <td>1</td>\n",
       "      <td>Internet</td>\n",
       "      <td>RoundTrip</td>\n",
       "      <td>112</td>\n",
       "      <td>20</td>\n",
       "      <td>3</td>\n",
       "      <td>Sat</td>\n",
       "      <td>AKLDEL</td>\n",
       "      <td>New Zealand</td>\n",
       "      <td>0</td>\n",
       "      <td>0</td>\n",
       "      <td>0</td>\n",
       "      <td>5.52</td>\n",
       "      <td>0</td>\n",
       "    </tr>\n",
       "    <tr>\n",
       "      <th>2</th>\n",
       "      <td>2</td>\n",
       "      <td>Internet</td>\n",
       "      <td>RoundTrip</td>\n",
       "      <td>243</td>\n",
       "      <td>22</td>\n",
       "      <td>17</td>\n",
       "      <td>Wed</td>\n",
       "      <td>AKLDEL</td>\n",
       "      <td>India</td>\n",
       "      <td>1</td>\n",
       "      <td>1</td>\n",
       "      <td>0</td>\n",
       "      <td>5.52</td>\n",
       "      <td>0</td>\n",
       "    </tr>\n",
       "  </tbody>\n",
       "</table>\n",
       "</div>"
      ],
      "text/plain": [
       "   num_passengers sales_channel  trip_type  purchase_lead  length_of_stay  \\\n",
       "0               2      Internet  RoundTrip            262              19   \n",
       "1               1      Internet  RoundTrip            112              20   \n",
       "2               2      Internet  RoundTrip            243              22   \n",
       "\n",
       "   flight_hour flight_day   route booking_origin  wants_extra_baggage  \\\n",
       "0            7        Sat  AKLDEL    New Zealand                    1   \n",
       "1            3        Sat  AKLDEL    New Zealand                    0   \n",
       "2           17        Wed  AKLDEL          India                    1   \n",
       "\n",
       "   wants_preferred_seat  wants_in_flight_meals  flight_duration  \\\n",
       "0                     0                      0             5.52   \n",
       "1                     0                      0             5.52   \n",
       "2                     1                      0             5.52   \n",
       "\n",
       "   booking_complete  \n",
       "0                 0  \n",
       "1                 0  \n",
       "2                 0  "
      ]
     },
     "execution_count": 165,
     "metadata": {},
     "output_type": "execute_result"
    }
   ],
   "source": [
    "data_cust.head(3)"
   ]
  },
  {
   "cell_type": "code",
   "execution_count": 166,
   "id": "511fc3ec",
   "metadata": {},
   "outputs": [],
   "source": [
    "#copy the originall data\n",
    "df_cust = data_cust.copy()"
   ]
  },
  {
   "cell_type": "code",
   "execution_count": 167,
   "id": "e177612d",
   "metadata": {},
   "outputs": [
    {
     "data": {
      "text/html": [
       "<div>\n",
       "<style scoped>\n",
       "    .dataframe tbody tr th:only-of-type {\n",
       "        vertical-align: middle;\n",
       "    }\n",
       "\n",
       "    .dataframe tbody tr th {\n",
       "        vertical-align: top;\n",
       "    }\n",
       "\n",
       "    .dataframe thead th {\n",
       "        text-align: right;\n",
       "    }\n",
       "</style>\n",
       "<table border=\"1\" class=\"dataframe\">\n",
       "  <thead>\n",
       "    <tr style=\"text-align: right;\">\n",
       "      <th></th>\n",
       "      <th>num_passengers</th>\n",
       "      <th>sales_channel</th>\n",
       "      <th>trip_type</th>\n",
       "      <th>purchase_lead</th>\n",
       "      <th>length_of_stay</th>\n",
       "      <th>flight_hour</th>\n",
       "      <th>flight_day</th>\n",
       "      <th>route</th>\n",
       "      <th>booking_origin</th>\n",
       "      <th>wants_extra_baggage</th>\n",
       "      <th>wants_preferred_seat</th>\n",
       "      <th>wants_in_flight_meals</th>\n",
       "      <th>flight_duration</th>\n",
       "      <th>booking_complete</th>\n",
       "    </tr>\n",
       "  </thead>\n",
       "  <tbody>\n",
       "    <tr>\n",
       "      <th>0</th>\n",
       "      <td>2</td>\n",
       "      <td>Internet</td>\n",
       "      <td>RoundTrip</td>\n",
       "      <td>262</td>\n",
       "      <td>19</td>\n",
       "      <td>7</td>\n",
       "      <td>Sat</td>\n",
       "      <td>AKLDEL</td>\n",
       "      <td>New Zealand</td>\n",
       "      <td>1</td>\n",
       "      <td>0</td>\n",
       "      <td>0</td>\n",
       "      <td>5.52</td>\n",
       "      <td>0</td>\n",
       "    </tr>\n",
       "    <tr>\n",
       "      <th>1</th>\n",
       "      <td>1</td>\n",
       "      <td>Internet</td>\n",
       "      <td>RoundTrip</td>\n",
       "      <td>112</td>\n",
       "      <td>20</td>\n",
       "      <td>3</td>\n",
       "      <td>Sat</td>\n",
       "      <td>AKLDEL</td>\n",
       "      <td>New Zealand</td>\n",
       "      <td>0</td>\n",
       "      <td>0</td>\n",
       "      <td>0</td>\n",
       "      <td>5.52</td>\n",
       "      <td>0</td>\n",
       "    </tr>\n",
       "    <tr>\n",
       "      <th>2</th>\n",
       "      <td>2</td>\n",
       "      <td>Internet</td>\n",
       "      <td>RoundTrip</td>\n",
       "      <td>243</td>\n",
       "      <td>22</td>\n",
       "      <td>17</td>\n",
       "      <td>Wed</td>\n",
       "      <td>AKLDEL</td>\n",
       "      <td>India</td>\n",
       "      <td>1</td>\n",
       "      <td>1</td>\n",
       "      <td>0</td>\n",
       "      <td>5.52</td>\n",
       "      <td>0</td>\n",
       "    </tr>\n",
       "  </tbody>\n",
       "</table>\n",
       "</div>"
      ],
      "text/plain": [
       "   num_passengers sales_channel  trip_type  purchase_lead  length_of_stay  \\\n",
       "0               2      Internet  RoundTrip            262              19   \n",
       "1               1      Internet  RoundTrip            112              20   \n",
       "2               2      Internet  RoundTrip            243              22   \n",
       "\n",
       "   flight_hour flight_day   route booking_origin  wants_extra_baggage  \\\n",
       "0            7        Sat  AKLDEL    New Zealand                    1   \n",
       "1            3        Sat  AKLDEL    New Zealand                    0   \n",
       "2           17        Wed  AKLDEL          India                    1   \n",
       "\n",
       "   wants_preferred_seat  wants_in_flight_meals  flight_duration  \\\n",
       "0                     0                      0             5.52   \n",
       "1                     0                      0             5.52   \n",
       "2                     1                      0             5.52   \n",
       "\n",
       "   booking_complete  \n",
       "0                 0  \n",
       "1                 0  \n",
       "2                 0  "
      ]
     },
     "execution_count": 167,
     "metadata": {},
     "output_type": "execute_result"
    }
   ],
   "source": [
    "df_cust.head(3)"
   ]
  },
  {
   "cell_type": "code",
   "execution_count": 168,
   "id": "d4d82128",
   "metadata": {},
   "outputs": [
    {
     "name": "stdout",
     "output_type": "stream",
     "text": [
      "<class 'pandas.core.frame.DataFrame'>\n",
      "RangeIndex: 50000 entries, 0 to 49999\n",
      "Data columns (total 14 columns):\n",
      " #   Column                 Non-Null Count  Dtype  \n",
      "---  ------                 --------------  -----  \n",
      " 0   num_passengers         50000 non-null  int64  \n",
      " 1   sales_channel          50000 non-null  object \n",
      " 2   trip_type              50000 non-null  object \n",
      " 3   purchase_lead          50000 non-null  int64  \n",
      " 4   length_of_stay         50000 non-null  int64  \n",
      " 5   flight_hour            50000 non-null  int64  \n",
      " 6   flight_day             50000 non-null  object \n",
      " 7   route                  50000 non-null  object \n",
      " 8   booking_origin         50000 non-null  object \n",
      " 9   wants_extra_baggage    50000 non-null  int64  \n",
      " 10  wants_preferred_seat   50000 non-null  int64  \n",
      " 11  wants_in_flight_meals  50000 non-null  int64  \n",
      " 12  flight_duration        50000 non-null  float64\n",
      " 13  booking_complete       50000 non-null  int64  \n",
      "dtypes: float64(1), int64(8), object(5)\n",
      "memory usage: 5.3+ MB\n"
     ]
    }
   ],
   "source": [
    "df_cust.info()"
   ]
  },
  {
   "cell_type": "markdown",
   "id": "f359e352",
   "metadata": {},
   "source": [
    "- num_passengers = nomor penumpang\n",
    "- sales_channel = saluran penjualan\n",
    "- trip_type = jenis jenis trip\n",
    "- purchase_lead = prospek pembelian\n",
    "- length_of_stay = jumlah hari untuk tinggal\n",
    "- flight_hour = jumlah waktu yang dihabiskan pilot untuk terbang selama periode tertentu\n",
    "- flight_day = hari penerbanagn dari tengah malam hingga tengah malam\n",
    "- route =  rute\n",
    "- booking_origin = tempat reservation booking dibuat\n",
    "- wants_extra_baggage = yang mau bagasi ekstra\n",
    "- wants_in_flight_meals = yang mau makanan penerbangan\n",
    "- flight_duration = waktu yang dibutuhkan penerbangan dari keberangkatan ke kedatangan\n",
    "- booking_complete = reservasi atau pemesanan yang sudah selesai yang sudah dikonfirmasi"
   ]
  },
  {
   "cell_type": "code",
   "execution_count": 169,
   "id": "a04e76d6",
   "metadata": {},
   "outputs": [
    {
     "data": {
      "text/plain": [
       "(50000, 14)"
      ]
     },
     "execution_count": 169,
     "metadata": {},
     "output_type": "execute_result"
    }
   ],
   "source": [
    "df_cust.shape"
   ]
  },
  {
   "cell_type": "code",
   "execution_count": 170,
   "id": "00bde05b",
   "metadata": {},
   "outputs": [
    {
     "data": {
      "text/plain": [
       "Index(['num_passengers', 'sales_channel', 'trip_type', 'purchase_lead',\n",
       "       'length_of_stay', 'flight_hour', 'flight_day', 'route',\n",
       "       'booking_origin', 'wants_extra_baggage', 'wants_preferred_seat',\n",
       "       'wants_in_flight_meals', 'flight_duration', 'booking_complete'],\n",
       "      dtype='object')"
      ]
     },
     "execution_count": 170,
     "metadata": {},
     "output_type": "execute_result"
    }
   ],
   "source": [
    "#check the columns\n",
    "df_cust.columns"
   ]
  },
  {
   "cell_type": "markdown",
   "id": "684c3cf4",
   "metadata": {},
   "source": [
    "### Exploratory Data Analysis (EDA)"
   ]
  },
  {
   "cell_type": "markdown",
   "id": "5d891975",
   "metadata": {},
   "source": [
    "**var target = 'booking_complete'**"
   ]
  },
  {
   "cell_type": "code",
   "execution_count": 171,
   "id": "e286a262",
   "metadata": {
    "scrolled": true
   },
   "outputs": [
    {
     "data": {
      "text/html": [
       "<div>\n",
       "<style scoped>\n",
       "    .dataframe tbody tr th:only-of-type {\n",
       "        vertical-align: middle;\n",
       "    }\n",
       "\n",
       "    .dataframe tbody tr th {\n",
       "        vertical-align: top;\n",
       "    }\n",
       "\n",
       "    .dataframe thead th {\n",
       "        text-align: right;\n",
       "    }\n",
       "</style>\n",
       "<table border=\"1\" class=\"dataframe\">\n",
       "  <thead>\n",
       "    <tr style=\"text-align: right;\">\n",
       "      <th></th>\n",
       "      <th>num_passengers</th>\n",
       "      <th>purchase_lead</th>\n",
       "      <th>length_of_stay</th>\n",
       "      <th>flight_hour</th>\n",
       "      <th>wants_extra_baggage</th>\n",
       "      <th>wants_preferred_seat</th>\n",
       "      <th>wants_in_flight_meals</th>\n",
       "      <th>flight_duration</th>\n",
       "      <th>booking_complete</th>\n",
       "    </tr>\n",
       "  </thead>\n",
       "  <tbody>\n",
       "    <tr>\n",
       "      <th>count</th>\n",
       "      <td>50000.000000</td>\n",
       "      <td>50000.000000</td>\n",
       "      <td>50000.00000</td>\n",
       "      <td>50000.00000</td>\n",
       "      <td>50000.000000</td>\n",
       "      <td>50000.000000</td>\n",
       "      <td>50000.000000</td>\n",
       "      <td>50000.000000</td>\n",
       "      <td>50000.000000</td>\n",
       "    </tr>\n",
       "    <tr>\n",
       "      <th>mean</th>\n",
       "      <td>1.591240</td>\n",
       "      <td>84.940480</td>\n",
       "      <td>23.04456</td>\n",
       "      <td>9.06634</td>\n",
       "      <td>0.668780</td>\n",
       "      <td>0.296960</td>\n",
       "      <td>0.427140</td>\n",
       "      <td>7.277561</td>\n",
       "      <td>0.149560</td>\n",
       "    </tr>\n",
       "    <tr>\n",
       "      <th>std</th>\n",
       "      <td>1.020165</td>\n",
       "      <td>90.451378</td>\n",
       "      <td>33.88767</td>\n",
       "      <td>5.41266</td>\n",
       "      <td>0.470657</td>\n",
       "      <td>0.456923</td>\n",
       "      <td>0.494668</td>\n",
       "      <td>1.496863</td>\n",
       "      <td>0.356643</td>\n",
       "    </tr>\n",
       "    <tr>\n",
       "      <th>min</th>\n",
       "      <td>1.000000</td>\n",
       "      <td>0.000000</td>\n",
       "      <td>0.00000</td>\n",
       "      <td>0.00000</td>\n",
       "      <td>0.000000</td>\n",
       "      <td>0.000000</td>\n",
       "      <td>0.000000</td>\n",
       "      <td>4.670000</td>\n",
       "      <td>0.000000</td>\n",
       "    </tr>\n",
       "    <tr>\n",
       "      <th>25%</th>\n",
       "      <td>1.000000</td>\n",
       "      <td>21.000000</td>\n",
       "      <td>5.00000</td>\n",
       "      <td>5.00000</td>\n",
       "      <td>0.000000</td>\n",
       "      <td>0.000000</td>\n",
       "      <td>0.000000</td>\n",
       "      <td>5.620000</td>\n",
       "      <td>0.000000</td>\n",
       "    </tr>\n",
       "    <tr>\n",
       "      <th>50%</th>\n",
       "      <td>1.000000</td>\n",
       "      <td>51.000000</td>\n",
       "      <td>17.00000</td>\n",
       "      <td>9.00000</td>\n",
       "      <td>1.000000</td>\n",
       "      <td>0.000000</td>\n",
       "      <td>0.000000</td>\n",
       "      <td>7.570000</td>\n",
       "      <td>0.000000</td>\n",
       "    </tr>\n",
       "    <tr>\n",
       "      <th>75%</th>\n",
       "      <td>2.000000</td>\n",
       "      <td>115.000000</td>\n",
       "      <td>28.00000</td>\n",
       "      <td>13.00000</td>\n",
       "      <td>1.000000</td>\n",
       "      <td>1.000000</td>\n",
       "      <td>1.000000</td>\n",
       "      <td>8.830000</td>\n",
       "      <td>0.000000</td>\n",
       "    </tr>\n",
       "    <tr>\n",
       "      <th>max</th>\n",
       "      <td>9.000000</td>\n",
       "      <td>867.000000</td>\n",
       "      <td>778.00000</td>\n",
       "      <td>23.00000</td>\n",
       "      <td>1.000000</td>\n",
       "      <td>1.000000</td>\n",
       "      <td>1.000000</td>\n",
       "      <td>9.500000</td>\n",
       "      <td>1.000000</td>\n",
       "    </tr>\n",
       "  </tbody>\n",
       "</table>\n",
       "</div>"
      ],
      "text/plain": [
       "       num_passengers  purchase_lead  length_of_stay  flight_hour  \\\n",
       "count    50000.000000   50000.000000     50000.00000  50000.00000   \n",
       "mean         1.591240      84.940480        23.04456      9.06634   \n",
       "std          1.020165      90.451378        33.88767      5.41266   \n",
       "min          1.000000       0.000000         0.00000      0.00000   \n",
       "25%          1.000000      21.000000         5.00000      5.00000   \n",
       "50%          1.000000      51.000000        17.00000      9.00000   \n",
       "75%          2.000000     115.000000        28.00000     13.00000   \n",
       "max          9.000000     867.000000       778.00000     23.00000   \n",
       "\n",
       "       wants_extra_baggage  wants_preferred_seat  wants_in_flight_meals  \\\n",
       "count         50000.000000          50000.000000           50000.000000   \n",
       "mean              0.668780              0.296960               0.427140   \n",
       "std               0.470657              0.456923               0.494668   \n",
       "min               0.000000              0.000000               0.000000   \n",
       "25%               0.000000              0.000000               0.000000   \n",
       "50%               1.000000              0.000000               0.000000   \n",
       "75%               1.000000              1.000000               1.000000   \n",
       "max               1.000000              1.000000               1.000000   \n",
       "\n",
       "       flight_duration  booking_complete  \n",
       "count     50000.000000      50000.000000  \n",
       "mean          7.277561          0.149560  \n",
       "std           1.496863          0.356643  \n",
       "min           4.670000          0.000000  \n",
       "25%           5.620000          0.000000  \n",
       "50%           7.570000          0.000000  \n",
       "75%           8.830000          0.000000  \n",
       "max           9.500000          1.000000  "
      ]
     },
     "execution_count": 171,
     "metadata": {},
     "output_type": "execute_result"
    }
   ],
   "source": [
    "#see the summary of dataframe\n",
    "df_cust.describe()"
   ]
  },
  {
   "cell_type": "code",
   "execution_count": 172,
   "id": "6c563221",
   "metadata": {
    "scrolled": true
   },
   "outputs": [
    {
     "data": {
      "text/plain": [
       "num_passengers           False\n",
       "sales_channel            False\n",
       "trip_type                False\n",
       "purchase_lead            False\n",
       "length_of_stay           False\n",
       "flight_hour              False\n",
       "flight_day               False\n",
       "route                    False\n",
       "booking_origin           False\n",
       "wants_extra_baggage      False\n",
       "wants_preferred_seat     False\n",
       "wants_in_flight_meals    False\n",
       "flight_duration          False\n",
       "booking_complete         False\n",
       "dtype: bool"
      ]
     },
     "execution_count": 172,
     "metadata": {},
     "output_type": "execute_result"
    }
   ],
   "source": [
    "df_cust.isnull().any()"
   ]
  },
  {
   "cell_type": "markdown",
   "id": "499379e6",
   "metadata": {},
   "source": [
    "#### flight duration"
   ]
  },
  {
   "cell_type": "code",
   "execution_count": 173,
   "id": "21d34707",
   "metadata": {},
   "outputs": [
    {
     "data": {
      "image/png": "[encoded data removed]",
      "text/plain": [
       "<Figure size 1000x500 with 1 Axes>"
      ]
     },
     "metadata": {},
     "output_type": "display_data"
    }
   ],
   "source": [
    "fig = plt.figure(figsize=(10, 5))\n",
    "sns.countplot(df_cust['flight_duration'], hue=df_cust['booking_complete'], palette = 'Blues_d')\n",
    "sns.set(rc={'figure.figsize':(12,12)}) # width, height"
   ]
  },
  {
   "cell_type": "code",
   "execution_count": 174,
   "id": "032d6e84",
   "metadata": {},
   "outputs": [
    {
     "data": {
      "text/plain": [
       "<AxesSubplot:xlabel='flight_duration', ylabel='Density'>"
      ]
     },
     "execution_count": 174,
     "metadata": {},
     "output_type": "execute_result"
    },
    {
     "data": {
      "image/png": "[encoded data removed]",
      "text/plain": [
       "<Figure size 1000x500 with 1 Axes>"
      ]
     },
     "metadata": {},
     "output_type": "display_data"
    }
   ],
   "source": [
    "fig = plt.figure(figsize=(10, 5))\n",
    "sns.distplot(df_cust['flight_duration'])"
   ]
  },
  {
   "cell_type": "code",
   "execution_count": 175,
   "id": "b9fa767a",
   "metadata": {},
   "outputs": [
    {
     "data": {
      "text/plain": [
       "7.277560799998812"
      ]
     },
     "execution_count": 175,
     "metadata": {},
     "output_type": "execute_result"
    }
   ],
   "source": [
    "df_cust['flight_duration'].mean()"
   ]
  },
  {
   "cell_type": "markdown",
   "id": "3c86eac9",
   "metadata": {},
   "source": [
    "- most flight duration occurs for more than 8 hours\n",
    "- the mean flight duration is 7.3 hours\n",
    "- many made flights longer than 8 hours for which the order had not been confirmed\n",
    "- if seen from the distribution, flight duration has left skewed"
   ]
  },
  {
   "cell_type": "markdown",
   "id": "378d4977",
   "metadata": {},
   "source": [
    "#### purchase lead"
   ]
  },
  {
   "cell_type": "code",
   "execution_count": 176,
   "id": "419ed4f6",
   "metadata": {},
   "outputs": [
    {
     "data": {
      "text/plain": [
       "<AxesSubplot:xlabel='purchase_lead', ylabel='Density'>"
      ]
     },
     "execution_count": 176,
     "metadata": {},
     "output_type": "execute_result"
    },
    {
     "data": {
      "image/png": "[encoded data removed]",
      "text/plain": [
       "<Figure size 1000x500 with 1 Axes>"
      ]
     },
     "metadata": {},
     "output_type": "display_data"
    }
   ],
   "source": [
    "fig = plt.figure(figsize=(10, 5))\n",
    "sns.distplot(df_cust['purchase_lead'])"
   ]
  },
  {
   "cell_type": "markdown",
   "id": "db31a5ad",
   "metadata": {},
   "source": [
    "- purchase lead has a right skew which may have outliers"
   ]
  },
  {
   "cell_type": "markdown",
   "id": "d67e5127",
   "metadata": {},
   "source": [
    "#### flight hour"
   ]
  },
  {
   "cell_type": "code",
   "execution_count": 177,
   "id": "023a161b",
   "metadata": {
    "scrolled": false
   },
   "outputs": [
    {
     "data": {
      "text/plain": [
       "<AxesSubplot:xlabel='flight_hour', ylabel='Density'>"
      ]
     },
     "execution_count": 177,
     "metadata": {},
     "output_type": "execute_result"
    },
    {
     "data": {
      "image/png": "[encoded data removed]",
      "text/plain": [
       "<Figure size 1000x500 with 1 Axes>"
      ]
     },
     "metadata": {},
     "output_type": "display_data"
    }
   ],
   "source": [
    "fig = plt.figure(figsize=(10, 5))\n",
    "sns.distplot(df_cust['flight_hour'])"
   ]
  },
  {
   "cell_type": "code",
   "execution_count": 178,
   "id": "d97cc8da",
   "metadata": {},
   "outputs": [
    {
     "data": {
      "image/png": "[encoded data removed]",
      "text/plain": [
       "<Figure size 1000x500 with 1 Axes>"
      ]
     },
     "metadata": {},
     "output_type": "display_data"
    }
   ],
   "source": [
    "fig = plt.figure(figsize=(10, 5))\n",
    "sns.countplot(df_cust['flight_hour'], hue=df_cust['booking_complete'], palette = 'Blues_d')\n",
    "sns.set(rc={'figure.figsize':(12,12)}) # width, height"
   ]
  },
  {
   "cell_type": "markdown",
   "id": "3c94293a",
   "metadata": {},
   "source": [
    "- the average flight_hour is about 15 hours\n",
    "- there is a skewed which is an indication if there are outliers"
   ]
  },
  {
   "cell_type": "markdown",
   "id": "b4c7e3ff",
   "metadata": {},
   "source": [
    "### booking complete"
   ]
  },
  {
   "cell_type": "code",
   "execution_count": 179,
   "id": "34f362a0",
   "metadata": {},
   "outputs": [
    {
     "data": {
      "text/plain": [
       "<AxesSubplot:xlabel='booking_complete', ylabel='Density'>"
      ]
     },
     "execution_count": 179,
     "metadata": {},
     "output_type": "execute_result"
    },
    {
     "data": {
      "image/png": "[encoded data removed]",
      "text/plain": [
       "<Figure size 1000x500 with 1 Axes>"
      ]
     },
     "metadata": {},
     "output_type": "display_data"
    }
   ],
   "source": [
    "fig = plt.figure(figsize=(10, 5))\n",
    "sns.distplot(df_cust['booking_complete'])"
   ]
  },
  {
   "cell_type": "markdown",
   "id": "8f0188a3",
   "metadata": {},
   "source": [
    "- if we see at this distribution, mostly customer still not complete the booking"
   ]
  },
  {
   "cell_type": "code",
   "execution_count": 180,
   "id": "cdec6a40",
   "metadata": {},
   "outputs": [
    {
     "data": {
      "text/plain": [
       "<AxesSubplot:xlabel='length_of_stay', ylabel='Density'>"
      ]
     },
     "execution_count": 180,
     "metadata": {},
     "output_type": "execute_result"
    },
    {
     "data": {
      "image/png": "[encoded data removed]",
      "text/plain": [
       "<Figure size 1000x500 with 1 Axes>"
      ]
     },
     "metadata": {},
     "output_type": "display_data"
    }
   ],
   "source": [
    "fig = plt.figure(figsize=(10, 5))\n",
    "sns.distplot(df_cust['length_of_stay'])"
   ]
  },
  {
   "cell_type": "markdown",
   "id": "3c518ad8",
   "metadata": {},
   "source": [
    "- in the section length of stay there is a right skew which is an indication of an outlier"
   ]
  },
  {
   "cell_type": "code",
   "execution_count": 181,
   "id": "dbcefcd2",
   "metadata": {
    "scrolled": true
   },
   "outputs": [
    {
     "data": {
      "text/plain": [
       "<AxesSubplot:xlabel='wants_extra_baggage', ylabel='Density'>"
      ]
     },
     "execution_count": 181,
     "metadata": {},
     "output_type": "execute_result"
    },
    {
     "data": {
      "image/png": "[encoded data removed]",
      "text/plain": [
       "<Figure size 1000x500 with 1 Axes>"
      ]
     },
     "metadata": {},
     "output_type": "display_data"
    }
   ],
   "source": [
    "fig = plt.figure(figsize=(10, 5))\n",
    "sns.distplot(df_cust['wants_extra_baggage'])"
   ]
  },
  {
   "cell_type": "code",
   "execution_count": 182,
   "id": "78850aac",
   "metadata": {},
   "outputs": [
    {
     "data": {
      "image/png": "[encoded data removed]",
      "text/plain": [
       "<Figure size 1000x500 with 1 Axes>"
      ]
     },
     "metadata": {},
     "output_type": "display_data"
    }
   ],
   "source": [
    "fig = plt.figure(figsize=(10, 5))\n",
    "sns.countplot(df_cust['wants_extra_baggage'], hue=df_cust['booking_complete'], palette = 'Blues_d')\n",
    "sns.set(rc={'figure.figsize':(12,12)}) # width, height"
   ]
  },
  {
   "cell_type": "markdown",
   "id": "6953b9b7",
   "metadata": {},
   "source": [
    "- mostly customers want extra baggage\n",
    "- and mostly from customers who ask for more baggage, they haven't made a complete booking"
   ]
  },
  {
   "cell_type": "code",
   "execution_count": 183,
   "id": "22b3742f",
   "metadata": {},
   "outputs": [
    {
     "data": {
      "text/plain": [
       "<AxesSubplot:xlabel='wants_preferred_seat', ylabel='Density'>"
      ]
     },
     "execution_count": 183,
     "metadata": {},
     "output_type": "execute_result"
    },
    {
     "data": {
      "image/png": "[encoded data removed]",
      "text/plain": [
       "<Figure size 1000x500 with 1 Axes>"
      ]
     },
     "metadata": {},
     "output_type": "display_data"
    }
   ],
   "source": [
    "fig = plt.figure(figsize=(10, 5))\n",
    "sns.distplot(df_cust['wants_preferred_seat'])"
   ]
  },
  {
   "cell_type": "code",
   "execution_count": 184,
   "id": "08ddd334",
   "metadata": {},
   "outputs": [
    {
     "data": {
      "image/png": "[encoded data removed]",
      "text/plain": [
       "<Figure size 1000x500 with 1 Axes>"
      ]
     },
     "metadata": {},
     "output_type": "display_data"
    }
   ],
   "source": [
    "fig = plt.figure(figsize=(10, 5))\n",
    "sns.countplot(df_cust['wants_in_flight_meals'], hue=df_cust['booking_complete'], palette = 'Blues_d')\n",
    "sns.set(rc={'figure.figsize':(12,12)}) # width, height"
   ]
  },
  {
   "cell_type": "code",
   "execution_count": 185,
   "id": "41af2716",
   "metadata": {},
   "outputs": [
    {
     "data": {
      "text/plain": [
       "<AxesSubplot:xlabel='wants_in_flight_meals', ylabel='Density'>"
      ]
     },
     "execution_count": 185,
     "metadata": {},
     "output_type": "execute_result"
    },
    {
     "data": {
      "image/png": "[encoded data removed]",
      "text/plain": [
       "<Figure size 1000x500 with 1 Axes>"
      ]
     },
     "metadata": {},
     "output_type": "display_data"
    }
   ],
   "source": [
    "fig = plt.figure(figsize=(10, 5))\n",
    "sns.distplot(df_cust['wants_in_flight_meals'])"
   ]
  },
  {
   "cell_type": "markdown",
   "id": "5ea27c89",
   "metadata": {},
   "source": [
    "- most customers don't want flight food\n",
    "- most still haven't made a complete booking"
   ]
  },
  {
   "cell_type": "code",
   "execution_count": 186,
   "id": "384da16a",
   "metadata": {
    "scrolled": true
   },
   "outputs": [
    {
     "data": {
      "text/plain": [
       "Index(['num_passengers', 'sales_channel', 'trip_type', 'purchase_lead',\n",
       "       'length_of_stay', 'flight_hour', 'flight_day', 'route',\n",
       "       'booking_origin', 'wants_extra_baggage', 'wants_preferred_seat',\n",
       "       'wants_in_flight_meals', 'flight_duration', 'booking_complete'],\n",
       "      dtype='object')"
      ]
     },
     "execution_count": 186,
     "metadata": {},
     "output_type": "execute_result"
    }
   ],
   "source": [
    "#check the columns\n",
    "df_cust.columns"
   ]
  },
  {
   "cell_type": "code",
   "execution_count": 187,
   "id": "58ea108e",
   "metadata": {
    "scrolled": true
   },
   "outputs": [
    {
     "data": {
      "text/plain": [
       "<seaborn.axisgrid.FacetGrid at 0x20115876fa0>"
      ]
     },
     "execution_count": 187,
     "metadata": {},
     "output_type": "execute_result"
    },
    {
     "data": {
      "text/plain": [
       "<Figure size 1000x500 with 0 Axes>"
      ]
     },
     "metadata": {},
     "output_type": "display_data"
    },
    {
     "data": {
      "image/png": "[encoded data removed]",
      "text/plain": [
       "<Figure size 550x250 with 1 Axes>"
      ]
     },
     "metadata": {},
     "output_type": "display_data"
    }
   ],
   "source": [
    "fig = plt.figure(figsize=(10, 5))\n",
    "sns.catplot(y='trip_type', kind='count', data=df_cust, height=2.5, aspect=2.2, palette = 'deep')"
   ]
  },
  {
   "cell_type": "code",
   "execution_count": 188,
   "id": "e3427df1",
   "metadata": {},
   "outputs": [
    {
     "data": {
      "text/plain": [
       "<AxesSubplot:xlabel='trip_type', ylabel='count'>"
      ]
     },
     "execution_count": 188,
     "metadata": {},
     "output_type": "execute_result"
    },
    {
     "data": {
      "image/png": "[encoded data removed]",
      "text/plain": [
       "<Figure size 1000x500 with 1 Axes>"
      ]
     },
     "metadata": {},
     "output_type": "display_data"
    }
   ],
   "source": [
    "fig = plt.figure(figsize=(10, 5))\n",
    "sns.countplot(df_cust['trip_type'], hue=df_cust['booking_complete'], palette = 'Blues_d')"
   ]
  },
  {
   "cell_type": "code",
   "execution_count": 189,
   "id": "735bceba",
   "metadata": {
    "scrolled": false
   },
   "outputs": [
    {
     "data": {
      "text/plain": [
       "RoundTrip     49497\n",
       "OneWay          387\n",
       "CircleTrip      116\n",
       "Name: trip_type, dtype: int64"
      ]
     },
     "execution_count": 189,
     "metadata": {},
     "output_type": "execute_result"
    }
   ],
   "source": [
    "df_cust['trip_type'].value_counts()"
   ]
  },
  {
   "cell_type": "code",
   "execution_count": 190,
   "id": "edbee54e",
   "metadata": {
    "scrolled": true
   },
   "outputs": [
    {
     "data": {
      "text/plain": [
       "RoundTrip     99.0%\n",
       "OneWay         0.8%\n",
       "CircleTrip     0.2%\n",
       "Name: trip_type, dtype: object"
      ]
     },
     "execution_count": 190,
     "metadata": {},
     "output_type": "execute_result"
    }
   ],
   "source": [
    "#percentage trip_type rate\n",
    "cr = df_cust.trip_type.value_counts(normalize=True).mul(100).round(1).astype(str) + '%'\n",
    "cr"
   ]
  },
  {
   "cell_type": "markdown",
   "id": "38144164",
   "metadata": {},
   "source": [
    "The summary about the Trip Type  with booking Complete\n",
    "- Mostly the customer do the Trip Type Round Trip\n",
    "- the customer who choose the one way trip just have 0,8 % from the wholes\n",
    "- The customer who choose the circle trip just 0.2%\n",
    "- the customer in the trip type round trip, have the complete booking is more than 5000 and the customer round trip who have not complete booking more than 40000\n",
    "- and the oneway trip custemer mostly not complete booking"
   ]
  },
  {
   "cell_type": "code",
   "execution_count": 191,
   "id": "09773147",
   "metadata": {},
   "outputs": [
    {
     "data": {
      "text/plain": [
       "Mon    8102\n",
       "Wed    7674\n",
       "Tue    7673\n",
       "Thu    7424\n",
       "Fri    6761\n",
       "Sun    6554\n",
       "Sat    5812\n",
       "Name: flight_day, dtype: int64"
      ]
     },
     "execution_count": 191,
     "metadata": {},
     "output_type": "execute_result"
    }
   ],
   "source": [
    "df_cust['flight_day'].value_counts()"
   ]
  },
  {
   "cell_type": "code",
   "execution_count": 192,
   "id": "f9b035cc",
   "metadata": {
    "scrolled": false
   },
   "outputs": [
    {
     "data": {
      "text/plain": [
       "Mon    16.2%\n",
       "Wed    15.3%\n",
       "Tue    15.3%\n",
       "Thu    14.8%\n",
       "Fri    13.5%\n",
       "Sun    13.1%\n",
       "Sat    11.6%\n",
       "Name: flight_day, dtype: object"
      ]
     },
     "execution_count": 192,
     "metadata": {},
     "output_type": "execute_result"
    }
   ],
   "source": [
    "#percentage trip_type rate\n",
    "cf = df_cust.flight_day.value_counts(normalize=True).mul(100).round(1).astype(str) + '%'\n",
    "cf"
   ]
  },
  {
   "cell_type": "code",
   "execution_count": 193,
   "id": "12c481e0",
   "metadata": {},
   "outputs": [
    {
     "data": {
      "text/plain": [
       "<seaborn.axisgrid.FacetGrid at 0x20116bf61c0>"
      ]
     },
     "execution_count": 193,
     "metadata": {},
     "output_type": "execute_result"
    },
    {
     "data": {
      "image/png": "[encoded data removed]",
      "text/plain": [
       "<Figure size 550x250 with 1 Axes>"
      ]
     },
     "metadata": {},
     "output_type": "display_data"
    }
   ],
   "source": [
    "sns.catplot(y='flight_day', kind='count', data=df_cust, height=2.5, aspect=2.2, palette = 'deep')"
   ]
  },
  {
   "cell_type": "code",
   "execution_count": 194,
   "id": "86db084c",
   "metadata": {},
   "outputs": [
    {
     "data": {
      "text/plain": [
       "<AxesSubplot:xlabel='flight_day', ylabel='count'>"
      ]
     },
     "execution_count": 194,
     "metadata": {},
     "output_type": "execute_result"
    },
    {
     "data": {
      "image/png": "[encoded data removed]",
      "text/plain": [
       "<Figure size 1000x500 with 1 Axes>"
      ]
     },
     "metadata": {},
     "output_type": "display_data"
    }
   ],
   "source": [
    "fig = plt.figure(figsize=(10, 5))\n",
    "sns.countplot(df_cust['flight_day'], hue=df_cust['booking_complete'], palette = 'Blues_d')"
   ]
  },
  {
   "cell_type": "markdown",
   "id": "4d850329",
   "metadata": {},
   "source": [
    "the summary about the flight days\n",
    "- Most flight days are Monday, Tuesday and Thursday\n",
    "- Lax flight days are on Saturdays\n",
    "- the average on all days is dominated by not complete bookings"
   ]
  },
  {
   "cell_type": "code",
   "execution_count": 195,
   "id": "b81a6b4f",
   "metadata": {},
   "outputs": [
    {
     "data": {
      "text/plain": [
       "AKLKUL    5.4%\n",
       "PENTPE    1.8%\n",
       "MELSGN    1.7%\n",
       "ICNSIN    1.6%\n",
       "DMKKIX    1.5%\n",
       "          ... \n",
       "LBUTPE    0.0%\n",
       "CXRMEL    0.0%\n",
       "DELKBR    0.0%\n",
       "KOSSYD    0.0%\n",
       "MRUXIY    0.0%\n",
       "Name: route, Length: 799, dtype: object"
      ]
     },
     "execution_count": 195,
     "metadata": {},
     "output_type": "execute_result"
    }
   ],
   "source": [
    "#percentage trip_type rate\n",
    "preroute= df_cust.route.value_counts(normalize=True).mul(100).round(1).astype(str) + '%'\n",
    "preroute"
   ]
  },
  {
   "cell_type": "code",
   "execution_count": 196,
   "id": "229b2f38",
   "metadata": {},
   "outputs": [
    {
     "data": {
      "text/plain": [
       "AKLKUL    2680\n",
       "PENTPE     924\n",
       "MELSGN     842\n",
       "ICNSIN     801\n",
       "DMKKIX     744\n",
       "          ... \n",
       "LBUTPE       1\n",
       "CXRMEL       1\n",
       "DELKBR       1\n",
       "KOSSYD       1\n",
       "MRUXIY       1\n",
       "Name: route, Length: 799, dtype: int64"
      ]
     },
     "execution_count": 196,
     "metadata": {},
     "output_type": "execute_result"
    }
   ],
   "source": [
    "df_cust['route'].value_counts()"
   ]
  },
  {
   "cell_type": "markdown",
   "id": "c9fefc23",
   "metadata": {},
   "source": [
    "- flight route =\n",
    "AKL - KUL\n",
    "PEN - TPE\n",
    "MEL - SGN\n",
    "ICN - SIN\n",
    "DMK - KIX\n",
    "\n",
    "- future plan > change with other options except the first 5\n"
   ]
  },
  {
   "cell_type": "code",
   "execution_count": 197,
   "id": "ebc83372",
   "metadata": {},
   "outputs": [],
   "source": [
    "df_cust['departure'] = df_cust['route'].apply(lambda x: x[:3])"
   ]
  },
  {
   "cell_type": "code",
   "execution_count": 198,
   "id": "7605789e",
   "metadata": {},
   "outputs": [],
   "source": [
    "df_cust['destination'] = df_cust['route'].apply(lambda x: x[3:])"
   ]
  },
  {
   "cell_type": "code",
   "execution_count": 199,
   "id": "d8cbe76d",
   "metadata": {
    "scrolled": true
   },
   "outputs": [
    {
     "data": {
      "text/html": [
       "<div>\n",
       "<style scoped>\n",
       "    .dataframe tbody tr th:only-of-type {\n",
       "        vertical-align: middle;\n",
       "    }\n",
       "\n",
       "    .dataframe tbody tr th {\n",
       "        vertical-align: top;\n",
       "    }\n",
       "\n",
       "    .dataframe thead th {\n",
       "        text-align: right;\n",
       "    }\n",
       "</style>\n",
       "<table border=\"1\" class=\"dataframe\">\n",
       "  <thead>\n",
       "    <tr style=\"text-align: right;\">\n",
       "      <th></th>\n",
       "      <th>num_passengers</th>\n",
       "      <th>sales_channel</th>\n",
       "      <th>trip_type</th>\n",
       "      <th>purchase_lead</th>\n",
       "      <th>length_of_stay</th>\n",
       "      <th>flight_hour</th>\n",
       "      <th>flight_day</th>\n",
       "      <th>route</th>\n",
       "      <th>booking_origin</th>\n",
       "      <th>wants_extra_baggage</th>\n",
       "      <th>wants_preferred_seat</th>\n",
       "      <th>wants_in_flight_meals</th>\n",
       "      <th>flight_duration</th>\n",
       "      <th>booking_complete</th>\n",
       "      <th>departure</th>\n",
       "      <th>destination</th>\n",
       "    </tr>\n",
       "  </thead>\n",
       "  <tbody>\n",
       "    <tr>\n",
       "      <th>0</th>\n",
       "      <td>2</td>\n",
       "      <td>Internet</td>\n",
       "      <td>RoundTrip</td>\n",
       "      <td>262</td>\n",
       "      <td>19</td>\n",
       "      <td>7</td>\n",
       "      <td>Sat</td>\n",
       "      <td>AKLDEL</td>\n",
       "      <td>New Zealand</td>\n",
       "      <td>1</td>\n",
       "      <td>0</td>\n",
       "      <td>0</td>\n",
       "      <td>5.52</td>\n",
       "      <td>0</td>\n",
       "      <td>AKL</td>\n",
       "      <td>DEL</td>\n",
       "    </tr>\n",
       "    <tr>\n",
       "      <th>1</th>\n",
       "      <td>1</td>\n",
       "      <td>Internet</td>\n",
       "      <td>RoundTrip</td>\n",
       "      <td>112</td>\n",
       "      <td>20</td>\n",
       "      <td>3</td>\n",
       "      <td>Sat</td>\n",
       "      <td>AKLDEL</td>\n",
       "      <td>New Zealand</td>\n",
       "      <td>0</td>\n",
       "      <td>0</td>\n",
       "      <td>0</td>\n",
       "      <td>5.52</td>\n",
       "      <td>0</td>\n",
       "      <td>AKL</td>\n",
       "      <td>DEL</td>\n",
       "    </tr>\n",
       "    <tr>\n",
       "      <th>2</th>\n",
       "      <td>2</td>\n",
       "      <td>Internet</td>\n",
       "      <td>RoundTrip</td>\n",
       "      <td>243</td>\n",
       "      <td>22</td>\n",
       "      <td>17</td>\n",
       "      <td>Wed</td>\n",
       "      <td>AKLDEL</td>\n",
       "      <td>India</td>\n",
       "      <td>1</td>\n",
       "      <td>1</td>\n",
       "      <td>0</td>\n",
       "      <td>5.52</td>\n",
       "      <td>0</td>\n",
       "      <td>AKL</td>\n",
       "      <td>DEL</td>\n",
       "    </tr>\n",
       "    <tr>\n",
       "      <th>3</th>\n",
       "      <td>1</td>\n",
       "      <td>Internet</td>\n",
       "      <td>RoundTrip</td>\n",
       "      <td>96</td>\n",
       "      <td>31</td>\n",
       "      <td>4</td>\n",
       "      <td>Sat</td>\n",
       "      <td>AKLDEL</td>\n",
       "      <td>New Zealand</td>\n",
       "      <td>0</td>\n",
       "      <td>0</td>\n",
       "      <td>1</td>\n",
       "      <td>5.52</td>\n",
       "      <td>0</td>\n",
       "      <td>AKL</td>\n",
       "      <td>DEL</td>\n",
       "    </tr>\n",
       "    <tr>\n",
       "      <th>4</th>\n",
       "      <td>2</td>\n",
       "      <td>Internet</td>\n",
       "      <td>RoundTrip</td>\n",
       "      <td>68</td>\n",
       "      <td>22</td>\n",
       "      <td>15</td>\n",
       "      <td>Wed</td>\n",
       "      <td>AKLDEL</td>\n",
       "      <td>India</td>\n",
       "      <td>1</td>\n",
       "      <td>0</td>\n",
       "      <td>1</td>\n",
       "      <td>5.52</td>\n",
       "      <td>0</td>\n",
       "      <td>AKL</td>\n",
       "      <td>DEL</td>\n",
       "    </tr>\n",
       "    <tr>\n",
       "      <th>5</th>\n",
       "      <td>1</td>\n",
       "      <td>Internet</td>\n",
       "      <td>RoundTrip</td>\n",
       "      <td>3</td>\n",
       "      <td>48</td>\n",
       "      <td>20</td>\n",
       "      <td>Thu</td>\n",
       "      <td>AKLDEL</td>\n",
       "      <td>New Zealand</td>\n",
       "      <td>1</td>\n",
       "      <td>0</td>\n",
       "      <td>1</td>\n",
       "      <td>5.52</td>\n",
       "      <td>0</td>\n",
       "      <td>AKL</td>\n",
       "      <td>DEL</td>\n",
       "    </tr>\n",
       "    <tr>\n",
       "      <th>6</th>\n",
       "      <td>3</td>\n",
       "      <td>Internet</td>\n",
       "      <td>RoundTrip</td>\n",
       "      <td>201</td>\n",
       "      <td>33</td>\n",
       "      <td>6</td>\n",
       "      <td>Thu</td>\n",
       "      <td>AKLDEL</td>\n",
       "      <td>New Zealand</td>\n",
       "      <td>1</td>\n",
       "      <td>0</td>\n",
       "      <td>1</td>\n",
       "      <td>5.52</td>\n",
       "      <td>0</td>\n",
       "      <td>AKL</td>\n",
       "      <td>DEL</td>\n",
       "    </tr>\n",
       "    <tr>\n",
       "      <th>7</th>\n",
       "      <td>2</td>\n",
       "      <td>Internet</td>\n",
       "      <td>RoundTrip</td>\n",
       "      <td>238</td>\n",
       "      <td>19</td>\n",
       "      <td>14</td>\n",
       "      <td>Mon</td>\n",
       "      <td>AKLDEL</td>\n",
       "      <td>India</td>\n",
       "      <td>1</td>\n",
       "      <td>0</td>\n",
       "      <td>1</td>\n",
       "      <td>5.52</td>\n",
       "      <td>0</td>\n",
       "      <td>AKL</td>\n",
       "      <td>DEL</td>\n",
       "    </tr>\n",
       "    <tr>\n",
       "      <th>8</th>\n",
       "      <td>1</td>\n",
       "      <td>Internet</td>\n",
       "      <td>RoundTrip</td>\n",
       "      <td>80</td>\n",
       "      <td>22</td>\n",
       "      <td>4</td>\n",
       "      <td>Mon</td>\n",
       "      <td>AKLDEL</td>\n",
       "      <td>New Zealand</td>\n",
       "      <td>0</td>\n",
       "      <td>0</td>\n",
       "      <td>1</td>\n",
       "      <td>5.52</td>\n",
       "      <td>0</td>\n",
       "      <td>AKL</td>\n",
       "      <td>DEL</td>\n",
       "    </tr>\n",
       "    <tr>\n",
       "      <th>9</th>\n",
       "      <td>1</td>\n",
       "      <td>Mobile</td>\n",
       "      <td>RoundTrip</td>\n",
       "      <td>378</td>\n",
       "      <td>30</td>\n",
       "      <td>12</td>\n",
       "      <td>Sun</td>\n",
       "      <td>AKLDEL</td>\n",
       "      <td>India</td>\n",
       "      <td>0</td>\n",
       "      <td>0</td>\n",
       "      <td>0</td>\n",
       "      <td>5.52</td>\n",
       "      <td>0</td>\n",
       "      <td>AKL</td>\n",
       "      <td>DEL</td>\n",
       "    </tr>\n",
       "    <tr>\n",
       "      <th>10</th>\n",
       "      <td>2</td>\n",
       "      <td>Internet</td>\n",
       "      <td>RoundTrip</td>\n",
       "      <td>185</td>\n",
       "      <td>25</td>\n",
       "      <td>14</td>\n",
       "      <td>Tue</td>\n",
       "      <td>AKLDEL</td>\n",
       "      <td>United Kingdom</td>\n",
       "      <td>1</td>\n",
       "      <td>1</td>\n",
       "      <td>1</td>\n",
       "      <td>5.52</td>\n",
       "      <td>0</td>\n",
       "      <td>AKL</td>\n",
       "      <td>DEL</td>\n",
       "    </tr>\n",
       "    <tr>\n",
       "      <th>11</th>\n",
       "      <td>1</td>\n",
       "      <td>Internet</td>\n",
       "      <td>RoundTrip</td>\n",
       "      <td>8</td>\n",
       "      <td>43</td>\n",
       "      <td>2</td>\n",
       "      <td>Sat</td>\n",
       "      <td>AKLDEL</td>\n",
       "      <td>New Zealand</td>\n",
       "      <td>1</td>\n",
       "      <td>1</td>\n",
       "      <td>1</td>\n",
       "      <td>5.52</td>\n",
       "      <td>0</td>\n",
       "      <td>AKL</td>\n",
       "      <td>DEL</td>\n",
       "    </tr>\n",
       "    <tr>\n",
       "      <th>12</th>\n",
       "      <td>4</td>\n",
       "      <td>Internet</td>\n",
       "      <td>RoundTrip</td>\n",
       "      <td>265</td>\n",
       "      <td>24</td>\n",
       "      <td>19</td>\n",
       "      <td>Mon</td>\n",
       "      <td>AKLDEL</td>\n",
       "      <td>New Zealand</td>\n",
       "      <td>1</td>\n",
       "      <td>0</td>\n",
       "      <td>1</td>\n",
       "      <td>5.52</td>\n",
       "      <td>0</td>\n",
       "      <td>AKL</td>\n",
       "      <td>DEL</td>\n",
       "    </tr>\n",
       "    <tr>\n",
       "      <th>13</th>\n",
       "      <td>1</td>\n",
       "      <td>Internet</td>\n",
       "      <td>RoundTrip</td>\n",
       "      <td>185</td>\n",
       "      <td>17</td>\n",
       "      <td>14</td>\n",
       "      <td>Fri</td>\n",
       "      <td>AKLDEL</td>\n",
       "      <td>India</td>\n",
       "      <td>0</td>\n",
       "      <td>0</td>\n",
       "      <td>0</td>\n",
       "      <td>5.52</td>\n",
       "      <td>0</td>\n",
       "      <td>AKL</td>\n",
       "      <td>DEL</td>\n",
       "    </tr>\n",
       "    <tr>\n",
       "      <th>14</th>\n",
       "      <td>1</td>\n",
       "      <td>Internet</td>\n",
       "      <td>RoundTrip</td>\n",
       "      <td>245</td>\n",
       "      <td>34</td>\n",
       "      <td>4</td>\n",
       "      <td>Tue</td>\n",
       "      <td>AKLDEL</td>\n",
       "      <td>New Zealand</td>\n",
       "      <td>1</td>\n",
       "      <td>1</td>\n",
       "      <td>1</td>\n",
       "      <td>5.52</td>\n",
       "      <td>0</td>\n",
       "      <td>AKL</td>\n",
       "      <td>DEL</td>\n",
       "    </tr>\n",
       "  </tbody>\n",
       "</table>\n",
       "</div>"
      ],
      "text/plain": [
       "    num_passengers sales_channel  trip_type  purchase_lead  length_of_stay  \\\n",
       "0                2      Internet  RoundTrip            262              19   \n",
       "1                1      Internet  RoundTrip            112              20   \n",
       "2                2      Internet  RoundTrip            243              22   \n",
       "3                1      Internet  RoundTrip             96              31   \n",
       "4                2      Internet  RoundTrip             68              22   \n",
       "5                1      Internet  RoundTrip              3              48   \n",
       "6                3      Internet  RoundTrip            201              33   \n",
       "7                2      Internet  RoundTrip            238              19   \n",
       "8                1      Internet  RoundTrip             80              22   \n",
       "9                1        Mobile  RoundTrip            378              30   \n",
       "10               2      Internet  RoundTrip            185              25   \n",
       "11               1      Internet  RoundTrip              8              43   \n",
       "12               4      Internet  RoundTrip            265              24   \n",
       "13               1      Internet  RoundTrip            185              17   \n",
       "14               1      Internet  RoundTrip            245              34   \n",
       "\n",
       "    flight_hour flight_day   route  booking_origin  wants_extra_baggage  \\\n",
       "0             7        Sat  AKLDEL     New Zealand                    1   \n",
       "1             3        Sat  AKLDEL     New Zealand                    0   \n",
       "2            17        Wed  AKLDEL           India                    1   \n",
       "3             4        Sat  AKLDEL     New Zealand                    0   \n",
       "4            15        Wed  AKLDEL           India                    1   \n",
       "5            20        Thu  AKLDEL     New Zealand                    1   \n",
       "6             6        Thu  AKLDEL     New Zealand                    1   \n",
       "7            14        Mon  AKLDEL           India                    1   \n",
       "8             4        Mon  AKLDEL     New Zealand                    0   \n",
       "9            12        Sun  AKLDEL           India                    0   \n",
       "10           14        Tue  AKLDEL  United Kingdom                    1   \n",
       "11            2        Sat  AKLDEL     New Zealand                    1   \n",
       "12           19        Mon  AKLDEL     New Zealand                    1   \n",
       "13           14        Fri  AKLDEL           India                    0   \n",
       "14            4        Tue  AKLDEL     New Zealand                    1   \n",
       "\n",
       "    wants_preferred_seat  wants_in_flight_meals  flight_duration  \\\n",
       "0                      0                      0             5.52   \n",
       "1                      0                      0             5.52   \n",
       "2                      1                      0             5.52   \n",
       "3                      0                      1             5.52   \n",
       "4                      0                      1             5.52   \n",
       "5                      0                      1             5.52   \n",
       "6                      0                      1             5.52   \n",
       "7                      0                      1             5.52   \n",
       "8                      0                      1             5.52   \n",
       "9                      0                      0             5.52   \n",
       "10                     1                      1             5.52   \n",
       "11                     1                      1             5.52   \n",
       "12                     0                      1             5.52   \n",
       "13                     0                      0             5.52   \n",
       "14                     1                      1             5.52   \n",
       "\n",
       "    booking_complete departure destination  \n",
       "0                  0       AKL         DEL  \n",
       "1                  0       AKL         DEL  \n",
       "2                  0       AKL         DEL  \n",
       "3                  0       AKL         DEL  \n",
       "4                  0       AKL         DEL  \n",
       "5                  0       AKL         DEL  \n",
       "6                  0       AKL         DEL  \n",
       "7                  0       AKL         DEL  \n",
       "8                  0       AKL         DEL  \n",
       "9                  0       AKL         DEL  \n",
       "10                 0       AKL         DEL  \n",
       "11                 0       AKL         DEL  \n",
       "12                 0       AKL         DEL  \n",
       "13                 0       AKL         DEL  \n",
       "14                 0       AKL         DEL  "
      ]
     },
     "execution_count": 199,
     "metadata": {},
     "output_type": "execute_result"
    }
   ],
   "source": [
    "df_cust.head(15)"
   ]
  },
  {
   "cell_type": "code",
   "execution_count": 200,
   "id": "f60af39a",
   "metadata": {},
   "outputs": [
    {
     "data": {
      "text/plain": [
       "DMK    3747\n",
       "ICN    3732\n",
       "MEL    3468\n",
       "DPS    2902\n",
       "AKL    2849\n",
       "       ... \n",
       "CSX       4\n",
       "NRT       2\n",
       "CXR       1\n",
       "BTJ       1\n",
       "URT       1\n",
       "Name: departure, Length: 85, dtype: int64"
      ]
     },
     "execution_count": 200,
     "metadata": {},
     "output_type": "execute_result"
    }
   ],
   "source": [
    "df_cust['departure'].value_counts()"
   ]
  },
  {
   "cell_type": "code",
   "execution_count": 201,
   "id": "e6371864",
   "metadata": {},
   "outputs": [
    {
     "data": {
      "text/html": [
       "<div>\n",
       "<style scoped>\n",
       "    .dataframe tbody tr th:only-of-type {\n",
       "        vertical-align: middle;\n",
       "    }\n",
       "\n",
       "    .dataframe tbody tr th {\n",
       "        vertical-align: top;\n",
       "    }\n",
       "\n",
       "    .dataframe thead th {\n",
       "        text-align: right;\n",
       "    }\n",
       "</style>\n",
       "<table border=\"1\" class=\"dataframe\">\n",
       "  <thead>\n",
       "    <tr style=\"text-align: right;\">\n",
       "      <th></th>\n",
       "      <th>departure</th>\n",
       "      <th>size</th>\n",
       "    </tr>\n",
       "  </thead>\n",
       "  <tbody>\n",
       "    <tr>\n",
       "      <th>26</th>\n",
       "      <td>DMK</td>\n",
       "      <td>3747</td>\n",
       "    </tr>\n",
       "    <tr>\n",
       "      <th>36</th>\n",
       "      <td>ICN</td>\n",
       "      <td>3732</td>\n",
       "    </tr>\n",
       "    <tr>\n",
       "      <th>56</th>\n",
       "      <td>MEL</td>\n",
       "      <td>3468</td>\n",
       "    </tr>\n",
       "    <tr>\n",
       "      <th>27</th>\n",
       "      <td>DPS</td>\n",
       "      <td>2902</td>\n",
       "    </tr>\n",
       "    <tr>\n",
       "      <th>0</th>\n",
       "      <td>AKL</td>\n",
       "      <td>2849</td>\n",
       "    </tr>\n",
       "    <tr>\n",
       "      <th>33</th>\n",
       "      <td>HKT</td>\n",
       "      <td>2387</td>\n",
       "    </tr>\n",
       "    <tr>\n",
       "      <th>13</th>\n",
       "      <td>CGK</td>\n",
       "      <td>2339</td>\n",
       "    </tr>\n",
       "    <tr>\n",
       "      <th>65</th>\n",
       "      <td>PEN</td>\n",
       "      <td>2111</td>\n",
       "    </tr>\n",
       "    <tr>\n",
       "      <th>34</th>\n",
       "      <td>HND</td>\n",
       "      <td>1774</td>\n",
       "    </tr>\n",
       "    <tr>\n",
       "      <th>17</th>\n",
       "      <td>COK</td>\n",
       "      <td>1673</td>\n",
       "    </tr>\n",
       "  </tbody>\n",
       "</table>\n",
       "</div>"
      ],
      "text/plain": [
       "   departure  size\n",
       "26       DMK  3747\n",
       "36       ICN  3732\n",
       "56       MEL  3468\n",
       "27       DPS  2902\n",
       "0        AKL  2849\n",
       "33       HKT  2387\n",
       "13       CGK  2339\n",
       "65       PEN  2111\n",
       "34       HND  1774\n",
       "17       COK  1673"
      ]
     },
     "execution_count": 201,
     "metadata": {},
     "output_type": "execute_result"
    }
   ],
   "source": [
    "#check departure size\n",
    "departure_count = df_cust.groupby(['departure'], as_index=False).size().sort_values('size', ascending=False)\n",
    "departure_count.head(10)"
   ]
  },
  {
   "cell_type": "code",
   "execution_count": 202,
   "id": "66610207",
   "metadata": {},
   "outputs": [
    {
     "data": {
      "text/html": [
       "<div>\n",
       "<style scoped>\n",
       "    .dataframe tbody tr th:only-of-type {\n",
       "        vertical-align: middle;\n",
       "    }\n",
       "\n",
       "    .dataframe tbody tr th {\n",
       "        vertical-align: top;\n",
       "    }\n",
       "\n",
       "    .dataframe thead th {\n",
       "        text-align: right;\n",
       "    }\n",
       "</style>\n",
       "<table border=\"1\" class=\"dataframe\">\n",
       "  <thead>\n",
       "    <tr style=\"text-align: right;\">\n",
       "      <th></th>\n",
       "      <th>destination</th>\n",
       "      <th>size</th>\n",
       "    </tr>\n",
       "  </thead>\n",
       "  <tbody>\n",
       "    <tr>\n",
       "      <th>52</th>\n",
       "      <td>SYD</td>\n",
       "      <td>6616</td>\n",
       "    </tr>\n",
       "    <tr>\n",
       "      <th>39</th>\n",
       "      <td>PER</td>\n",
       "      <td>4992</td>\n",
       "    </tr>\n",
       "    <tr>\n",
       "      <th>28</th>\n",
       "      <td>MEL</td>\n",
       "      <td>4444</td>\n",
       "    </tr>\n",
       "    <tr>\n",
       "      <th>55</th>\n",
       "      <td>TPE</td>\n",
       "      <td>4044</td>\n",
       "    </tr>\n",
       "    <tr>\n",
       "      <th>35</th>\n",
       "      <td>OOL</td>\n",
       "      <td>2796</td>\n",
       "    </tr>\n",
       "    <tr>\n",
       "      <th>22</th>\n",
       "      <td>KUL</td>\n",
       "      <td>2688</td>\n",
       "    </tr>\n",
       "    <tr>\n",
       "      <th>38</th>\n",
       "      <td>PEN</td>\n",
       "      <td>2483</td>\n",
       "    </tr>\n",
       "    <tr>\n",
       "      <th>19</th>\n",
       "      <td>KIX</td>\n",
       "      <td>2240</td>\n",
       "    </tr>\n",
       "    <tr>\n",
       "      <th>11</th>\n",
       "      <td>ICN</td>\n",
       "      <td>2213</td>\n",
       "    </tr>\n",
       "    <tr>\n",
       "      <th>48</th>\n",
       "      <td>SIN</td>\n",
       "      <td>2157</td>\n",
       "    </tr>\n",
       "  </tbody>\n",
       "</table>\n",
       "</div>"
      ],
      "text/plain": [
       "   destination  size\n",
       "52         SYD  6616\n",
       "39         PER  4992\n",
       "28         MEL  4444\n",
       "55         TPE  4044\n",
       "35         OOL  2796\n",
       "22         KUL  2688\n",
       "38         PEN  2483\n",
       "19         KIX  2240\n",
       "11         ICN  2213\n",
       "48         SIN  2157"
      ]
     },
     "execution_count": 202,
     "metadata": {},
     "output_type": "execute_result"
    }
   ],
   "source": [
    "#check size detination\n",
    "destination_count = df_cust.groupby(['destination'], as_index=False).size().sort_values('size', ascending=False)\n",
    "destination_count.head(10)"
   ]
  },
  {
   "cell_type": "code",
   "execution_count": 203,
   "id": "16a5ce43",
   "metadata": {},
   "outputs": [
    {
     "data": {
      "text/html": [
       "<div>\n",
       "<style scoped>\n",
       "    .dataframe tbody tr th:only-of-type {\n",
       "        vertical-align: middle;\n",
       "    }\n",
       "\n",
       "    .dataframe tbody tr th {\n",
       "        vertical-align: top;\n",
       "    }\n",
       "\n",
       "    .dataframe thead th {\n",
       "        text-align: right;\n",
       "    }\n",
       "</style>\n",
       "<table border=\"1\" class=\"dataframe\">\n",
       "  <thead>\n",
       "    <tr style=\"text-align: right;\">\n",
       "      <th></th>\n",
       "      <th>booking_origin</th>\n",
       "      <th>size</th>\n",
       "    </tr>\n",
       "  </thead>\n",
       "  <tbody>\n",
       "    <tr>\n",
       "      <th>4</th>\n",
       "      <td>Australia</td>\n",
       "      <td>17872</td>\n",
       "    </tr>\n",
       "    <tr>\n",
       "      <th>51</th>\n",
       "      <td>Malaysia</td>\n",
       "      <td>7174</td>\n",
       "    </tr>\n",
       "    <tr>\n",
       "      <th>85</th>\n",
       "      <td>South Korea</td>\n",
       "      <td>4559</td>\n",
       "    </tr>\n",
       "    <tr>\n",
       "      <th>43</th>\n",
       "      <td>Japan</td>\n",
       "      <td>3885</td>\n",
       "    </tr>\n",
       "    <tr>\n",
       "      <th>17</th>\n",
       "      <td>China</td>\n",
       "      <td>3387</td>\n",
       "    </tr>\n",
       "    <tr>\n",
       "      <th>37</th>\n",
       "      <td>Indonesia</td>\n",
       "      <td>2369</td>\n",
       "    </tr>\n",
       "    <tr>\n",
       "      <th>91</th>\n",
       "      <td>Taiwan</td>\n",
       "      <td>2077</td>\n",
       "    </tr>\n",
       "    <tr>\n",
       "      <th>93</th>\n",
       "      <td>Thailand</td>\n",
       "      <td>2030</td>\n",
       "    </tr>\n",
       "    <tr>\n",
       "      <th>36</th>\n",
       "      <td>India</td>\n",
       "      <td>1270</td>\n",
       "    </tr>\n",
       "    <tr>\n",
       "      <th>61</th>\n",
       "      <td>New Zealand</td>\n",
       "      <td>1074</td>\n",
       "    </tr>\n",
       "  </tbody>\n",
       "</table>\n",
       "</div>"
      ],
      "text/plain": [
       "   booking_origin   size\n",
       "4       Australia  17872\n",
       "51       Malaysia   7174\n",
       "85    South Korea   4559\n",
       "43          Japan   3885\n",
       "17          China   3387\n",
       "37      Indonesia   2369\n",
       "91         Taiwan   2077\n",
       "93       Thailand   2030\n",
       "36          India   1270\n",
       "61    New Zealand   1074"
      ]
     },
     "execution_count": 203,
     "metadata": {},
     "output_type": "execute_result"
    }
   ],
   "source": [
    "booking_origin_count = df_cust.groupby(['booking_origin'], as_index=False).size().sort_values('size', ascending=False)\n",
    "booking_origin_count.head(10)"
   ]
  },
  {
   "cell_type": "code",
   "execution_count": 204,
   "id": "9496dddd",
   "metadata": {
    "scrolled": true
   },
   "outputs": [
    {
     "data": {
      "text/plain": [
       "Australia               35.7%\n",
       "Malaysia                14.3%\n",
       "South Korea              9.1%\n",
       "Japan                    7.8%\n",
       "China                    6.8%\n",
       "                        ...  \n",
       "Panama                   0.0%\n",
       "Tonga                    0.0%\n",
       "Tanzania                 0.0%\n",
       "Bulgaria                 0.0%\n",
       "Svalbard & Jan Mayen     0.0%\n",
       "Name: booking_origin, Length: 104, dtype: object"
      ]
     },
     "execution_count": 204,
     "metadata": {},
     "output_type": "execute_result"
    }
   ],
   "source": [
    "#percentage trip_type rate\n",
    "pre_bo= df_cust.booking_origin.value_counts(normalize=True).mul(100).round(1).astype(str) + '%'\n",
    "pre_bo"
   ]
  },
  {
   "cell_type": "markdown",
   "id": "aeef47c7",
   "metadata": {},
   "source": [
    "- the most booking origins are in Australia, Malaysia, South Korea, Japan and China\n",
    "- future plan > later the others will be replaced with other opt"
   ]
  },
  {
   "cell_type": "code",
   "execution_count": 205,
   "id": "467f2ee3",
   "metadata": {},
   "outputs": [],
   "source": [
    "dfs = df_cust.groupby(['sales_channel','route'])['booking_complete'].sum().reset_index()"
   ]
  },
  {
   "cell_type": "markdown",
   "id": "ed3ff36f",
   "metadata": {},
   "source": [
    "- AKL = auckland\n",
    "- KUL = kualalumpur"
   ]
  },
  {
   "cell_type": "code",
   "execution_count": 206,
   "id": "fb85968a",
   "metadata": {
    "scrolled": false
   },
   "outputs": [
    {
     "data": {
      "text/html": [
       "<div>\n",
       "<style scoped>\n",
       "    .dataframe tbody tr th:only-of-type {\n",
       "        vertical-align: middle;\n",
       "    }\n",
       "\n",
       "    .dataframe tbody tr th {\n",
       "        vertical-align: top;\n",
       "    }\n",
       "\n",
       "    .dataframe thead th {\n",
       "        text-align: right;\n",
       "    }\n",
       "</style>\n",
       "<table border=\"1\" class=\"dataframe\">\n",
       "  <thead>\n",
       "    <tr style=\"text-align: right;\">\n",
       "      <th></th>\n",
       "      <th>sales_channel</th>\n",
       "      <th>route</th>\n",
       "      <th>booking_complete</th>\n",
       "    </tr>\n",
       "  </thead>\n",
       "  <tbody>\n",
       "    <tr>\n",
       "      <th>0</th>\n",
       "      <td>Internet</td>\n",
       "      <td>AKLDEL</td>\n",
       "      <td>0</td>\n",
       "    </tr>\n",
       "    <tr>\n",
       "      <th>1</th>\n",
       "      <td>Internet</td>\n",
       "      <td>AKLHGH</td>\n",
       "      <td>0</td>\n",
       "    </tr>\n",
       "    <tr>\n",
       "      <th>2</th>\n",
       "      <td>Internet</td>\n",
       "      <td>AKLHND</td>\n",
       "      <td>0</td>\n",
       "    </tr>\n",
       "    <tr>\n",
       "      <th>3</th>\n",
       "      <td>Internet</td>\n",
       "      <td>AKLICN</td>\n",
       "      <td>0</td>\n",
       "    </tr>\n",
       "    <tr>\n",
       "      <th>4</th>\n",
       "      <td>Internet</td>\n",
       "      <td>AKLKIX</td>\n",
       "      <td>0</td>\n",
       "    </tr>\n",
       "  </tbody>\n",
       "</table>\n",
       "</div>"
      ],
      "text/plain": [
       "  sales_channel   route  booking_complete\n",
       "0      Internet  AKLDEL                 0\n",
       "1      Internet  AKLHGH                 0\n",
       "2      Internet  AKLHND                 0\n",
       "3      Internet  AKLICN                 0\n",
       "4      Internet  AKLKIX                 0"
      ]
     },
     "execution_count": 206,
     "metadata": {},
     "output_type": "execute_result"
    }
   ],
   "source": [
    "dfs.head()"
   ]
  },
  {
   "cell_type": "code",
   "execution_count": 207,
   "id": "65eaca67",
   "metadata": {},
   "outputs": [
    {
     "data": {
      "text/html": [
       "<div>\n",
       "<style scoped>\n",
       "    .dataframe tbody tr th:only-of-type {\n",
       "        vertical-align: middle;\n",
       "    }\n",
       "\n",
       "    .dataframe tbody tr th {\n",
       "        vertical-align: top;\n",
       "    }\n",
       "\n",
       "    .dataframe thead th {\n",
       "        text-align: right;\n",
       "    }\n",
       "</style>\n",
       "<table border=\"1\" class=\"dataframe\">\n",
       "  <thead>\n",
       "    <tr style=\"text-align: right;\">\n",
       "      <th></th>\n",
       "      <th>sales_channel</th>\n",
       "      <th>route</th>\n",
       "      <th>booking_complete</th>\n",
       "    </tr>\n",
       "  </thead>\n",
       "  <tbody>\n",
       "    <tr>\n",
       "      <th>6</th>\n",
       "      <td>Internet</td>\n",
       "      <td>AKLKUL</td>\n",
       "      <td>533</td>\n",
       "    </tr>\n",
       "    <tr>\n",
       "      <th>787</th>\n",
       "      <td>Mobile</td>\n",
       "      <td>AKLKUL</td>\n",
       "      <td>34</td>\n",
       "    </tr>\n",
       "    <tr>\n",
       "      <th>40</th>\n",
       "      <td>Internet</td>\n",
       "      <td>BKIHND</td>\n",
       "      <td>27</td>\n",
       "    </tr>\n",
       "    <tr>\n",
       "      <th>41</th>\n",
       "      <td>Internet</td>\n",
       "      <td>BKIICN</td>\n",
       "      <td>83</td>\n",
       "    </tr>\n",
       "    <tr>\n",
       "      <th>42</th>\n",
       "      <td>Internet</td>\n",
       "      <td>BKIKIX</td>\n",
       "      <td>34</td>\n",
       "    </tr>\n",
       "    <tr>\n",
       "      <th>...</th>\n",
       "      <td>...</td>\n",
       "      <td>...</td>\n",
       "      <td>...</td>\n",
       "    </tr>\n",
       "    <tr>\n",
       "      <th>704</th>\n",
       "      <td>Internet</td>\n",
       "      <td>PENTPE</td>\n",
       "      <td>371</td>\n",
       "    </tr>\n",
       "    <tr>\n",
       "      <th>1299</th>\n",
       "      <td>Mobile</td>\n",
       "      <td>PENTPE</td>\n",
       "      <td>30</td>\n",
       "    </tr>\n",
       "    <tr>\n",
       "      <th>714</th>\n",
       "      <td>Internet</td>\n",
       "      <td>PERSGN</td>\n",
       "      <td>29</td>\n",
       "    </tr>\n",
       "    <tr>\n",
       "      <th>751</th>\n",
       "      <td>Internet</td>\n",
       "      <td>SBWTPE</td>\n",
       "      <td>31</td>\n",
       "    </tr>\n",
       "    <tr>\n",
       "      <th>756</th>\n",
       "      <td>Internet</td>\n",
       "      <td>SGNSYD</td>\n",
       "      <td>60</td>\n",
       "    </tr>\n",
       "  </tbody>\n",
       "</table>\n",
       "<p>74 rows × 3 columns</p>\n",
       "</div>"
      ],
      "text/plain": [
       "     sales_channel   route  booking_complete\n",
       "6         Internet  AKLKUL               533\n",
       "787         Mobile  AKLKUL                34\n",
       "40        Internet  BKIHND                27\n",
       "41        Internet  BKIICN                83\n",
       "42        Internet  BKIKIX                34\n",
       "...            ...     ...               ...\n",
       "704       Internet  PENTPE               371\n",
       "1299        Mobile  PENTPE                30\n",
       "714       Internet  PERSGN                29\n",
       "751       Internet  SBWTPE                31\n",
       "756       Internet  SGNSYD                60\n",
       "\n",
       "[74 rows x 3 columns]"
      ]
     },
     "execution_count": 207,
     "metadata": {},
     "output_type": "execute_result"
    }
   ],
   "source": [
    "dfs[dfs['booking_complete'] >20].sort_values(by='route', ascending=True)"
   ]
  },
  {
   "cell_type": "code",
   "execution_count": 208,
   "id": "d0823e98",
   "metadata": {},
   "outputs": [
    {
     "data": {
      "text/html": [
       "<div>\n",
       "<style scoped>\n",
       "    .dataframe tbody tr th:only-of-type {\n",
       "        vertical-align: middle;\n",
       "    }\n",
       "\n",
       "    .dataframe tbody tr th {\n",
       "        vertical-align: top;\n",
       "    }\n",
       "\n",
       "    .dataframe thead th {\n",
       "        text-align: right;\n",
       "    }\n",
       "</style>\n",
       "<table border=\"1\" class=\"dataframe\">\n",
       "  <thead>\n",
       "    <tr style=\"text-align: right;\">\n",
       "      <th></th>\n",
       "      <th>sales_channel</th>\n",
       "      <th>route</th>\n",
       "      <th>booking_complete</th>\n",
       "    </tr>\n",
       "  </thead>\n",
       "  <tbody>\n",
       "    <tr>\n",
       "      <th>6</th>\n",
       "      <td>Internet</td>\n",
       "      <td>AKLKUL</td>\n",
       "      <td>533</td>\n",
       "    </tr>\n",
       "    <tr>\n",
       "      <th>281</th>\n",
       "      <td>Internet</td>\n",
       "      <td>DMKKIX</td>\n",
       "      <td>160</td>\n",
       "    </tr>\n",
       "    <tr>\n",
       "      <th>422</th>\n",
       "      <td>Internet</td>\n",
       "      <td>ICNPEN</td>\n",
       "      <td>128</td>\n",
       "    </tr>\n",
       "    <tr>\n",
       "      <th>460</th>\n",
       "      <td>Internet</td>\n",
       "      <td>JHBKTM</td>\n",
       "      <td>162</td>\n",
       "    </tr>\n",
       "    <tr>\n",
       "      <th>564</th>\n",
       "      <td>Internet</td>\n",
       "      <td>KTMPEN</td>\n",
       "      <td>118</td>\n",
       "    </tr>\n",
       "    <tr>\n",
       "      <th>614</th>\n",
       "      <td>Internet</td>\n",
       "      <td>MELPEN</td>\n",
       "      <td>117</td>\n",
       "    </tr>\n",
       "    <tr>\n",
       "      <th>704</th>\n",
       "      <td>Internet</td>\n",
       "      <td>PENTPE</td>\n",
       "      <td>371</td>\n",
       "    </tr>\n",
       "  </tbody>\n",
       "</table>\n",
       "</div>"
      ],
      "text/plain": [
       "    sales_channel   route  booking_complete\n",
       "6        Internet  AKLKUL               533\n",
       "281      Internet  DMKKIX               160\n",
       "422      Internet  ICNPEN               128\n",
       "460      Internet  JHBKTM               162\n",
       "564      Internet  KTMPEN               118\n",
       "614      Internet  MELPEN               117\n",
       "704      Internet  PENTPE               371"
      ]
     },
     "execution_count": 208,
     "metadata": {},
     "output_type": "execute_result"
    }
   ],
   "source": [
    "dfs[dfs['booking_complete'] >100].sort_values(by='route', ascending=True)"
   ]
  },
  {
   "cell_type": "markdown",
   "id": "1ff3b206",
   "metadata": {},
   "source": [
    "- booking complete mostly on aklkul routes as many as 533, PENTEP = 371\n",
    "- and if you look at those who have more than 20 complete bookings, only about 74 route departures and destinations\n",
    "- and if you look at the standard of more than 100 there are only about 7 routes"
   ]
  },
  {
   "cell_type": "code",
   "execution_count": 209,
   "id": "4a9d11f4",
   "metadata": {},
   "outputs": [
    {
     "data": {
      "text/plain": [
       "<AxesSubplot:xlabel='sales_channel', ylabel='count'>"
      ]
     },
     "execution_count": 209,
     "metadata": {},
     "output_type": "execute_result"
    },
    {
     "data": {
      "image/png": "[encoded data removed]",
      "text/plain": [
       "<Figure size 1000x500 with 1 Axes>"
      ]
     },
     "metadata": {},
     "output_type": "display_data"
    }
   ],
   "source": [
    "fig = plt.figure(figsize=(10, 5))\n",
    "sns.countplot(df_cust['sales_channel'], hue=df_cust['booking_complete'], palette = 'Blues_d')"
   ]
  },
  {
   "cell_type": "code",
   "execution_count": 210,
   "id": "beef2725",
   "metadata": {
    "scrolled": true
   },
   "outputs": [
    {
     "data": {
      "text/plain": [
       "Internet    88.8%\n",
       "Mobile      11.2%\n",
       "Name: sales_channel, dtype: object"
      ]
     },
     "execution_count": 210,
     "metadata": {},
     "output_type": "execute_result"
    }
   ],
   "source": [
    "#percentage trip_type rate\n",
    "prec= df_cust.sales_channel.value_counts(normalize=True).mul(100).round(1).astype(str) + '%'\n",
    "prec"
   ]
  },
  {
   "cell_type": "markdown",
   "id": "ea661aaa",
   "metadata": {},
   "source": [
    "- 88.8% of customers order with internet with not complete booking\n",
    "- 11.2% of customers ordered via mobile and were equally dominated by not complete bookings"
   ]
  },
  {
   "cell_type": "markdown",
   "id": "3fc35679",
   "metadata": {},
   "source": [
    "**The target is booking_complete**"
   ]
  },
  {
   "cell_type": "code",
   "execution_count": 211,
   "id": "9678e716",
   "metadata": {
    "scrolled": true
   },
   "outputs": [
    {
     "data": {
      "text/html": [
       "<div>\n",
       "<style scoped>\n",
       "    .dataframe tbody tr th:only-of-type {\n",
       "        vertical-align: middle;\n",
       "    }\n",
       "\n",
       "    .dataframe tbody tr th {\n",
       "        vertical-align: top;\n",
       "    }\n",
       "\n",
       "    .dataframe thead th {\n",
       "        text-align: right;\n",
       "    }\n",
       "</style>\n",
       "<table border=\"1\" class=\"dataframe\">\n",
       "  <thead>\n",
       "    <tr style=\"text-align: right;\">\n",
       "      <th></th>\n",
       "      <th>num_passengers</th>\n",
       "      <th>sales_channel</th>\n",
       "      <th>trip_type</th>\n",
       "      <th>purchase_lead</th>\n",
       "      <th>length_of_stay</th>\n",
       "      <th>flight_hour</th>\n",
       "      <th>flight_day</th>\n",
       "      <th>route</th>\n",
       "      <th>booking_origin</th>\n",
       "      <th>wants_extra_baggage</th>\n",
       "      <th>wants_preferred_seat</th>\n",
       "      <th>wants_in_flight_meals</th>\n",
       "      <th>flight_duration</th>\n",
       "      <th>booking_complete</th>\n",
       "      <th>departure</th>\n",
       "      <th>destination</th>\n",
       "    </tr>\n",
       "  </thead>\n",
       "  <tbody>\n",
       "    <tr>\n",
       "      <th>42242</th>\n",
       "      <td>2</td>\n",
       "      <td>Internet</td>\n",
       "      <td>RoundTrip</td>\n",
       "      <td>27</td>\n",
       "      <td>5</td>\n",
       "      <td>3</td>\n",
       "      <td>Sat</td>\n",
       "      <td>URTXIY</td>\n",
       "      <td>China</td>\n",
       "      <td>1</td>\n",
       "      <td>0</td>\n",
       "      <td>0</td>\n",
       "      <td>5.00</td>\n",
       "      <td>0</td>\n",
       "      <td>URT</td>\n",
       "      <td>XIY</td>\n",
       "    </tr>\n",
       "    <tr>\n",
       "      <th>25593</th>\n",
       "      <td>2</td>\n",
       "      <td>Internet</td>\n",
       "      <td>RoundTrip</td>\n",
       "      <td>22</td>\n",
       "      <td>30</td>\n",
       "      <td>7</td>\n",
       "      <td>Fri</td>\n",
       "      <td>TWUXIY</td>\n",
       "      <td>China</td>\n",
       "      <td>1</td>\n",
       "      <td>1</td>\n",
       "      <td>0</td>\n",
       "      <td>5.00</td>\n",
       "      <td>0</td>\n",
       "      <td>TWU</td>\n",
       "      <td>XIY</td>\n",
       "    </tr>\n",
       "    <tr>\n",
       "      <th>25594</th>\n",
       "      <td>1</td>\n",
       "      <td>Internet</td>\n",
       "      <td>RoundTrip</td>\n",
       "      <td>20</td>\n",
       "      <td>28</td>\n",
       "      <td>16</td>\n",
       "      <td>Thu</td>\n",
       "      <td>TWUXIY</td>\n",
       "      <td>China</td>\n",
       "      <td>1</td>\n",
       "      <td>0</td>\n",
       "      <td>0</td>\n",
       "      <td>5.00</td>\n",
       "      <td>0</td>\n",
       "      <td>TWU</td>\n",
       "      <td>XIY</td>\n",
       "    </tr>\n",
       "    <tr>\n",
       "      <th>25595</th>\n",
       "      <td>1</td>\n",
       "      <td>Internet</td>\n",
       "      <td>RoundTrip</td>\n",
       "      <td>28</td>\n",
       "      <td>26</td>\n",
       "      <td>9</td>\n",
       "      <td>Wed</td>\n",
       "      <td>TWUXIY</td>\n",
       "      <td>Malaysia</td>\n",
       "      <td>1</td>\n",
       "      <td>0</td>\n",
       "      <td>1</td>\n",
       "      <td>5.00</td>\n",
       "      <td>0</td>\n",
       "      <td>TWU</td>\n",
       "      <td>XIY</td>\n",
       "    </tr>\n",
       "    <tr>\n",
       "      <th>34956</th>\n",
       "      <td>2</td>\n",
       "      <td>Internet</td>\n",
       "      <td>RoundTrip</td>\n",
       "      <td>175</td>\n",
       "      <td>4</td>\n",
       "      <td>13</td>\n",
       "      <td>Mon</td>\n",
       "      <td>TWUXIY</td>\n",
       "      <td>China</td>\n",
       "      <td>0</td>\n",
       "      <td>0</td>\n",
       "      <td>0</td>\n",
       "      <td>5.00</td>\n",
       "      <td>0</td>\n",
       "      <td>TWU</td>\n",
       "      <td>XIY</td>\n",
       "    </tr>\n",
       "    <tr>\n",
       "      <th>42241</th>\n",
       "      <td>2</td>\n",
       "      <td>Internet</td>\n",
       "      <td>RoundTrip</td>\n",
       "      <td>29</td>\n",
       "      <td>5</td>\n",
       "      <td>9</td>\n",
       "      <td>Thu</td>\n",
       "      <td>TWUXIY</td>\n",
       "      <td>China</td>\n",
       "      <td>0</td>\n",
       "      <td>0</td>\n",
       "      <td>0</td>\n",
       "      <td>5.00</td>\n",
       "      <td>0</td>\n",
       "      <td>TWU</td>\n",
       "      <td>XIY</td>\n",
       "    </tr>\n",
       "    <tr>\n",
       "      <th>25596</th>\n",
       "      <td>1</td>\n",
       "      <td>Internet</td>\n",
       "      <td>RoundTrip</td>\n",
       "      <td>34</td>\n",
       "      <td>60</td>\n",
       "      <td>5</td>\n",
       "      <td>Tue</td>\n",
       "      <td>TWUXIY</td>\n",
       "      <td>Malaysia</td>\n",
       "      <td>0</td>\n",
       "      <td>0</td>\n",
       "      <td>0</td>\n",
       "      <td>5.00</td>\n",
       "      <td>1</td>\n",
       "      <td>TWU</td>\n",
       "      <td>XIY</td>\n",
       "    </tr>\n",
       "    <tr>\n",
       "      <th>42240</th>\n",
       "      <td>2</td>\n",
       "      <td>Internet</td>\n",
       "      <td>RoundTrip</td>\n",
       "      <td>33</td>\n",
       "      <td>5</td>\n",
       "      <td>2</td>\n",
       "      <td>Sun</td>\n",
       "      <td>TWUXIY</td>\n",
       "      <td>China</td>\n",
       "      <td>1</td>\n",
       "      <td>1</td>\n",
       "      <td>1</td>\n",
       "      <td>5.00</td>\n",
       "      <td>1</td>\n",
       "      <td>TWU</td>\n",
       "      <td>XIY</td>\n",
       "    </tr>\n",
       "    <tr>\n",
       "      <th>34955</th>\n",
       "      <td>2</td>\n",
       "      <td>Internet</td>\n",
       "      <td>RoundTrip</td>\n",
       "      <td>44</td>\n",
       "      <td>4</td>\n",
       "      <td>8</td>\n",
       "      <td>Sat</td>\n",
       "      <td>TWUWUH</td>\n",
       "      <td>China</td>\n",
       "      <td>1</td>\n",
       "      <td>0</td>\n",
       "      <td>0</td>\n",
       "      <td>5.13</td>\n",
       "      <td>0</td>\n",
       "      <td>TWU</td>\n",
       "      <td>WUH</td>\n",
       "    </tr>\n",
       "    <tr>\n",
       "      <th>42239</th>\n",
       "      <td>2</td>\n",
       "      <td>Internet</td>\n",
       "      <td>RoundTrip</td>\n",
       "      <td>17</td>\n",
       "      <td>5</td>\n",
       "      <td>10</td>\n",
       "      <td>Wed</td>\n",
       "      <td>TWUWUH</td>\n",
       "      <td>China</td>\n",
       "      <td>1</td>\n",
       "      <td>0</td>\n",
       "      <td>0</td>\n",
       "      <td>5.13</td>\n",
       "      <td>1</td>\n",
       "      <td>TWU</td>\n",
       "      <td>WUH</td>\n",
       "    </tr>\n",
       "    <tr>\n",
       "      <th>25587</th>\n",
       "      <td>1</td>\n",
       "      <td>Internet</td>\n",
       "      <td>RoundTrip</td>\n",
       "      <td>39</td>\n",
       "      <td>44</td>\n",
       "      <td>22</td>\n",
       "      <td>Thu</td>\n",
       "      <td>TRZXIY</td>\n",
       "      <td>China</td>\n",
       "      <td>1</td>\n",
       "      <td>0</td>\n",
       "      <td>1</td>\n",
       "      <td>5.00</td>\n",
       "      <td>0</td>\n",
       "      <td>TRZ</td>\n",
       "      <td>XIY</td>\n",
       "    </tr>\n",
       "    <tr>\n",
       "      <th>25588</th>\n",
       "      <td>1</td>\n",
       "      <td>Internet</td>\n",
       "      <td>RoundTrip</td>\n",
       "      <td>54</td>\n",
       "      <td>37</td>\n",
       "      <td>9</td>\n",
       "      <td>Mon</td>\n",
       "      <td>TRZXIY</td>\n",
       "      <td>China</td>\n",
       "      <td>0</td>\n",
       "      <td>0</td>\n",
       "      <td>1</td>\n",
       "      <td>5.00</td>\n",
       "      <td>0</td>\n",
       "      <td>TRZ</td>\n",
       "      <td>XIY</td>\n",
       "    </tr>\n",
       "    <tr>\n",
       "      <th>25589</th>\n",
       "      <td>1</td>\n",
       "      <td>Internet</td>\n",
       "      <td>RoundTrip</td>\n",
       "      <td>42</td>\n",
       "      <td>51</td>\n",
       "      <td>15</td>\n",
       "      <td>Sat</td>\n",
       "      <td>TRZXIY</td>\n",
       "      <td>United Arab Emirates</td>\n",
       "      <td>1</td>\n",
       "      <td>0</td>\n",
       "      <td>1</td>\n",
       "      <td>5.00</td>\n",
       "      <td>0</td>\n",
       "      <td>TRZ</td>\n",
       "      <td>XIY</td>\n",
       "    </tr>\n",
       "    <tr>\n",
       "      <th>25590</th>\n",
       "      <td>2</td>\n",
       "      <td>Internet</td>\n",
       "      <td>RoundTrip</td>\n",
       "      <td>122</td>\n",
       "      <td>60</td>\n",
       "      <td>5</td>\n",
       "      <td>Fri</td>\n",
       "      <td>TRZXIY</td>\n",
       "      <td>India</td>\n",
       "      <td>1</td>\n",
       "      <td>0</td>\n",
       "      <td>0</td>\n",
       "      <td>5.00</td>\n",
       "      <td>0</td>\n",
       "      <td>TRZ</td>\n",
       "      <td>XIY</td>\n",
       "    </tr>\n",
       "    <tr>\n",
       "      <th>25591</th>\n",
       "      <td>2</td>\n",
       "      <td>Internet</td>\n",
       "      <td>RoundTrip</td>\n",
       "      <td>81</td>\n",
       "      <td>39</td>\n",
       "      <td>11</td>\n",
       "      <td>Tue</td>\n",
       "      <td>TRZXIY</td>\n",
       "      <td>China</td>\n",
       "      <td>1</td>\n",
       "      <td>0</td>\n",
       "      <td>1</td>\n",
       "      <td>5.00</td>\n",
       "      <td>0</td>\n",
       "      <td>TRZ</td>\n",
       "      <td>XIY</td>\n",
       "    </tr>\n",
       "    <tr>\n",
       "      <th>25592</th>\n",
       "      <td>1</td>\n",
       "      <td>Internet</td>\n",
       "      <td>RoundTrip</td>\n",
       "      <td>42</td>\n",
       "      <td>67</td>\n",
       "      <td>14</td>\n",
       "      <td>Mon</td>\n",
       "      <td>TRZXIY</td>\n",
       "      <td>(not set)</td>\n",
       "      <td>1</td>\n",
       "      <td>0</td>\n",
       "      <td>0</td>\n",
       "      <td>5.00</td>\n",
       "      <td>0</td>\n",
       "      <td>TRZ</td>\n",
       "      <td>XIY</td>\n",
       "    </tr>\n",
       "    <tr>\n",
       "      <th>25574</th>\n",
       "      <td>1</td>\n",
       "      <td>Internet</td>\n",
       "      <td>RoundTrip</td>\n",
       "      <td>122</td>\n",
       "      <td>65</td>\n",
       "      <td>13</td>\n",
       "      <td>Mon</td>\n",
       "      <td>TRZWUH</td>\n",
       "      <td>China</td>\n",
       "      <td>1</td>\n",
       "      <td>1</td>\n",
       "      <td>1</td>\n",
       "      <td>5.13</td>\n",
       "      <td>0</td>\n",
       "      <td>TRZ</td>\n",
       "      <td>WUH</td>\n",
       "    </tr>\n",
       "    <tr>\n",
       "      <th>25575</th>\n",
       "      <td>2</td>\n",
       "      <td>Internet</td>\n",
       "      <td>RoundTrip</td>\n",
       "      <td>127</td>\n",
       "      <td>63</td>\n",
       "      <td>4</td>\n",
       "      <td>Sun</td>\n",
       "      <td>TRZWUH</td>\n",
       "      <td>India</td>\n",
       "      <td>1</td>\n",
       "      <td>1</td>\n",
       "      <td>1</td>\n",
       "      <td>5.13</td>\n",
       "      <td>0</td>\n",
       "      <td>TRZ</td>\n",
       "      <td>WUH</td>\n",
       "    </tr>\n",
       "    <tr>\n",
       "      <th>25576</th>\n",
       "      <td>1</td>\n",
       "      <td>Internet</td>\n",
       "      <td>RoundTrip</td>\n",
       "      <td>125</td>\n",
       "      <td>59</td>\n",
       "      <td>7</td>\n",
       "      <td>Sun</td>\n",
       "      <td>TRZWUH</td>\n",
       "      <td>China</td>\n",
       "      <td>1</td>\n",
       "      <td>0</td>\n",
       "      <td>1</td>\n",
       "      <td>5.13</td>\n",
       "      <td>0</td>\n",
       "      <td>TRZ</td>\n",
       "      <td>WUH</td>\n",
       "    </tr>\n",
       "    <tr>\n",
       "      <th>25577</th>\n",
       "      <td>1</td>\n",
       "      <td>Internet</td>\n",
       "      <td>RoundTrip</td>\n",
       "      <td>125</td>\n",
       "      <td>59</td>\n",
       "      <td>6</td>\n",
       "      <td>Sun</td>\n",
       "      <td>TRZWUH</td>\n",
       "      <td>China</td>\n",
       "      <td>1</td>\n",
       "      <td>0</td>\n",
       "      <td>1</td>\n",
       "      <td>5.13</td>\n",
       "      <td>0</td>\n",
       "      <td>TRZ</td>\n",
       "      <td>WUH</td>\n",
       "    </tr>\n",
       "    <tr>\n",
       "      <th>25578</th>\n",
       "      <td>1</td>\n",
       "      <td>Internet</td>\n",
       "      <td>RoundTrip</td>\n",
       "      <td>125</td>\n",
       "      <td>59</td>\n",
       "      <td>7</td>\n",
       "      <td>Sun</td>\n",
       "      <td>TRZWUH</td>\n",
       "      <td>China</td>\n",
       "      <td>1</td>\n",
       "      <td>0</td>\n",
       "      <td>1</td>\n",
       "      <td>5.13</td>\n",
       "      <td>0</td>\n",
       "      <td>TRZ</td>\n",
       "      <td>WUH</td>\n",
       "    </tr>\n",
       "    <tr>\n",
       "      <th>25579</th>\n",
       "      <td>1</td>\n",
       "      <td>Internet</td>\n",
       "      <td>RoundTrip</td>\n",
       "      <td>123</td>\n",
       "      <td>62</td>\n",
       "      <td>14</td>\n",
       "      <td>Mon</td>\n",
       "      <td>TRZWUH</td>\n",
       "      <td>China</td>\n",
       "      <td>1</td>\n",
       "      <td>1</td>\n",
       "      <td>1</td>\n",
       "      <td>5.13</td>\n",
       "      <td>0</td>\n",
       "      <td>TRZ</td>\n",
       "      <td>WUH</td>\n",
       "    </tr>\n",
       "    <tr>\n",
       "      <th>25580</th>\n",
       "      <td>1</td>\n",
       "      <td>Internet</td>\n",
       "      <td>RoundTrip</td>\n",
       "      <td>129</td>\n",
       "      <td>63</td>\n",
       "      <td>15</td>\n",
       "      <td>Fri</td>\n",
       "      <td>TRZWUH</td>\n",
       "      <td>Taiwan</td>\n",
       "      <td>1</td>\n",
       "      <td>0</td>\n",
       "      <td>1</td>\n",
       "      <td>5.13</td>\n",
       "      <td>0</td>\n",
       "      <td>TRZ</td>\n",
       "      <td>WUH</td>\n",
       "    </tr>\n",
       "    <tr>\n",
       "      <th>25581</th>\n",
       "      <td>1</td>\n",
       "      <td>Internet</td>\n",
       "      <td>RoundTrip</td>\n",
       "      <td>127</td>\n",
       "      <td>67</td>\n",
       "      <td>8</td>\n",
       "      <td>Sun</td>\n",
       "      <td>TRZWUH</td>\n",
       "      <td>China</td>\n",
       "      <td>1</td>\n",
       "      <td>0</td>\n",
       "      <td>1</td>\n",
       "      <td>5.13</td>\n",
       "      <td>0</td>\n",
       "      <td>TRZ</td>\n",
       "      <td>WUH</td>\n",
       "    </tr>\n",
       "    <tr>\n",
       "      <th>25582</th>\n",
       "      <td>1</td>\n",
       "      <td>Internet</td>\n",
       "      <td>RoundTrip</td>\n",
       "      <td>127</td>\n",
       "      <td>67</td>\n",
       "      <td>8</td>\n",
       "      <td>Sun</td>\n",
       "      <td>TRZWUH</td>\n",
       "      <td>China</td>\n",
       "      <td>1</td>\n",
       "      <td>0</td>\n",
       "      <td>1</td>\n",
       "      <td>5.13</td>\n",
       "      <td>0</td>\n",
       "      <td>TRZ</td>\n",
       "      <td>WUH</td>\n",
       "    </tr>\n",
       "    <tr>\n",
       "      <th>25583</th>\n",
       "      <td>1</td>\n",
       "      <td>Internet</td>\n",
       "      <td>RoundTrip</td>\n",
       "      <td>123</td>\n",
       "      <td>62</td>\n",
       "      <td>14</td>\n",
       "      <td>Mon</td>\n",
       "      <td>TRZWUH</td>\n",
       "      <td>China</td>\n",
       "      <td>1</td>\n",
       "      <td>1</td>\n",
       "      <td>1</td>\n",
       "      <td>5.13</td>\n",
       "      <td>0</td>\n",
       "      <td>TRZ</td>\n",
       "      <td>WUH</td>\n",
       "    </tr>\n",
       "    <tr>\n",
       "      <th>25584</th>\n",
       "      <td>1</td>\n",
       "      <td>Internet</td>\n",
       "      <td>RoundTrip</td>\n",
       "      <td>127</td>\n",
       "      <td>51</td>\n",
       "      <td>6</td>\n",
       "      <td>Sun</td>\n",
       "      <td>TRZWUH</td>\n",
       "      <td>China</td>\n",
       "      <td>1</td>\n",
       "      <td>0</td>\n",
       "      <td>1</td>\n",
       "      <td>5.13</td>\n",
       "      <td>0</td>\n",
       "      <td>TRZ</td>\n",
       "      <td>WUH</td>\n",
       "    </tr>\n",
       "    <tr>\n",
       "      <th>25585</th>\n",
       "      <td>1</td>\n",
       "      <td>Internet</td>\n",
       "      <td>RoundTrip</td>\n",
       "      <td>119</td>\n",
       "      <td>61</td>\n",
       "      <td>11</td>\n",
       "      <td>Mon</td>\n",
       "      <td>TRZWUH</td>\n",
       "      <td>China</td>\n",
       "      <td>1</td>\n",
       "      <td>1</td>\n",
       "      <td>1</td>\n",
       "      <td>5.13</td>\n",
       "      <td>0</td>\n",
       "      <td>TRZ</td>\n",
       "      <td>WUH</td>\n",
       "    </tr>\n",
       "    <tr>\n",
       "      <th>25586</th>\n",
       "      <td>1</td>\n",
       "      <td>Internet</td>\n",
       "      <td>RoundTrip</td>\n",
       "      <td>129</td>\n",
       "      <td>63</td>\n",
       "      <td>17</td>\n",
       "      <td>Fri</td>\n",
       "      <td>TRZWUH</td>\n",
       "      <td>Taiwan</td>\n",
       "      <td>1</td>\n",
       "      <td>0</td>\n",
       "      <td>1</td>\n",
       "      <td>5.13</td>\n",
       "      <td>0</td>\n",
       "      <td>TRZ</td>\n",
       "      <td>WUH</td>\n",
       "    </tr>\n",
       "    <tr>\n",
       "      <th>25572</th>\n",
       "      <td>1</td>\n",
       "      <td>Internet</td>\n",
       "      <td>RoundTrip</td>\n",
       "      <td>3</td>\n",
       "      <td>152</td>\n",
       "      <td>13</td>\n",
       "      <td>Fri</td>\n",
       "      <td>TPEVTE</td>\n",
       "      <td>Taiwan</td>\n",
       "      <td>1</td>\n",
       "      <td>0</td>\n",
       "      <td>1</td>\n",
       "      <td>4.67</td>\n",
       "      <td>0</td>\n",
       "      <td>TPE</td>\n",
       "      <td>VTE</td>\n",
       "    </tr>\n",
       "    <tr>\n",
       "      <th>25573</th>\n",
       "      <td>1</td>\n",
       "      <td>Internet</td>\n",
       "      <td>RoundTrip</td>\n",
       "      <td>3</td>\n",
       "      <td>43</td>\n",
       "      <td>13</td>\n",
       "      <td>Fri</td>\n",
       "      <td>TPEVTE</td>\n",
       "      <td>Taiwan</td>\n",
       "      <td>1</td>\n",
       "      <td>0</td>\n",
       "      <td>1</td>\n",
       "      <td>4.67</td>\n",
       "      <td>0</td>\n",
       "      <td>TPE</td>\n",
       "      <td>VTE</td>\n",
       "    </tr>\n",
       "    <tr>\n",
       "      <th>42238</th>\n",
       "      <td>2</td>\n",
       "      <td>Internet</td>\n",
       "      <td>RoundTrip</td>\n",
       "      <td>87</td>\n",
       "      <td>5</td>\n",
       "      <td>8</td>\n",
       "      <td>Thu</td>\n",
       "      <td>TPEURT</td>\n",
       "      <td>Taiwan</td>\n",
       "      <td>0</td>\n",
       "      <td>1</td>\n",
       "      <td>1</td>\n",
       "      <td>4.67</td>\n",
       "      <td>0</td>\n",
       "      <td>TPE</td>\n",
       "      <td>URT</td>\n",
       "    </tr>\n",
       "    <tr>\n",
       "      <th>29301</th>\n",
       "      <td>1</td>\n",
       "      <td>Internet</td>\n",
       "      <td>RoundTrip</td>\n",
       "      <td>59</td>\n",
       "      <td>3</td>\n",
       "      <td>3</td>\n",
       "      <td>Tue</td>\n",
       "      <td>TPETWU</td>\n",
       "      <td>Taiwan</td>\n",
       "      <td>0</td>\n",
       "      <td>0</td>\n",
       "      <td>0</td>\n",
       "      <td>4.67</td>\n",
       "      <td>0</td>\n",
       "      <td>TPE</td>\n",
       "      <td>TWU</td>\n",
       "    </tr>\n",
       "    <tr>\n",
       "      <th>42235</th>\n",
       "      <td>1</td>\n",
       "      <td>Internet</td>\n",
       "      <td>RoundTrip</td>\n",
       "      <td>43</td>\n",
       "      <td>5</td>\n",
       "      <td>3</td>\n",
       "      <td>Thu</td>\n",
       "      <td>TPETWU</td>\n",
       "      <td>Taiwan</td>\n",
       "      <td>1</td>\n",
       "      <td>0</td>\n",
       "      <td>0</td>\n",
       "      <td>4.67</td>\n",
       "      <td>0</td>\n",
       "      <td>TPE</td>\n",
       "      <td>TWU</td>\n",
       "    </tr>\n",
       "    <tr>\n",
       "      <th>42236</th>\n",
       "      <td>7</td>\n",
       "      <td>Internet</td>\n",
       "      <td>RoundTrip</td>\n",
       "      <td>40</td>\n",
       "      <td>5</td>\n",
       "      <td>21</td>\n",
       "      <td>Sun</td>\n",
       "      <td>TPETWU</td>\n",
       "      <td>Taiwan</td>\n",
       "      <td>0</td>\n",
       "      <td>0</td>\n",
       "      <td>0</td>\n",
       "      <td>4.67</td>\n",
       "      <td>0</td>\n",
       "      <td>TPE</td>\n",
       "      <td>TWU</td>\n",
       "    </tr>\n",
       "    <tr>\n",
       "      <th>42237</th>\n",
       "      <td>1</td>\n",
       "      <td>Internet</td>\n",
       "      <td>RoundTrip</td>\n",
       "      <td>12</td>\n",
       "      <td>5</td>\n",
       "      <td>15</td>\n",
       "      <td>Thu</td>\n",
       "      <td>TPETWU</td>\n",
       "      <td>Taiwan</td>\n",
       "      <td>0</td>\n",
       "      <td>0</td>\n",
       "      <td>0</td>\n",
       "      <td>4.67</td>\n",
       "      <td>0</td>\n",
       "      <td>TPE</td>\n",
       "      <td>TWU</td>\n",
       "    </tr>\n",
       "    <tr>\n",
       "      <th>34953</th>\n",
       "      <td>2</td>\n",
       "      <td>Internet</td>\n",
       "      <td>RoundTrip</td>\n",
       "      <td>246</td>\n",
       "      <td>4</td>\n",
       "      <td>16</td>\n",
       "      <td>Thu</td>\n",
       "      <td>TPETWU</td>\n",
       "      <td>Taiwan</td>\n",
       "      <td>0</td>\n",
       "      <td>0</td>\n",
       "      <td>0</td>\n",
       "      <td>4.67</td>\n",
       "      <td>1</td>\n",
       "      <td>TPE</td>\n",
       "      <td>TWU</td>\n",
       "    </tr>\n",
       "    <tr>\n",
       "      <th>34954</th>\n",
       "      <td>2</td>\n",
       "      <td>Internet</td>\n",
       "      <td>RoundTrip</td>\n",
       "      <td>83</td>\n",
       "      <td>4</td>\n",
       "      <td>15</td>\n",
       "      <td>Sat</td>\n",
       "      <td>TPETWU</td>\n",
       "      <td>Taiwan</td>\n",
       "      <td>0</td>\n",
       "      <td>0</td>\n",
       "      <td>0</td>\n",
       "      <td>4.67</td>\n",
       "      <td>1</td>\n",
       "      <td>TPE</td>\n",
       "      <td>TWU</td>\n",
       "    </tr>\n",
       "    <tr>\n",
       "      <th>25551</th>\n",
       "      <td>1</td>\n",
       "      <td>Internet</td>\n",
       "      <td>RoundTrip</td>\n",
       "      <td>19</td>\n",
       "      <td>89</td>\n",
       "      <td>14</td>\n",
       "      <td>Sat</td>\n",
       "      <td>TPETRZ</td>\n",
       "      <td>Taiwan</td>\n",
       "      <td>1</td>\n",
       "      <td>0</td>\n",
       "      <td>1</td>\n",
       "      <td>4.67</td>\n",
       "      <td>0</td>\n",
       "      <td>TPE</td>\n",
       "      <td>TRZ</td>\n",
       "    </tr>\n",
       "    <tr>\n",
       "      <th>25552</th>\n",
       "      <td>1</td>\n",
       "      <td>Internet</td>\n",
       "      <td>RoundTrip</td>\n",
       "      <td>88</td>\n",
       "      <td>47</td>\n",
       "      <td>7</td>\n",
       "      <td>Sat</td>\n",
       "      <td>TPETRZ</td>\n",
       "      <td>Taiwan</td>\n",
       "      <td>1</td>\n",
       "      <td>0</td>\n",
       "      <td>1</td>\n",
       "      <td>4.67</td>\n",
       "      <td>0</td>\n",
       "      <td>TPE</td>\n",
       "      <td>TRZ</td>\n",
       "    </tr>\n",
       "    <tr>\n",
       "      <th>25553</th>\n",
       "      <td>1</td>\n",
       "      <td>Internet</td>\n",
       "      <td>RoundTrip</td>\n",
       "      <td>78</td>\n",
       "      <td>58</td>\n",
       "      <td>3</td>\n",
       "      <td>Sun</td>\n",
       "      <td>TPETRZ</td>\n",
       "      <td>Taiwan</td>\n",
       "      <td>1</td>\n",
       "      <td>0</td>\n",
       "      <td>1</td>\n",
       "      <td>4.67</td>\n",
       "      <td>0</td>\n",
       "      <td>TPE</td>\n",
       "      <td>TRZ</td>\n",
       "    </tr>\n",
       "    <tr>\n",
       "      <th>25554</th>\n",
       "      <td>1</td>\n",
       "      <td>Internet</td>\n",
       "      <td>RoundTrip</td>\n",
       "      <td>33</td>\n",
       "      <td>26</td>\n",
       "      <td>15</td>\n",
       "      <td>Mon</td>\n",
       "      <td>TPETRZ</td>\n",
       "      <td>Taiwan</td>\n",
       "      <td>1</td>\n",
       "      <td>0</td>\n",
       "      <td>1</td>\n",
       "      <td>4.67</td>\n",
       "      <td>0</td>\n",
       "      <td>TPE</td>\n",
       "      <td>TRZ</td>\n",
       "    </tr>\n",
       "    <tr>\n",
       "      <th>25555</th>\n",
       "      <td>2</td>\n",
       "      <td>Internet</td>\n",
       "      <td>RoundTrip</td>\n",
       "      <td>68</td>\n",
       "      <td>28</td>\n",
       "      <td>15</td>\n",
       "      <td>Mon</td>\n",
       "      <td>TPETRZ</td>\n",
       "      <td>Taiwan</td>\n",
       "      <td>1</td>\n",
       "      <td>0</td>\n",
       "      <td>1</td>\n",
       "      <td>4.67</td>\n",
       "      <td>0</td>\n",
       "      <td>TPE</td>\n",
       "      <td>TRZ</td>\n",
       "    </tr>\n",
       "    <tr>\n",
       "      <th>25556</th>\n",
       "      <td>2</td>\n",
       "      <td>Internet</td>\n",
       "      <td>RoundTrip</td>\n",
       "      <td>165</td>\n",
       "      <td>30</td>\n",
       "      <td>13</td>\n",
       "      <td>Fri</td>\n",
       "      <td>TPETRZ</td>\n",
       "      <td>Taiwan</td>\n",
       "      <td>1</td>\n",
       "      <td>0</td>\n",
       "      <td>1</td>\n",
       "      <td>4.67</td>\n",
       "      <td>0</td>\n",
       "      <td>TPE</td>\n",
       "      <td>TRZ</td>\n",
       "    </tr>\n",
       "    <tr>\n",
       "      <th>25557</th>\n",
       "      <td>2</td>\n",
       "      <td>Internet</td>\n",
       "      <td>RoundTrip</td>\n",
       "      <td>68</td>\n",
       "      <td>22</td>\n",
       "      <td>12</td>\n",
       "      <td>Sun</td>\n",
       "      <td>TPETRZ</td>\n",
       "      <td>Taiwan</td>\n",
       "      <td>1</td>\n",
       "      <td>1</td>\n",
       "      <td>0</td>\n",
       "      <td>4.67</td>\n",
       "      <td>0</td>\n",
       "      <td>TPE</td>\n",
       "      <td>TRZ</td>\n",
       "    </tr>\n",
       "    <tr>\n",
       "      <th>25558</th>\n",
       "      <td>1</td>\n",
       "      <td>Internet</td>\n",
       "      <td>RoundTrip</td>\n",
       "      <td>41</td>\n",
       "      <td>43</td>\n",
       "      <td>5</td>\n",
       "      <td>Tue</td>\n",
       "      <td>TPETRZ</td>\n",
       "      <td>Taiwan</td>\n",
       "      <td>1</td>\n",
       "      <td>0</td>\n",
       "      <td>1</td>\n",
       "      <td>4.67</td>\n",
       "      <td>0</td>\n",
       "      <td>TPE</td>\n",
       "      <td>TRZ</td>\n",
       "    </tr>\n",
       "    <tr>\n",
       "      <th>25559</th>\n",
       "      <td>1</td>\n",
       "      <td>Internet</td>\n",
       "      <td>RoundTrip</td>\n",
       "      <td>33</td>\n",
       "      <td>27</td>\n",
       "      <td>6</td>\n",
       "      <td>Thu</td>\n",
       "      <td>TPETRZ</td>\n",
       "      <td>Taiwan</td>\n",
       "      <td>1</td>\n",
       "      <td>0</td>\n",
       "      <td>1</td>\n",
       "      <td>4.67</td>\n",
       "      <td>0</td>\n",
       "      <td>TPE</td>\n",
       "      <td>TRZ</td>\n",
       "    </tr>\n",
       "    <tr>\n",
       "      <th>25560</th>\n",
       "      <td>1</td>\n",
       "      <td>Internet</td>\n",
       "      <td>RoundTrip</td>\n",
       "      <td>72</td>\n",
       "      <td>39</td>\n",
       "      <td>4</td>\n",
       "      <td>Mon</td>\n",
       "      <td>TPETRZ</td>\n",
       "      <td>Taiwan</td>\n",
       "      <td>1</td>\n",
       "      <td>1</td>\n",
       "      <td>1</td>\n",
       "      <td>4.67</td>\n",
       "      <td>0</td>\n",
       "      <td>TPE</td>\n",
       "      <td>TRZ</td>\n",
       "    </tr>\n",
       "    <tr>\n",
       "      <th>25561</th>\n",
       "      <td>1</td>\n",
       "      <td>Internet</td>\n",
       "      <td>RoundTrip</td>\n",
       "      <td>12</td>\n",
       "      <td>18</td>\n",
       "      <td>11</td>\n",
       "      <td>Fri</td>\n",
       "      <td>TPETRZ</td>\n",
       "      <td>Taiwan</td>\n",
       "      <td>1</td>\n",
       "      <td>0</td>\n",
       "      <td>1</td>\n",
       "      <td>4.67</td>\n",
       "      <td>0</td>\n",
       "      <td>TPE</td>\n",
       "      <td>TRZ</td>\n",
       "    </tr>\n",
       "    <tr>\n",
       "      <th>25562</th>\n",
       "      <td>1</td>\n",
       "      <td>Internet</td>\n",
       "      <td>RoundTrip</td>\n",
       "      <td>52</td>\n",
       "      <td>32</td>\n",
       "      <td>16</td>\n",
       "      <td>Mon</td>\n",
       "      <td>TPETRZ</td>\n",
       "      <td>Taiwan</td>\n",
       "      <td>1</td>\n",
       "      <td>0</td>\n",
       "      <td>1</td>\n",
       "      <td>4.67</td>\n",
       "      <td>0</td>\n",
       "      <td>TPE</td>\n",
       "      <td>TRZ</td>\n",
       "    </tr>\n",
       "  </tbody>\n",
       "</table>\n",
       "</div>"
      ],
      "text/plain": [
       "       num_passengers sales_channel  trip_type  purchase_lead  length_of_stay  \\\n",
       "42242               2      Internet  RoundTrip             27               5   \n",
       "25593               2      Internet  RoundTrip             22              30   \n",
       "25594               1      Internet  RoundTrip             20              28   \n",
       "25595               1      Internet  RoundTrip             28              26   \n",
       "34956               2      Internet  RoundTrip            175               4   \n",
       "42241               2      Internet  RoundTrip             29               5   \n",
       "25596               1      Internet  RoundTrip             34              60   \n",
       "42240               2      Internet  RoundTrip             33               5   \n",
       "34955               2      Internet  RoundTrip             44               4   \n",
       "42239               2      Internet  RoundTrip             17               5   \n",
       "25587               1      Internet  RoundTrip             39              44   \n",
       "25588               1      Internet  RoundTrip             54              37   \n",
       "25589               1      Internet  RoundTrip             42              51   \n",
       "25590               2      Internet  RoundTrip            122              60   \n",
       "25591               2      Internet  RoundTrip             81              39   \n",
       "25592               1      Internet  RoundTrip             42              67   \n",
       "25574               1      Internet  RoundTrip            122              65   \n",
       "25575               2      Internet  RoundTrip            127              63   \n",
       "25576               1      Internet  RoundTrip            125              59   \n",
       "25577               1      Internet  RoundTrip            125              59   \n",
       "25578               1      Internet  RoundTrip            125              59   \n",
       "25579               1      Internet  RoundTrip            123              62   \n",
       "25580               1      Internet  RoundTrip            129              63   \n",
       "25581               1      Internet  RoundTrip            127              67   \n",
       "25582               1      Internet  RoundTrip            127              67   \n",
       "25583               1      Internet  RoundTrip            123              62   \n",
       "25584               1      Internet  RoundTrip            127              51   \n",
       "25585               1      Internet  RoundTrip            119              61   \n",
       "25586               1      Internet  RoundTrip            129              63   \n",
       "25572               1      Internet  RoundTrip              3             152   \n",
       "25573               1      Internet  RoundTrip              3              43   \n",
       "42238               2      Internet  RoundTrip             87               5   \n",
       "29301               1      Internet  RoundTrip             59               3   \n",
       "42235               1      Internet  RoundTrip             43               5   \n",
       "42236               7      Internet  RoundTrip             40               5   \n",
       "42237               1      Internet  RoundTrip             12               5   \n",
       "34953               2      Internet  RoundTrip            246               4   \n",
       "34954               2      Internet  RoundTrip             83               4   \n",
       "25551               1      Internet  RoundTrip             19              89   \n",
       "25552               1      Internet  RoundTrip             88              47   \n",
       "25553               1      Internet  RoundTrip             78              58   \n",
       "25554               1      Internet  RoundTrip             33              26   \n",
       "25555               2      Internet  RoundTrip             68              28   \n",
       "25556               2      Internet  RoundTrip            165              30   \n",
       "25557               2      Internet  RoundTrip             68              22   \n",
       "25558               1      Internet  RoundTrip             41              43   \n",
       "25559               1      Internet  RoundTrip             33              27   \n",
       "25560               1      Internet  RoundTrip             72              39   \n",
       "25561               1      Internet  RoundTrip             12              18   \n",
       "25562               1      Internet  RoundTrip             52              32   \n",
       "\n",
       "       flight_hour flight_day   route        booking_origin  \\\n",
       "42242            3        Sat  URTXIY                 China   \n",
       "25593            7        Fri  TWUXIY                 China   \n",
       "25594           16        Thu  TWUXIY                 China   \n",
       "25595            9        Wed  TWUXIY              Malaysia   \n",
       "34956           13        Mon  TWUXIY                 China   \n",
       "42241            9        Thu  TWUXIY                 China   \n",
       "25596            5        Tue  TWUXIY              Malaysia   \n",
       "42240            2        Sun  TWUXIY                 China   \n",
       "34955            8        Sat  TWUWUH                 China   \n",
       "42239           10        Wed  TWUWUH                 China   \n",
       "25587           22        Thu  TRZXIY                 China   \n",
       "25588            9        Mon  TRZXIY                 China   \n",
       "25589           15        Sat  TRZXIY  United Arab Emirates   \n",
       "25590            5        Fri  TRZXIY                 India   \n",
       "25591           11        Tue  TRZXIY                 China   \n",
       "25592           14        Mon  TRZXIY             (not set)   \n",
       "25574           13        Mon  TRZWUH                 China   \n",
       "25575            4        Sun  TRZWUH                 India   \n",
       "25576            7        Sun  TRZWUH                 China   \n",
       "25577            6        Sun  TRZWUH                 China   \n",
       "25578            7        Sun  TRZWUH                 China   \n",
       "25579           14        Mon  TRZWUH                 China   \n",
       "25580           15        Fri  TRZWUH                Taiwan   \n",
       "25581            8        Sun  TRZWUH                 China   \n",
       "25582            8        Sun  TRZWUH                 China   \n",
       "25583           14        Mon  TRZWUH                 China   \n",
       "25584            6        Sun  TRZWUH                 China   \n",
       "25585           11        Mon  TRZWUH                 China   \n",
       "25586           17        Fri  TRZWUH                Taiwan   \n",
       "25572           13        Fri  TPEVTE                Taiwan   \n",
       "25573           13        Fri  TPEVTE                Taiwan   \n",
       "42238            8        Thu  TPEURT                Taiwan   \n",
       "29301            3        Tue  TPETWU                Taiwan   \n",
       "42235            3        Thu  TPETWU                Taiwan   \n",
       "42236           21        Sun  TPETWU                Taiwan   \n",
       "42237           15        Thu  TPETWU                Taiwan   \n",
       "34953           16        Thu  TPETWU                Taiwan   \n",
       "34954           15        Sat  TPETWU                Taiwan   \n",
       "25551           14        Sat  TPETRZ                Taiwan   \n",
       "25552            7        Sat  TPETRZ                Taiwan   \n",
       "25553            3        Sun  TPETRZ                Taiwan   \n",
       "25554           15        Mon  TPETRZ                Taiwan   \n",
       "25555           15        Mon  TPETRZ                Taiwan   \n",
       "25556           13        Fri  TPETRZ                Taiwan   \n",
       "25557           12        Sun  TPETRZ                Taiwan   \n",
       "25558            5        Tue  TPETRZ                Taiwan   \n",
       "25559            6        Thu  TPETRZ                Taiwan   \n",
       "25560            4        Mon  TPETRZ                Taiwan   \n",
       "25561           11        Fri  TPETRZ                Taiwan   \n",
       "25562           16        Mon  TPETRZ                Taiwan   \n",
       "\n",
       "       wants_extra_baggage  wants_preferred_seat  wants_in_flight_meals  \\\n",
       "42242                    1                     0                      0   \n",
       "25593                    1                     1                      0   \n",
       "25594                    1                     0                      0   \n",
       "25595                    1                     0                      1   \n",
       "34956                    0                     0                      0   \n",
       "42241                    0                     0                      0   \n",
       "25596                    0                     0                      0   \n",
       "42240                    1                     1                      1   \n",
       "34955                    1                     0                      0   \n",
       "42239                    1                     0                      0   \n",
       "25587                    1                     0                      1   \n",
       "25588                    0                     0                      1   \n",
       "25589                    1                     0                      1   \n",
       "25590                    1                     0                      0   \n",
       "25591                    1                     0                      1   \n",
       "25592                    1                     0                      0   \n",
       "25574                    1                     1                      1   \n",
       "25575                    1                     1                      1   \n",
       "25576                    1                     0                      1   \n",
       "25577                    1                     0                      1   \n",
       "25578                    1                     0                      1   \n",
       "25579                    1                     1                      1   \n",
       "25580                    1                     0                      1   \n",
       "25581                    1                     0                      1   \n",
       "25582                    1                     0                      1   \n",
       "25583                    1                     1                      1   \n",
       "25584                    1                     0                      1   \n",
       "25585                    1                     1                      1   \n",
       "25586                    1                     0                      1   \n",
       "25572                    1                     0                      1   \n",
       "25573                    1                     0                      1   \n",
       "42238                    0                     1                      1   \n",
       "29301                    0                     0                      0   \n",
       "42235                    1                     0                      0   \n",
       "42236                    0                     0                      0   \n",
       "42237                    0                     0                      0   \n",
       "34953                    0                     0                      0   \n",
       "34954                    0                     0                      0   \n",
       "25551                    1                     0                      1   \n",
       "25552                    1                     0                      1   \n",
       "25553                    1                     0                      1   \n",
       "25554                    1                     0                      1   \n",
       "25555                    1                     0                      1   \n",
       "25556                    1                     0                      1   \n",
       "25557                    1                     1                      0   \n",
       "25558                    1                     0                      1   \n",
       "25559                    1                     0                      1   \n",
       "25560                    1                     1                      1   \n",
       "25561                    1                     0                      1   \n",
       "25562                    1                     0                      1   \n",
       "\n",
       "       flight_duration  booking_complete departure destination  \n",
       "42242             5.00                 0       URT         XIY  \n",
       "25593             5.00                 0       TWU         XIY  \n",
       "25594             5.00                 0       TWU         XIY  \n",
       "25595             5.00                 0       TWU         XIY  \n",
       "34956             5.00                 0       TWU         XIY  \n",
       "42241             5.00                 0       TWU         XIY  \n",
       "25596             5.00                 1       TWU         XIY  \n",
       "42240             5.00                 1       TWU         XIY  \n",
       "34955             5.13                 0       TWU         WUH  \n",
       "42239             5.13                 1       TWU         WUH  \n",
       "25587             5.00                 0       TRZ         XIY  \n",
       "25588             5.00                 0       TRZ         XIY  \n",
       "25589             5.00                 0       TRZ         XIY  \n",
       "25590             5.00                 0       TRZ         XIY  \n",
       "25591             5.00                 0       TRZ         XIY  \n",
       "25592             5.00                 0       TRZ         XIY  \n",
       "25574             5.13                 0       TRZ         WUH  \n",
       "25575             5.13                 0       TRZ         WUH  \n",
       "25576             5.13                 0       TRZ         WUH  \n",
       "25577             5.13                 0       TRZ         WUH  \n",
       "25578             5.13                 0       TRZ         WUH  \n",
       "25579             5.13                 0       TRZ         WUH  \n",
       "25580             5.13                 0       TRZ         WUH  \n",
       "25581             5.13                 0       TRZ         WUH  \n",
       "25582             5.13                 0       TRZ         WUH  \n",
       "25583             5.13                 0       TRZ         WUH  \n",
       "25584             5.13                 0       TRZ         WUH  \n",
       "25585             5.13                 0       TRZ         WUH  \n",
       "25586             5.13                 0       TRZ         WUH  \n",
       "25572             4.67                 0       TPE         VTE  \n",
       "25573             4.67                 0       TPE         VTE  \n",
       "42238             4.67                 0       TPE         URT  \n",
       "29301             4.67                 0       TPE         TWU  \n",
       "42235             4.67                 0       TPE         TWU  \n",
       "42236             4.67                 0       TPE         TWU  \n",
       "42237             4.67                 0       TPE         TWU  \n",
       "34953             4.67                 1       TPE         TWU  \n",
       "34954             4.67                 1       TPE         TWU  \n",
       "25551             4.67                 0       TPE         TRZ  \n",
       "25552             4.67                 0       TPE         TRZ  \n",
       "25553             4.67                 0       TPE         TRZ  \n",
       "25554             4.67                 0       TPE         TRZ  \n",
       "25555             4.67                 0       TPE         TRZ  \n",
       "25556             4.67                 0       TPE         TRZ  \n",
       "25557             4.67                 0       TPE         TRZ  \n",
       "25558             4.67                 0       TPE         TRZ  \n",
       "25559             4.67                 0       TPE         TRZ  \n",
       "25560             4.67                 0       TPE         TRZ  \n",
       "25561             4.67                 0       TPE         TRZ  \n",
       "25562             4.67                 0       TPE         TRZ  "
      ]
     },
     "execution_count": 211,
     "metadata": {},
     "output_type": "execute_result"
    }
   ],
   "source": [
    "df_cust.sort_values(by=['route', 'booking_complete'], \n",
    "                    ascending=[False, True]).head(50) #mengurutkan lebih dari 1 kolom"
   ]
  },
  {
   "cell_type": "code",
   "execution_count": 212,
   "id": "b0eaad1e",
   "metadata": {},
   "outputs": [
    {
     "data": {
      "text/html": [
       "<div>\n",
       "<style scoped>\n",
       "    .dataframe tbody tr th:only-of-type {\n",
       "        vertical-align: middle;\n",
       "    }\n",
       "\n",
       "    .dataframe tbody tr th {\n",
       "        vertical-align: top;\n",
       "    }\n",
       "\n",
       "    .dataframe thead th {\n",
       "        text-align: right;\n",
       "    }\n",
       "</style>\n",
       "<table border=\"1\" class=\"dataframe\">\n",
       "  <thead>\n",
       "    <tr style=\"text-align: right;\">\n",
       "      <th></th>\n",
       "      <th>num_passengers</th>\n",
       "      <th>sales_channel</th>\n",
       "      <th>trip_type</th>\n",
       "      <th>purchase_lead</th>\n",
       "      <th>length_of_stay</th>\n",
       "      <th>flight_hour</th>\n",
       "      <th>flight_day</th>\n",
       "      <th>route</th>\n",
       "      <th>booking_origin</th>\n",
       "      <th>wants_extra_baggage</th>\n",
       "      <th>wants_preferred_seat</th>\n",
       "      <th>wants_in_flight_meals</th>\n",
       "      <th>flight_duration</th>\n",
       "      <th>booking_complete</th>\n",
       "      <th>departure</th>\n",
       "      <th>destination</th>\n",
       "    </tr>\n",
       "  </thead>\n",
       "  <tbody>\n",
       "    <tr>\n",
       "      <th>82</th>\n",
       "      <td>1</td>\n",
       "      <td>Internet</td>\n",
       "      <td>RoundTrip</td>\n",
       "      <td>15</td>\n",
       "      <td>31</td>\n",
       "      <td>17</td>\n",
       "      <td>Mon</td>\n",
       "      <td>AKLKUL</td>\n",
       "      <td>Malaysia</td>\n",
       "      <td>0</td>\n",
       "      <td>0</td>\n",
       "      <td>0</td>\n",
       "      <td>8.83</td>\n",
       "      <td>1</td>\n",
       "      <td>AKL</td>\n",
       "      <td>KUL</td>\n",
       "    </tr>\n",
       "    <tr>\n",
       "      <th>86</th>\n",
       "      <td>1</td>\n",
       "      <td>Internet</td>\n",
       "      <td>RoundTrip</td>\n",
       "      <td>156</td>\n",
       "      <td>19</td>\n",
       "      <td>14</td>\n",
       "      <td>Mon</td>\n",
       "      <td>AKLKUL</td>\n",
       "      <td>Malaysia</td>\n",
       "      <td>1</td>\n",
       "      <td>0</td>\n",
       "      <td>0</td>\n",
       "      <td>8.83</td>\n",
       "      <td>1</td>\n",
       "      <td>AKL</td>\n",
       "      <td>KUL</td>\n",
       "    </tr>\n",
       "    <tr>\n",
       "      <th>94</th>\n",
       "      <td>1</td>\n",
       "      <td>Internet</td>\n",
       "      <td>RoundTrip</td>\n",
       "      <td>181</td>\n",
       "      <td>87</td>\n",
       "      <td>2</td>\n",
       "      <td>Tue</td>\n",
       "      <td>AKLKUL</td>\n",
       "      <td>Singapore</td>\n",
       "      <td>1</td>\n",
       "      <td>0</td>\n",
       "      <td>1</td>\n",
       "      <td>8.83</td>\n",
       "      <td>1</td>\n",
       "      <td>AKL</td>\n",
       "      <td>KUL</td>\n",
       "    </tr>\n",
       "    <tr>\n",
       "      <th>109</th>\n",
       "      <td>1</td>\n",
       "      <td>Mobile</td>\n",
       "      <td>RoundTrip</td>\n",
       "      <td>127</td>\n",
       "      <td>17</td>\n",
       "      <td>16</td>\n",
       "      <td>Tue</td>\n",
       "      <td>AKLKUL</td>\n",
       "      <td>Malaysia</td>\n",
       "      <td>1</td>\n",
       "      <td>0</td>\n",
       "      <td>1</td>\n",
       "      <td>8.83</td>\n",
       "      <td>1</td>\n",
       "      <td>AKL</td>\n",
       "      <td>KUL</td>\n",
       "    </tr>\n",
       "    <tr>\n",
       "      <th>122</th>\n",
       "      <td>1</td>\n",
       "      <td>Internet</td>\n",
       "      <td>RoundTrip</td>\n",
       "      <td>42</td>\n",
       "      <td>17</td>\n",
       "      <td>14</td>\n",
       "      <td>Tue</td>\n",
       "      <td>AKLKUL</td>\n",
       "      <td>Malaysia</td>\n",
       "      <td>0</td>\n",
       "      <td>0</td>\n",
       "      <td>0</td>\n",
       "      <td>8.83</td>\n",
       "      <td>1</td>\n",
       "      <td>AKL</td>\n",
       "      <td>KUL</td>\n",
       "    </tr>\n",
       "  </tbody>\n",
       "</table>\n",
       "</div>"
      ],
      "text/plain": [
       "     num_passengers sales_channel  trip_type  purchase_lead  length_of_stay  \\\n",
       "82                1      Internet  RoundTrip             15              31   \n",
       "86                1      Internet  RoundTrip            156              19   \n",
       "94                1      Internet  RoundTrip            181              87   \n",
       "109               1        Mobile  RoundTrip            127              17   \n",
       "122               1      Internet  RoundTrip             42              17   \n",
       "\n",
       "     flight_hour flight_day   route booking_origin  wants_extra_baggage  \\\n",
       "82            17        Mon  AKLKUL       Malaysia                    0   \n",
       "86            14        Mon  AKLKUL       Malaysia                    1   \n",
       "94             2        Tue  AKLKUL      Singapore                    1   \n",
       "109           16        Tue  AKLKUL       Malaysia                    1   \n",
       "122           14        Tue  AKLKUL       Malaysia                    0   \n",
       "\n",
       "     wants_preferred_seat  wants_in_flight_meals  flight_duration  \\\n",
       "82                      0                      0             8.83   \n",
       "86                      0                      0             8.83   \n",
       "94                      0                      1             8.83   \n",
       "109                     0                      1             8.83   \n",
       "122                     0                      0             8.83   \n",
       "\n",
       "     booking_complete departure destination  \n",
       "82                  1       AKL         KUL  \n",
       "86                  1       AKL         KUL  \n",
       "94                  1       AKL         KUL  \n",
       "109                 1       AKL         KUL  \n",
       "122                 1       AKL         KUL  "
      ]
     },
     "execution_count": 212,
     "metadata": {},
     "output_type": "execute_result"
    }
   ],
   "source": [
    "sudah = df_cust[df_cust['booking_complete']==1]\n",
    "sudah.head()"
   ]
  },
  {
   "cell_type": "code",
   "execution_count": 213,
   "id": "e0382cdb",
   "metadata": {},
   "outputs": [
    {
     "data": {
      "text/plain": [
       "(7478, 16)"
      ]
     },
     "execution_count": 213,
     "metadata": {},
     "output_type": "execute_result"
    }
   ],
   "source": [
    "sudah.shape"
   ]
  },
  {
   "cell_type": "code",
   "execution_count": 214,
   "id": "23bb18ee",
   "metadata": {},
   "outputs": [
    {
     "data": {
      "text/html": [
       "<div>\n",
       "<style scoped>\n",
       "    .dataframe tbody tr th:only-of-type {\n",
       "        vertical-align: middle;\n",
       "    }\n",
       "\n",
       "    .dataframe tbody tr th {\n",
       "        vertical-align: top;\n",
       "    }\n",
       "\n",
       "    .dataframe thead th {\n",
       "        text-align: right;\n",
       "    }\n",
       "</style>\n",
       "<table border=\"1\" class=\"dataframe\">\n",
       "  <thead>\n",
       "    <tr style=\"text-align: right;\">\n",
       "      <th></th>\n",
       "      <th>num_passengers</th>\n",
       "      <th>sales_channel</th>\n",
       "      <th>trip_type</th>\n",
       "      <th>purchase_lead</th>\n",
       "      <th>length_of_stay</th>\n",
       "      <th>flight_hour</th>\n",
       "      <th>flight_day</th>\n",
       "      <th>route</th>\n",
       "      <th>booking_origin</th>\n",
       "      <th>wants_extra_baggage</th>\n",
       "      <th>wants_preferred_seat</th>\n",
       "      <th>wants_in_flight_meals</th>\n",
       "      <th>flight_duration</th>\n",
       "      <th>booking_complete</th>\n",
       "      <th>departure</th>\n",
       "      <th>destination</th>\n",
       "    </tr>\n",
       "  </thead>\n",
       "  <tbody>\n",
       "    <tr>\n",
       "      <th>0</th>\n",
       "      <td>2</td>\n",
       "      <td>Internet</td>\n",
       "      <td>RoundTrip</td>\n",
       "      <td>262</td>\n",
       "      <td>19</td>\n",
       "      <td>7</td>\n",
       "      <td>Sat</td>\n",
       "      <td>AKLDEL</td>\n",
       "      <td>New Zealand</td>\n",
       "      <td>1</td>\n",
       "      <td>0</td>\n",
       "      <td>0</td>\n",
       "      <td>5.52</td>\n",
       "      <td>0</td>\n",
       "      <td>AKL</td>\n",
       "      <td>DEL</td>\n",
       "    </tr>\n",
       "    <tr>\n",
       "      <th>1</th>\n",
       "      <td>1</td>\n",
       "      <td>Internet</td>\n",
       "      <td>RoundTrip</td>\n",
       "      <td>112</td>\n",
       "      <td>20</td>\n",
       "      <td>3</td>\n",
       "      <td>Sat</td>\n",
       "      <td>AKLDEL</td>\n",
       "      <td>New Zealand</td>\n",
       "      <td>0</td>\n",
       "      <td>0</td>\n",
       "      <td>0</td>\n",
       "      <td>5.52</td>\n",
       "      <td>0</td>\n",
       "      <td>AKL</td>\n",
       "      <td>DEL</td>\n",
       "    </tr>\n",
       "    <tr>\n",
       "      <th>2</th>\n",
       "      <td>2</td>\n",
       "      <td>Internet</td>\n",
       "      <td>RoundTrip</td>\n",
       "      <td>243</td>\n",
       "      <td>22</td>\n",
       "      <td>17</td>\n",
       "      <td>Wed</td>\n",
       "      <td>AKLDEL</td>\n",
       "      <td>India</td>\n",
       "      <td>1</td>\n",
       "      <td>1</td>\n",
       "      <td>0</td>\n",
       "      <td>5.52</td>\n",
       "      <td>0</td>\n",
       "      <td>AKL</td>\n",
       "      <td>DEL</td>\n",
       "    </tr>\n",
       "    <tr>\n",
       "      <th>3</th>\n",
       "      <td>1</td>\n",
       "      <td>Internet</td>\n",
       "      <td>RoundTrip</td>\n",
       "      <td>96</td>\n",
       "      <td>31</td>\n",
       "      <td>4</td>\n",
       "      <td>Sat</td>\n",
       "      <td>AKLDEL</td>\n",
       "      <td>New Zealand</td>\n",
       "      <td>0</td>\n",
       "      <td>0</td>\n",
       "      <td>1</td>\n",
       "      <td>5.52</td>\n",
       "      <td>0</td>\n",
       "      <td>AKL</td>\n",
       "      <td>DEL</td>\n",
       "    </tr>\n",
       "    <tr>\n",
       "      <th>4</th>\n",
       "      <td>2</td>\n",
       "      <td>Internet</td>\n",
       "      <td>RoundTrip</td>\n",
       "      <td>68</td>\n",
       "      <td>22</td>\n",
       "      <td>15</td>\n",
       "      <td>Wed</td>\n",
       "      <td>AKLDEL</td>\n",
       "      <td>India</td>\n",
       "      <td>1</td>\n",
       "      <td>0</td>\n",
       "      <td>1</td>\n",
       "      <td>5.52</td>\n",
       "      <td>0</td>\n",
       "      <td>AKL</td>\n",
       "      <td>DEL</td>\n",
       "    </tr>\n",
       "  </tbody>\n",
       "</table>\n",
       "</div>"
      ],
      "text/plain": [
       "   num_passengers sales_channel  trip_type  purchase_lead  length_of_stay  \\\n",
       "0               2      Internet  RoundTrip            262              19   \n",
       "1               1      Internet  RoundTrip            112              20   \n",
       "2               2      Internet  RoundTrip            243              22   \n",
       "3               1      Internet  RoundTrip             96              31   \n",
       "4               2      Internet  RoundTrip             68              22   \n",
       "\n",
       "   flight_hour flight_day   route booking_origin  wants_extra_baggage  \\\n",
       "0            7        Sat  AKLDEL    New Zealand                    1   \n",
       "1            3        Sat  AKLDEL    New Zealand                    0   \n",
       "2           17        Wed  AKLDEL          India                    1   \n",
       "3            4        Sat  AKLDEL    New Zealand                    0   \n",
       "4           15        Wed  AKLDEL          India                    1   \n",
       "\n",
       "   wants_preferred_seat  wants_in_flight_meals  flight_duration  \\\n",
       "0                     0                      0             5.52   \n",
       "1                     0                      0             5.52   \n",
       "2                     1                      0             5.52   \n",
       "3                     0                      1             5.52   \n",
       "4                     0                      1             5.52   \n",
       "\n",
       "   booking_complete departure destination  \n",
       "0                 0       AKL         DEL  \n",
       "1                 0       AKL         DEL  \n",
       "2                 0       AKL         DEL  \n",
       "3                 0       AKL         DEL  \n",
       "4                 0       AKL         DEL  "
      ]
     },
     "execution_count": 214,
     "metadata": {},
     "output_type": "execute_result"
    }
   ],
   "source": [
    "belom = df_cust[df_cust['booking_complete']==0]\n",
    "belom.head()"
   ]
  },
  {
   "cell_type": "code",
   "execution_count": 215,
   "id": "441f18a2",
   "metadata": {},
   "outputs": [
    {
     "data": {
      "text/plain": [
       "(42522, 16)"
      ]
     },
     "execution_count": 215,
     "metadata": {},
     "output_type": "execute_result"
    }
   ],
   "source": [
    "belom.shape"
   ]
  },
  {
   "cell_type": "code",
   "execution_count": 216,
   "id": "8aaded35",
   "metadata": {},
   "outputs": [
    {
     "data": {
      "text/plain": [
       "0    85.0%\n",
       "1    15.0%\n",
       "Name: booking_complete, dtype: object"
      ]
     },
     "execution_count": 216,
     "metadata": {},
     "output_type": "execute_result"
    }
   ],
   "source": [
    "bc= df_cust.booking_complete.value_counts(normalize=True).mul(100).round(1).astype(str) + '%'\n",
    "bc"
   ]
  },
  {
   "cell_type": "markdown",
   "id": "b3f2bc24",
   "metadata": {},
   "source": [
    "- there are 85% of customers not booking complete\n",
    "- and the rest booking complete"
   ]
  },
  {
   "cell_type": "code",
   "execution_count": 217,
   "id": "5c2b8226",
   "metadata": {},
   "outputs": [
    {
     "data": {
      "text/plain": [
       "<seaborn.axisgrid.FacetGrid at 0x2011771e2e0>"
      ]
     },
     "execution_count": 217,
     "metadata": {},
     "output_type": "execute_result"
    },
    {
     "data": {
      "text/plain": [
       "<Figure size 1000x500 with 0 Axes>"
      ]
     },
     "metadata": {},
     "output_type": "display_data"
    },
    {
     "data": {
      "image/png": "[encoded data removed]",
      "text/plain": [
       "<Figure size 550x250 with 1 Axes>"
      ]
     },
     "metadata": {},
     "output_type": "display_data"
    }
   ],
   "source": [
    "fig = plt.figure(figsize=(10, 5))\n",
    "sns.catplot(y='wants_extra_baggage', kind='count', data=df_cust, height=2.5, aspect=2.2, palette = 'deep')"
   ]
  },
  {
   "cell_type": "code",
   "execution_count": 218,
   "id": "36e67a79",
   "metadata": {
    "scrolled": true
   },
   "outputs": [
    {
     "data": {
      "text/plain": [
       "1    66.9%\n",
       "0    33.1%\n",
       "Name: wants_extra_baggage, dtype: object"
      ]
     },
     "execution_count": 218,
     "metadata": {},
     "output_type": "execute_result"
    }
   ],
   "source": [
    "df_cust['wants_extra_baggage'].value_counts(normalize=True).mul(100).round(1).astype(str) + '%'"
   ]
  },
  {
   "cell_type": "code",
   "execution_count": 219,
   "id": "99346e60",
   "metadata": {},
   "outputs": [
    {
     "data": {
      "text/plain": [
       "<seaborn.axisgrid.FacetGrid at 0x20117739970>"
      ]
     },
     "execution_count": 219,
     "metadata": {},
     "output_type": "execute_result"
    },
    {
     "data": {
      "text/plain": [
       "<Figure size 1000x500 with 0 Axes>"
      ]
     },
     "metadata": {},
     "output_type": "display_data"
    },
    {
     "data": {
      "image/png": "[encoded data removed]",
      "text/plain": [
       "<Figure size 550x250 with 1 Axes>"
      ]
     },
     "metadata": {},
     "output_type": "display_data"
    }
   ],
   "source": [
    "fig = plt.figure(figsize=(10, 5))\n",
    "sns.catplot(y='wants_preferred_seat', kind='count', data=df_cust, height=2.5, aspect=2.2, palette = 'deep')"
   ]
  },
  {
   "cell_type": "code",
   "execution_count": 220,
   "id": "221a24b9",
   "metadata": {
    "scrolled": true
   },
   "outputs": [
    {
     "data": {
      "text/plain": [
       "0    70.3%\n",
       "1    29.7%\n",
       "Name: wants_preferred_seat, dtype: object"
      ]
     },
     "execution_count": 220,
     "metadata": {},
     "output_type": "execute_result"
    }
   ],
   "source": [
    "df_cust['wants_preferred_seat'].value_counts(normalize=True).mul(100).round(1).astype(str) + '%'"
   ]
  },
  {
   "cell_type": "code",
   "execution_count": 221,
   "id": "3394e9df",
   "metadata": {},
   "outputs": [
    {
     "data": {
      "text/plain": [
       "<seaborn.axisgrid.FacetGrid at 0x2011564e490>"
      ]
     },
     "execution_count": 221,
     "metadata": {},
     "output_type": "execute_result"
    },
    {
     "data": {
      "text/plain": [
       "<Figure size 1000x500 with 0 Axes>"
      ]
     },
     "metadata": {},
     "output_type": "display_data"
    },
    {
     "data": {
      "image/png": "[encoded data removed]",
      "text/plain": [
       "<Figure size 550x250 with 1 Axes>"
      ]
     },
     "metadata": {},
     "output_type": "display_data"
    }
   ],
   "source": [
    "fig = plt.figure(figsize=(10, 5))\n",
    "sns.catplot(y='wants_in_flight_meals', kind='count', data=df_cust, height=2.5, aspect=2.2, palette = 'deep')"
   ]
  },
  {
   "cell_type": "code",
   "execution_count": 222,
   "id": "2b9afefa",
   "metadata": {},
   "outputs": [
    {
     "data": {
      "text/plain": [
       "0    57.3%\n",
       "1    42.7%\n",
       "Name: wants_in_flight_meals, dtype: object"
      ]
     },
     "execution_count": 222,
     "metadata": {},
     "output_type": "execute_result"
    }
   ],
   "source": [
    "df_cust['wants_in_flight_meals'].value_counts(normalize=True).mul(100).round(1).astype(str) + '%'"
   ]
  },
  {
   "cell_type": "markdown",
   "id": "f8d2bf20",
   "metadata": {},
   "source": [
    "- 66% of customers want the extra baggage\n",
    "- mostly customers don't choose seats, only about 30% do\n",
    "- 57% of customers don't want to eat during the flight and 43% want to eat"
   ]
  },
  {
   "cell_type": "markdown",
   "id": "a79919e8",
   "metadata": {},
   "source": [
    "# Feature Engeneering"
   ]
  },
  {
   "cell_type": "code",
   "execution_count": 223,
   "id": "e38195f8",
   "metadata": {
    "scrolled": true
   },
   "outputs": [
    {
     "data": {
      "text/plain": [
       "Australia               17872\n",
       "Malaysia                 7174\n",
       "South Korea              4559\n",
       "Japan                    3885\n",
       "China                    3387\n",
       "                        ...  \n",
       "Panama                      1\n",
       "Tonga                       1\n",
       "Tanzania                    1\n",
       "Bulgaria                    1\n",
       "Svalbard & Jan Mayen        1\n",
       "Name: booking_origin, Length: 104, dtype: int64"
      ]
     },
     "execution_count": 223,
     "metadata": {},
     "output_type": "execute_result"
    }
   ],
   "source": [
    "booking_originremake = df_cust['booking_origin'].value_counts()\n",
    "booking_originremake"
   ]
  },
  {
   "cell_type": "code",
   "execution_count": 224,
   "id": "ed64f9ab",
   "metadata": {},
   "outputs": [],
   "source": [
    "# Keep only the top 5 values\n",
    "top_5 = booking_originremake[:5].index"
   ]
  },
  {
   "cell_type": "code",
   "execution_count": 225,
   "id": "588dbd33",
   "metadata": {},
   "outputs": [
    {
     "data": {
      "text/plain": [
       "Index(['Australia', 'Malaysia', 'South Korea', 'Japan', 'China'], dtype='object')"
      ]
     },
     "execution_count": 225,
     "metadata": {},
     "output_type": "execute_result"
    }
   ],
   "source": [
    "top_5"
   ]
  },
  {
   "cell_type": "markdown",
   "id": "fa6a50c8",
   "metadata": {},
   "source": [
    "- Australia,Malaysia, South Korea,Japan,China (other than this is 'others')"
   ]
  },
  {
   "cell_type": "code",
   "execution_count": 226,
   "id": "65dbeb6c",
   "metadata": {},
   "outputs": [],
   "source": [
    "# Replace all values outside of the top 5 with \"Others\"\n",
    "df_cust['booking_origin'] = df_cust['booking_origin'].apply(lambda x: x if x in top_5 else \"Others\")"
   ]
  },
  {
   "cell_type": "code",
   "execution_count": 227,
   "id": "0e0dd493",
   "metadata": {},
   "outputs": [
    {
     "data": {
      "text/html": [
       "<div>\n",
       "<style scoped>\n",
       "    .dataframe tbody tr th:only-of-type {\n",
       "        vertical-align: middle;\n",
       "    }\n",
       "\n",
       "    .dataframe tbody tr th {\n",
       "        vertical-align: top;\n",
       "    }\n",
       "\n",
       "    .dataframe thead th {\n",
       "        text-align: right;\n",
       "    }\n",
       "</style>\n",
       "<table border=\"1\" class=\"dataframe\">\n",
       "  <thead>\n",
       "    <tr style=\"text-align: right;\">\n",
       "      <th></th>\n",
       "      <th>num_passengers</th>\n",
       "      <th>sales_channel</th>\n",
       "      <th>trip_type</th>\n",
       "      <th>purchase_lead</th>\n",
       "      <th>length_of_stay</th>\n",
       "      <th>flight_hour</th>\n",
       "      <th>flight_day</th>\n",
       "      <th>route</th>\n",
       "      <th>booking_origin</th>\n",
       "      <th>wants_extra_baggage</th>\n",
       "      <th>wants_preferred_seat</th>\n",
       "      <th>wants_in_flight_meals</th>\n",
       "      <th>flight_duration</th>\n",
       "      <th>booking_complete</th>\n",
       "      <th>departure</th>\n",
       "      <th>destination</th>\n",
       "    </tr>\n",
       "  </thead>\n",
       "  <tbody>\n",
       "    <tr>\n",
       "      <th>0</th>\n",
       "      <td>2</td>\n",
       "      <td>Internet</td>\n",
       "      <td>RoundTrip</td>\n",
       "      <td>262</td>\n",
       "      <td>19</td>\n",
       "      <td>7</td>\n",
       "      <td>Sat</td>\n",
       "      <td>AKLDEL</td>\n",
       "      <td>Others</td>\n",
       "      <td>1</td>\n",
       "      <td>0</td>\n",
       "      <td>0</td>\n",
       "      <td>5.52</td>\n",
       "      <td>0</td>\n",
       "      <td>AKL</td>\n",
       "      <td>DEL</td>\n",
       "    </tr>\n",
       "    <tr>\n",
       "      <th>1</th>\n",
       "      <td>1</td>\n",
       "      <td>Internet</td>\n",
       "      <td>RoundTrip</td>\n",
       "      <td>112</td>\n",
       "      <td>20</td>\n",
       "      <td>3</td>\n",
       "      <td>Sat</td>\n",
       "      <td>AKLDEL</td>\n",
       "      <td>Others</td>\n",
       "      <td>0</td>\n",
       "      <td>0</td>\n",
       "      <td>0</td>\n",
       "      <td>5.52</td>\n",
       "      <td>0</td>\n",
       "      <td>AKL</td>\n",
       "      <td>DEL</td>\n",
       "    </tr>\n",
       "    <tr>\n",
       "      <th>2</th>\n",
       "      <td>2</td>\n",
       "      <td>Internet</td>\n",
       "      <td>RoundTrip</td>\n",
       "      <td>243</td>\n",
       "      <td>22</td>\n",
       "      <td>17</td>\n",
       "      <td>Wed</td>\n",
       "      <td>AKLDEL</td>\n",
       "      <td>Others</td>\n",
       "      <td>1</td>\n",
       "      <td>1</td>\n",
       "      <td>0</td>\n",
       "      <td>5.52</td>\n",
       "      <td>0</td>\n",
       "      <td>AKL</td>\n",
       "      <td>DEL</td>\n",
       "    </tr>\n",
       "  </tbody>\n",
       "</table>\n",
       "</div>"
      ],
      "text/plain": [
       "   num_passengers sales_channel  trip_type  purchase_lead  length_of_stay  \\\n",
       "0               2      Internet  RoundTrip            262              19   \n",
       "1               1      Internet  RoundTrip            112              20   \n",
       "2               2      Internet  RoundTrip            243              22   \n",
       "\n",
       "   flight_hour flight_day   route booking_origin  wants_extra_baggage  \\\n",
       "0            7        Sat  AKLDEL         Others                    1   \n",
       "1            3        Sat  AKLDEL         Others                    0   \n",
       "2           17        Wed  AKLDEL         Others                    1   \n",
       "\n",
       "   wants_preferred_seat  wants_in_flight_meals  flight_duration  \\\n",
       "0                     0                      0             5.52   \n",
       "1                     0                      0             5.52   \n",
       "2                     1                      0             5.52   \n",
       "\n",
       "   booking_complete departure destination  \n",
       "0                 0       AKL         DEL  \n",
       "1                 0       AKL         DEL  \n",
       "2                 0       AKL         DEL  "
      ]
     },
     "execution_count": 227,
     "metadata": {},
     "output_type": "execute_result"
    }
   ],
   "source": [
    "df_cust.head(3)"
   ]
  },
  {
   "cell_type": "code",
   "execution_count": 228,
   "id": "1982e10e",
   "metadata": {},
   "outputs": [
    {
     "data": {
      "text/plain": [
       "(50000, 16)"
      ]
     },
     "execution_count": 228,
     "metadata": {},
     "output_type": "execute_result"
    }
   ],
   "source": [
    "df_cust.shape"
   ]
  },
  {
   "cell_type": "markdown",
   "id": "8679df1d",
   "metadata": {},
   "source": [
    "#### Handling Outliers"
   ]
  },
  {
   "cell_type": "code",
   "execution_count": 229,
   "id": "f84ad8dd",
   "metadata": {},
   "outputs": [
    {
     "data": {
      "text/plain": [
       "<AxesSubplot:xlabel='purchase_lead'>"
      ]
     },
     "execution_count": 229,
     "metadata": {},
     "output_type": "execute_result"
    },
    {
     "data": {
      "image/png": "[encoded data removed]",
      "text/plain": [
       "<Figure size 1000x500 with 1 Axes>"
      ]
     },
     "metadata": {},
     "output_type": "display_data"
    }
   ],
   "source": [
    "fig = plt.figure(figsize=(10, 5))\n",
    "sns.boxplot(x='purchase_lead', data=df_cust)"
   ]
  },
  {
   "cell_type": "code",
   "execution_count": 230,
   "id": "7c7094c5",
   "metadata": {},
   "outputs": [
    {
     "data": {
      "text/plain": [
       "<AxesSubplot:xlabel='length_of_stay'>"
      ]
     },
     "execution_count": 230,
     "metadata": {},
     "output_type": "execute_result"
    },
    {
     "data": {
      "image/png": "[encoded data removed]",
      "text/plain": [
       "<Figure size 1000x500 with 1 Axes>"
      ]
     },
     "metadata": {},
     "output_type": "display_data"
    }
   ],
   "source": [
    "fig = plt.figure(figsize=(10, 5))\n",
    "sns.boxplot(x='length_of_stay', data=df_cust)"
   ]
  },
  {
   "cell_type": "code",
   "execution_count": 231,
   "id": "e93fd4ed",
   "metadata": {},
   "outputs": [
    {
     "data": {
      "text/plain": [
       "<AxesSubplot:xlabel='flight_duration'>"
      ]
     },
     "execution_count": 231,
     "metadata": {},
     "output_type": "execute_result"
    },
    {
     "data": {
      "image/png": "[encoded data removed]",
      "text/plain": [
       "<Figure size 1000x500 with 1 Axes>"
      ]
     },
     "metadata": {},
     "output_type": "display_data"
    }
   ],
   "source": [
    "fig = plt.figure(figsize=(10, 5))\n",
    "sns.boxplot(x='flight_duration', data=df_cust)"
   ]
  },
  {
   "cell_type": "code",
   "execution_count": 232,
   "id": "6f7adcc6",
   "metadata": {},
   "outputs": [
    {
     "data": {
      "text/plain": [
       "<AxesSubplot:xlabel='flight_hour'>"
      ]
     },
     "execution_count": 232,
     "metadata": {},
     "output_type": "execute_result"
    },
    {
     "data": {
      "image/png": "[encoded data removed]",
      "text/plain": [
       "<Figure size 1000x500 with 1 Axes>"
      ]
     },
     "metadata": {},
     "output_type": "display_data"
    }
   ],
   "source": [
    "fig = plt.figure(figsize=(10, 5))\n",
    "sns.boxplot(x='flight_hour', data=df_cust)"
   ]
  },
  {
   "cell_type": "markdown",
   "id": "da468e37",
   "metadata": {},
   "source": [
    "need to handle outlier = \n",
    "\n",
    "- purchase lead\n",
    "- length of stay\n"
   ]
  },
  {
   "cell_type": "code",
   "execution_count": 233,
   "id": "7d7fd60c",
   "metadata": {},
   "outputs": [
    {
     "data": {
      "text/plain": [
       "count    50000.000000\n",
       "mean        84.940480\n",
       "std         90.451378\n",
       "min          0.000000\n",
       "25%         21.000000\n",
       "50%         51.000000\n",
       "75%        115.000000\n",
       "max        867.000000\n",
       "Name: purchase_lead, dtype: float64"
      ]
     },
     "execution_count": 233,
     "metadata": {},
     "output_type": "execute_result"
    }
   ],
   "source": [
    "df_cust['purchase_lead'].describe()"
   ]
  },
  {
   "cell_type": "code",
   "execution_count": 234,
   "id": "afd95b8a",
   "metadata": {},
   "outputs": [
    {
     "data": {
      "text/plain": [
       "21.0"
      ]
     },
     "execution_count": 234,
     "metadata": {},
     "output_type": "execute_result"
    }
   ],
   "source": [
    "df_cust['purchase_lead'].quantile(0.25)"
   ]
  },
  {
   "cell_type": "code",
   "execution_count": 235,
   "id": "5462942a",
   "metadata": {},
   "outputs": [
    {
     "data": {
      "text/plain": [
       "115.0"
      ]
     },
     "execution_count": 235,
     "metadata": {},
     "output_type": "execute_result"
    }
   ],
   "source": [
    "df_cust['purchase_lead'].quantile(0.75)"
   ]
  },
  {
   "cell_type": "code",
   "execution_count": 236,
   "id": "60fe38d4",
   "metadata": {},
   "outputs": [],
   "source": [
    "Q1 = df_cust['purchase_lead'].quantile(0.25)\n",
    "Q3 = df_cust['purchase_lead'].quantile(0.75)\n",
    "IQR = Q3 - Q1"
   ]
  },
  {
   "cell_type": "code",
   "execution_count": 237,
   "id": "0f250e93",
   "metadata": {},
   "outputs": [
    {
     "data": {
      "text/plain": [
       "94.0"
      ]
     },
     "execution_count": 237,
     "metadata": {},
     "output_type": "execute_result"
    }
   ],
   "source": [
    "IQR"
   ]
  },
  {
   "cell_type": "code",
   "execution_count": 238,
   "id": "e93ed354",
   "metadata": {},
   "outputs": [],
   "source": [
    "lower_lin = Q1 - 1.5 * IQR\n",
    "upper_lin = Q3 + 1.5 * IQR"
   ]
  },
  {
   "cell_type": "code",
   "execution_count": 239,
   "id": "d9b8366b",
   "metadata": {},
   "outputs": [
    {
     "data": {
      "text/plain": [
       "-120.0"
      ]
     },
     "execution_count": 239,
     "metadata": {},
     "output_type": "execute_result"
    }
   ],
   "source": [
    "lower_lin"
   ]
  },
  {
   "cell_type": "code",
   "execution_count": 240,
   "id": "e101fa7c",
   "metadata": {},
   "outputs": [
    {
     "data": {
      "text/plain": [
       "256.0"
      ]
     },
     "execution_count": 240,
     "metadata": {},
     "output_type": "execute_result"
    }
   ],
   "source": [
    "upper_lin"
   ]
  },
  {
   "cell_type": "markdown",
   "id": "0b03258c",
   "metadata": {},
   "source": [
    "Our upper boundary is 256.0 and our lower boundary is -120.0. \n",
    "This means that these values between -120.0 and 256.0 are acceptable \n",
    "but those outside mean there are outliers. \n",
    "So we need to handle them because they corrupt our data."
   ]
  },
  {
   "cell_type": "markdown",
   "id": "c0622bbc",
   "metadata": {},
   "source": [
    "### with winsorize"
   ]
  },
  {
   "cell_type": "code",
   "execution_count": 241,
   "id": "9236448b",
   "metadata": {},
   "outputs": [],
   "source": [
    "from scipy.stats.mstats import winsorize"
   ]
  },
  {
   "cell_type": "code",
   "execution_count": 242,
   "id": "c09a7cd6",
   "metadata": {},
   "outputs": [],
   "source": [
    "win_data = winsorize(df_cust['purchase_lead'], limits=(0.01, 0.02))"
   ]
  },
  {
   "cell_type": "code",
   "execution_count": 243,
   "id": "314cb4d5",
   "metadata": {},
   "outputs": [
    {
     "data": {
      "text/plain": [
       "masked_array(data=[262, 112, 243, ...,  24,  15,  19],\n",
       "             mask=False,\n",
       "       fill_value=999999,\n",
       "            dtype=int64)"
      ]
     },
     "execution_count": 243,
     "metadata": {},
     "output_type": "execute_result"
    }
   ],
   "source": [
    "win_data"
   ]
  },
  {
   "cell_type": "code",
   "execution_count": 244,
   "id": "d7ab12e2",
   "metadata": {},
   "outputs": [
    {
     "data": {
      "text/plain": [
       "<AxesSubplot:>"
      ]
     },
     "execution_count": 244,
     "metadata": {},
     "output_type": "execute_result"
    },
    {
     "data": {
      "image/png": "[encoded data removed]",
      "text/plain": [
       "<Figure size 1000x500 with 1 Axes>"
      ]
     },
     "metadata": {},
     "output_type": "display_data"
    }
   ],
   "source": [
    "fig = plt.figure(figsize=(10, 5))\n",
    "sns.boxplot(x=win_data)"
   ]
  },
  {
   "cell_type": "code",
   "execution_count": 245,
   "id": "77456203",
   "metadata": {
    "scrolled": true
   },
   "outputs": [
    {
     "data": {
      "text/plain": [
       "<AxesSubplot:>"
      ]
     },
     "execution_count": 245,
     "metadata": {},
     "output_type": "execute_result"
    },
    {
     "data": {
      "image/png": "[encoded data removed]",
      "text/plain": [
       "<Figure size 1000x500 with 1 Axes>"
      ]
     },
     "metadata": {},
     "output_type": "display_data"
    }
   ],
   "source": [
    "fig = plt.figure(figsize=(10, 5))\n",
    "sns.distplot(win_data,bins=10, kde=False)"
   ]
  },
  {
   "cell_type": "markdown",
   "id": "00898780",
   "metadata": {},
   "source": [
    "#### drop outlier"
   ]
  },
  {
   "cell_type": "code",
   "execution_count": 246,
   "id": "9f594e72",
   "metadata": {},
   "outputs": [],
   "source": [
    "outlier_15_low = (df_cust['purchase_lead'] < lower_lin)"
   ]
  },
  {
   "cell_type": "code",
   "execution_count": 247,
   "id": "406e22d7",
   "metadata": {},
   "outputs": [],
   "source": [
    "outlier_15_up = (df_cust['purchase_lead'] > upper_lin)"
   ]
  },
  {
   "cell_type": "code",
   "execution_count": 248,
   "id": "e8ff5c25",
   "metadata": {
    "scrolled": true
   },
   "outputs": [
    {
     "data": {
      "text/plain": [
       "46544"
      ]
     },
     "execution_count": 248,
     "metadata": {},
     "output_type": "execute_result"
    }
   ],
   "source": [
    "len(df_cust['purchase_lead']) - (len( df_cust['purchase_lead'][outlier_15_low]) + len( df_cust['purchase_lead'][outlier_15_up])) "
   ]
  },
  {
   "cell_type": "code",
   "execution_count": 249,
   "id": "e362e579",
   "metadata": {},
   "outputs": [
    {
     "data": {
      "text/plain": [
       "0        262\n",
       "9        378\n",
       "12       265\n",
       "16       259\n",
       "19       351\n",
       "        ... \n",
       "49955    366\n",
       "49967    279\n",
       "49973    333\n",
       "49975    265\n",
       "49981    317\n",
       "Name: purchase_lead, Length: 3456, dtype: int64"
      ]
     },
     "execution_count": 249,
     "metadata": {},
     "output_type": "execute_result"
    }
   ],
   "source": [
    "df_cust['purchase_lead'][(outlier_15_low | outlier_15_up)]"
   ]
  },
  {
   "cell_type": "code",
   "execution_count": 250,
   "id": "3861847b",
   "metadata": {},
   "outputs": [
    {
     "data": {
      "text/plain": [
       "1        112\n",
       "2        243\n",
       "3         96\n",
       "4         68\n",
       "5          3\n",
       "        ... \n",
       "49995     27\n",
       "49996    111\n",
       "49997     24\n",
       "49998     15\n",
       "49999     19\n",
       "Name: purchase_lead, Length: 46544, dtype: int64"
      ]
     },
     "execution_count": 250,
     "metadata": {},
     "output_type": "execute_result"
    }
   ],
   "source": [
    "df_cust['purchase_lead'][-(outlier_15_low | outlier_15_up)]"
   ]
  },
  {
   "cell_type": "code",
   "execution_count": 251,
   "id": "27633eb7",
   "metadata": {},
   "outputs": [],
   "source": [
    "df_cust = df_cust[~(outlier_15_low | outlier_15_up)]"
   ]
  },
  {
   "cell_type": "code",
   "execution_count": 252,
   "id": "b32e75a2",
   "metadata": {
    "scrolled": true
   },
   "outputs": [
    {
     "data": {
      "text/html": [
       "<div>\n",
       "<style scoped>\n",
       "    .dataframe tbody tr th:only-of-type {\n",
       "        vertical-align: middle;\n",
       "    }\n",
       "\n",
       "    .dataframe tbody tr th {\n",
       "        vertical-align: top;\n",
       "    }\n",
       "\n",
       "    .dataframe thead th {\n",
       "        text-align: right;\n",
       "    }\n",
       "</style>\n",
       "<table border=\"1\" class=\"dataframe\">\n",
       "  <thead>\n",
       "    <tr style=\"text-align: right;\">\n",
       "      <th></th>\n",
       "      <th>num_passengers</th>\n",
       "      <th>sales_channel</th>\n",
       "      <th>trip_type</th>\n",
       "      <th>purchase_lead</th>\n",
       "      <th>length_of_stay</th>\n",
       "      <th>flight_hour</th>\n",
       "      <th>flight_day</th>\n",
       "      <th>route</th>\n",
       "      <th>booking_origin</th>\n",
       "      <th>wants_extra_baggage</th>\n",
       "      <th>wants_preferred_seat</th>\n",
       "      <th>wants_in_flight_meals</th>\n",
       "      <th>flight_duration</th>\n",
       "      <th>booking_complete</th>\n",
       "      <th>departure</th>\n",
       "      <th>destination</th>\n",
       "    </tr>\n",
       "  </thead>\n",
       "  <tbody>\n",
       "    <tr>\n",
       "      <th>1</th>\n",
       "      <td>1</td>\n",
       "      <td>Internet</td>\n",
       "      <td>RoundTrip</td>\n",
       "      <td>112</td>\n",
       "      <td>20</td>\n",
       "      <td>3</td>\n",
       "      <td>Sat</td>\n",
       "      <td>AKLDEL</td>\n",
       "      <td>Others</td>\n",
       "      <td>0</td>\n",
       "      <td>0</td>\n",
       "      <td>0</td>\n",
       "      <td>5.52</td>\n",
       "      <td>0</td>\n",
       "      <td>AKL</td>\n",
       "      <td>DEL</td>\n",
       "    </tr>\n",
       "    <tr>\n",
       "      <th>2</th>\n",
       "      <td>2</td>\n",
       "      <td>Internet</td>\n",
       "      <td>RoundTrip</td>\n",
       "      <td>243</td>\n",
       "      <td>22</td>\n",
       "      <td>17</td>\n",
       "      <td>Wed</td>\n",
       "      <td>AKLDEL</td>\n",
       "      <td>Others</td>\n",
       "      <td>1</td>\n",
       "      <td>1</td>\n",
       "      <td>0</td>\n",
       "      <td>5.52</td>\n",
       "      <td>0</td>\n",
       "      <td>AKL</td>\n",
       "      <td>DEL</td>\n",
       "    </tr>\n",
       "    <tr>\n",
       "      <th>3</th>\n",
       "      <td>1</td>\n",
       "      <td>Internet</td>\n",
       "      <td>RoundTrip</td>\n",
       "      <td>96</td>\n",
       "      <td>31</td>\n",
       "      <td>4</td>\n",
       "      <td>Sat</td>\n",
       "      <td>AKLDEL</td>\n",
       "      <td>Others</td>\n",
       "      <td>0</td>\n",
       "      <td>0</td>\n",
       "      <td>1</td>\n",
       "      <td>5.52</td>\n",
       "      <td>0</td>\n",
       "      <td>AKL</td>\n",
       "      <td>DEL</td>\n",
       "    </tr>\n",
       "    <tr>\n",
       "      <th>4</th>\n",
       "      <td>2</td>\n",
       "      <td>Internet</td>\n",
       "      <td>RoundTrip</td>\n",
       "      <td>68</td>\n",
       "      <td>22</td>\n",
       "      <td>15</td>\n",
       "      <td>Wed</td>\n",
       "      <td>AKLDEL</td>\n",
       "      <td>Others</td>\n",
       "      <td>1</td>\n",
       "      <td>0</td>\n",
       "      <td>1</td>\n",
       "      <td>5.52</td>\n",
       "      <td>0</td>\n",
       "      <td>AKL</td>\n",
       "      <td>DEL</td>\n",
       "    </tr>\n",
       "    <tr>\n",
       "      <th>5</th>\n",
       "      <td>1</td>\n",
       "      <td>Internet</td>\n",
       "      <td>RoundTrip</td>\n",
       "      <td>3</td>\n",
       "      <td>48</td>\n",
       "      <td>20</td>\n",
       "      <td>Thu</td>\n",
       "      <td>AKLDEL</td>\n",
       "      <td>Others</td>\n",
       "      <td>1</td>\n",
       "      <td>0</td>\n",
       "      <td>1</td>\n",
       "      <td>5.52</td>\n",
       "      <td>0</td>\n",
       "      <td>AKL</td>\n",
       "      <td>DEL</td>\n",
       "    </tr>\n",
       "    <tr>\n",
       "      <th>...</th>\n",
       "      <td>...</td>\n",
       "      <td>...</td>\n",
       "      <td>...</td>\n",
       "      <td>...</td>\n",
       "      <td>...</td>\n",
       "      <td>...</td>\n",
       "      <td>...</td>\n",
       "      <td>...</td>\n",
       "      <td>...</td>\n",
       "      <td>...</td>\n",
       "      <td>...</td>\n",
       "      <td>...</td>\n",
       "      <td>...</td>\n",
       "      <td>...</td>\n",
       "      <td>...</td>\n",
       "      <td>...</td>\n",
       "    </tr>\n",
       "    <tr>\n",
       "      <th>49995</th>\n",
       "      <td>2</td>\n",
       "      <td>Internet</td>\n",
       "      <td>RoundTrip</td>\n",
       "      <td>27</td>\n",
       "      <td>6</td>\n",
       "      <td>9</td>\n",
       "      <td>Sat</td>\n",
       "      <td>PERPNH</td>\n",
       "      <td>Australia</td>\n",
       "      <td>1</td>\n",
       "      <td>0</td>\n",
       "      <td>1</td>\n",
       "      <td>5.62</td>\n",
       "      <td>0</td>\n",
       "      <td>PER</td>\n",
       "      <td>PNH</td>\n",
       "    </tr>\n",
       "    <tr>\n",
       "      <th>49996</th>\n",
       "      <td>1</td>\n",
       "      <td>Internet</td>\n",
       "      <td>RoundTrip</td>\n",
       "      <td>111</td>\n",
       "      <td>6</td>\n",
       "      <td>4</td>\n",
       "      <td>Sun</td>\n",
       "      <td>PERPNH</td>\n",
       "      <td>Australia</td>\n",
       "      <td>0</td>\n",
       "      <td>0</td>\n",
       "      <td>0</td>\n",
       "      <td>5.62</td>\n",
       "      <td>0</td>\n",
       "      <td>PER</td>\n",
       "      <td>PNH</td>\n",
       "    </tr>\n",
       "    <tr>\n",
       "      <th>49997</th>\n",
       "      <td>1</td>\n",
       "      <td>Internet</td>\n",
       "      <td>RoundTrip</td>\n",
       "      <td>24</td>\n",
       "      <td>6</td>\n",
       "      <td>22</td>\n",
       "      <td>Sat</td>\n",
       "      <td>PERPNH</td>\n",
       "      <td>Australia</td>\n",
       "      <td>0</td>\n",
       "      <td>0</td>\n",
       "      <td>1</td>\n",
       "      <td>5.62</td>\n",
       "      <td>0</td>\n",
       "      <td>PER</td>\n",
       "      <td>PNH</td>\n",
       "    </tr>\n",
       "    <tr>\n",
       "      <th>49998</th>\n",
       "      <td>1</td>\n",
       "      <td>Internet</td>\n",
       "      <td>RoundTrip</td>\n",
       "      <td>15</td>\n",
       "      <td>6</td>\n",
       "      <td>11</td>\n",
       "      <td>Mon</td>\n",
       "      <td>PERPNH</td>\n",
       "      <td>Australia</td>\n",
       "      <td>1</td>\n",
       "      <td>0</td>\n",
       "      <td>1</td>\n",
       "      <td>5.62</td>\n",
       "      <td>0</td>\n",
       "      <td>PER</td>\n",
       "      <td>PNH</td>\n",
       "    </tr>\n",
       "    <tr>\n",
       "      <th>49999</th>\n",
       "      <td>1</td>\n",
       "      <td>Internet</td>\n",
       "      <td>RoundTrip</td>\n",
       "      <td>19</td>\n",
       "      <td>6</td>\n",
       "      <td>10</td>\n",
       "      <td>Thu</td>\n",
       "      <td>PERPNH</td>\n",
       "      <td>Australia</td>\n",
       "      <td>0</td>\n",
       "      <td>1</td>\n",
       "      <td>0</td>\n",
       "      <td>5.62</td>\n",
       "      <td>0</td>\n",
       "      <td>PER</td>\n",
       "      <td>PNH</td>\n",
       "    </tr>\n",
       "  </tbody>\n",
       "</table>\n",
       "<p>46544 rows × 16 columns</p>\n",
       "</div>"
      ],
      "text/plain": [
       "       num_passengers sales_channel  trip_type  purchase_lead  length_of_stay  \\\n",
       "1                   1      Internet  RoundTrip            112              20   \n",
       "2                   2      Internet  RoundTrip            243              22   \n",
       "3                   1      Internet  RoundTrip             96              31   \n",
       "4                   2      Internet  RoundTrip             68              22   \n",
       "5                   1      Internet  RoundTrip              3              48   \n",
       "...               ...           ...        ...            ...             ...   \n",
       "49995               2      Internet  RoundTrip             27               6   \n",
       "49996               1      Internet  RoundTrip            111               6   \n",
       "49997               1      Internet  RoundTrip             24               6   \n",
       "49998               1      Internet  RoundTrip             15               6   \n",
       "49999               1      Internet  RoundTrip             19               6   \n",
       "\n",
       "       flight_hour flight_day   route booking_origin  wants_extra_baggage  \\\n",
       "1                3        Sat  AKLDEL         Others                    0   \n",
       "2               17        Wed  AKLDEL         Others                    1   \n",
       "3                4        Sat  AKLDEL         Others                    0   \n",
       "4               15        Wed  AKLDEL         Others                    1   \n",
       "5               20        Thu  AKLDEL         Others                    1   \n",
       "...            ...        ...     ...            ...                  ...   \n",
       "49995            9        Sat  PERPNH      Australia                    1   \n",
       "49996            4        Sun  PERPNH      Australia                    0   \n",
       "49997           22        Sat  PERPNH      Australia                    0   \n",
       "49998           11        Mon  PERPNH      Australia                    1   \n",
       "49999           10        Thu  PERPNH      Australia                    0   \n",
       "\n",
       "       wants_preferred_seat  wants_in_flight_meals  flight_duration  \\\n",
       "1                         0                      0             5.52   \n",
       "2                         1                      0             5.52   \n",
       "3                         0                      1             5.52   \n",
       "4                         0                      1             5.52   \n",
       "5                         0                      1             5.52   \n",
       "...                     ...                    ...              ...   \n",
       "49995                     0                      1             5.62   \n",
       "49996                     0                      0             5.62   \n",
       "49997                     0                      1             5.62   \n",
       "49998                     0                      1             5.62   \n",
       "49999                     1                      0             5.62   \n",
       "\n",
       "       booking_complete departure destination  \n",
       "1                     0       AKL         DEL  \n",
       "2                     0       AKL         DEL  \n",
       "3                     0       AKL         DEL  \n",
       "4                     0       AKL         DEL  \n",
       "5                     0       AKL         DEL  \n",
       "...                 ...       ...         ...  \n",
       "49995                 0       PER         PNH  \n",
       "49996                 0       PER         PNH  \n",
       "49997                 0       PER         PNH  \n",
       "49998                 0       PER         PNH  \n",
       "49999                 0       PER         PNH  \n",
       "\n",
       "[46544 rows x 16 columns]"
      ]
     },
     "execution_count": 252,
     "metadata": {},
     "output_type": "execute_result"
    }
   ],
   "source": [
    "df_cust"
   ]
  },
  {
   "cell_type": "markdown",
   "id": "6a469b18",
   "metadata": {},
   "source": [
    "We removed the outliers "
   ]
  },
  {
   "cell_type": "code",
   "execution_count": 253,
   "id": "1573f523",
   "metadata": {},
   "outputs": [
    {
     "data": {
      "text/plain": [
       "<AxesSubplot:xlabel='purchase_lead'>"
      ]
     },
     "execution_count": 253,
     "metadata": {},
     "output_type": "execute_result"
    },
    {
     "data": {
      "image/png": "[encoded data removed]",
      "text/plain": [
       "<Figure size 1000x500 with 1 Axes>"
      ]
     },
     "metadata": {},
     "output_type": "display_data"
    }
   ],
   "source": [
    "fig = plt.figure(figsize=(10, 5))\n",
    "sns.boxplot(x='purchase_lead', data=df_cust)"
   ]
  },
  {
   "cell_type": "code",
   "execution_count": 254,
   "id": "16fd0e4d",
   "metadata": {
    "scrolled": false
   },
   "outputs": [
    {
     "data": {
      "text/plain": [
       "<AxesSubplot:xlabel='purchase_lead'>"
      ]
     },
     "execution_count": 254,
     "metadata": {},
     "output_type": "execute_result"
    },
    {
     "data": {
      "image/png": "[encoded data removed]",
      "text/plain": [
       "<Figure size 1000x500 with 1 Axes>"
      ]
     },
     "metadata": {},
     "output_type": "display_data"
    }
   ],
   "source": [
    "fig = plt.figure(figsize=(10, 5))\n",
    "sns.distplot(df_cust['purchase_lead'],bins=10, kde=False)"
   ]
  },
  {
   "cell_type": "code",
   "execution_count": 255,
   "id": "25d5673a",
   "metadata": {
    "scrolled": true
   },
   "outputs": [
    {
     "data": {
      "text/plain": [
       "count    46544.000000\n",
       "mean        66.908044\n",
       "std         62.205984\n",
       "min          0.000000\n",
       "25%         20.000000\n",
       "50%         46.000000\n",
       "75%         95.000000\n",
       "max        256.000000\n",
       "Name: purchase_lead, dtype: float64"
      ]
     },
     "execution_count": 255,
     "metadata": {},
     "output_type": "execute_result"
    }
   ],
   "source": [
    "df_cust['purchase_lead'].describe()"
   ]
  },
  {
   "cell_type": "code",
   "execution_count": 256,
   "id": "ee89503a",
   "metadata": {},
   "outputs": [
    {
     "data": {
      "text/plain": [
       "count    46544.000000\n",
       "mean        23.557644\n",
       "std         34.574494\n",
       "min          0.000000\n",
       "25%          5.000000\n",
       "50%         17.000000\n",
       "75%         29.000000\n",
       "max        778.000000\n",
       "Name: length_of_stay, dtype: float64"
      ]
     },
     "execution_count": 256,
     "metadata": {},
     "output_type": "execute_result"
    }
   ],
   "source": [
    "df_cust['length_of_stay'].describe()"
   ]
  },
  {
   "cell_type": "code",
   "execution_count": 257,
   "id": "0a89a9c4",
   "metadata": {},
   "outputs": [
    {
     "data": {
      "text/plain": [
       "<AxesSubplot:xlabel='length_of_stay'>"
      ]
     },
     "execution_count": 257,
     "metadata": {},
     "output_type": "execute_result"
    },
    {
     "data": {
      "image/png": "[encoded data removed]",
      "text/plain": [
       "<Figure size 1000x500 with 1 Axes>"
      ]
     },
     "metadata": {},
     "output_type": "display_data"
    }
   ],
   "source": [
    "fig = plt.figure(figsize=(10, 5))\n",
    "sns.boxplot(x='length_of_stay', data=df_cust)"
   ]
  },
  {
   "cell_type": "code",
   "execution_count": 258,
   "id": "96e02e94",
   "metadata": {},
   "outputs": [
    {
     "data": {
      "text/html": [
       "<div>\n",
       "<style scoped>\n",
       "    .dataframe tbody tr th:only-of-type {\n",
       "        vertical-align: middle;\n",
       "    }\n",
       "\n",
       "    .dataframe tbody tr th {\n",
       "        vertical-align: top;\n",
       "    }\n",
       "\n",
       "    .dataframe thead th {\n",
       "        text-align: right;\n",
       "    }\n",
       "</style>\n",
       "<table border=\"1\" class=\"dataframe\">\n",
       "  <thead>\n",
       "    <tr style=\"text-align: right;\">\n",
       "      <th></th>\n",
       "      <th>num_passengers</th>\n",
       "      <th>sales_channel</th>\n",
       "      <th>trip_type</th>\n",
       "      <th>purchase_lead</th>\n",
       "      <th>length_of_stay</th>\n",
       "      <th>flight_hour</th>\n",
       "      <th>flight_day</th>\n",
       "      <th>route</th>\n",
       "      <th>booking_origin</th>\n",
       "      <th>wants_extra_baggage</th>\n",
       "      <th>wants_preferred_seat</th>\n",
       "      <th>wants_in_flight_meals</th>\n",
       "      <th>flight_duration</th>\n",
       "      <th>booking_complete</th>\n",
       "      <th>departure</th>\n",
       "      <th>destination</th>\n",
       "    </tr>\n",
       "  </thead>\n",
       "  <tbody>\n",
       "    <tr>\n",
       "      <th>1</th>\n",
       "      <td>1</td>\n",
       "      <td>Internet</td>\n",
       "      <td>RoundTrip</td>\n",
       "      <td>112</td>\n",
       "      <td>20</td>\n",
       "      <td>3</td>\n",
       "      <td>Sat</td>\n",
       "      <td>AKLDEL</td>\n",
       "      <td>Others</td>\n",
       "      <td>0</td>\n",
       "      <td>0</td>\n",
       "      <td>0</td>\n",
       "      <td>5.52</td>\n",
       "      <td>0</td>\n",
       "      <td>AKL</td>\n",
       "      <td>DEL</td>\n",
       "    </tr>\n",
       "    <tr>\n",
       "      <th>2</th>\n",
       "      <td>2</td>\n",
       "      <td>Internet</td>\n",
       "      <td>RoundTrip</td>\n",
       "      <td>243</td>\n",
       "      <td>22</td>\n",
       "      <td>17</td>\n",
       "      <td>Wed</td>\n",
       "      <td>AKLDEL</td>\n",
       "      <td>Others</td>\n",
       "      <td>1</td>\n",
       "      <td>1</td>\n",
       "      <td>0</td>\n",
       "      <td>5.52</td>\n",
       "      <td>0</td>\n",
       "      <td>AKL</td>\n",
       "      <td>DEL</td>\n",
       "    </tr>\n",
       "    <tr>\n",
       "      <th>3</th>\n",
       "      <td>1</td>\n",
       "      <td>Internet</td>\n",
       "      <td>RoundTrip</td>\n",
       "      <td>96</td>\n",
       "      <td>31</td>\n",
       "      <td>4</td>\n",
       "      <td>Sat</td>\n",
       "      <td>AKLDEL</td>\n",
       "      <td>Others</td>\n",
       "      <td>0</td>\n",
       "      <td>0</td>\n",
       "      <td>1</td>\n",
       "      <td>5.52</td>\n",
       "      <td>0</td>\n",
       "      <td>AKL</td>\n",
       "      <td>DEL</td>\n",
       "    </tr>\n",
       "    <tr>\n",
       "      <th>4</th>\n",
       "      <td>2</td>\n",
       "      <td>Internet</td>\n",
       "      <td>RoundTrip</td>\n",
       "      <td>68</td>\n",
       "      <td>22</td>\n",
       "      <td>15</td>\n",
       "      <td>Wed</td>\n",
       "      <td>AKLDEL</td>\n",
       "      <td>Others</td>\n",
       "      <td>1</td>\n",
       "      <td>0</td>\n",
       "      <td>1</td>\n",
       "      <td>5.52</td>\n",
       "      <td>0</td>\n",
       "      <td>AKL</td>\n",
       "      <td>DEL</td>\n",
       "    </tr>\n",
       "    <tr>\n",
       "      <th>5</th>\n",
       "      <td>1</td>\n",
       "      <td>Internet</td>\n",
       "      <td>RoundTrip</td>\n",
       "      <td>3</td>\n",
       "      <td>48</td>\n",
       "      <td>20</td>\n",
       "      <td>Thu</td>\n",
       "      <td>AKLDEL</td>\n",
       "      <td>Others</td>\n",
       "      <td>1</td>\n",
       "      <td>0</td>\n",
       "      <td>1</td>\n",
       "      <td>5.52</td>\n",
       "      <td>0</td>\n",
       "      <td>AKL</td>\n",
       "      <td>DEL</td>\n",
       "    </tr>\n",
       "  </tbody>\n",
       "</table>\n",
       "</div>"
      ],
      "text/plain": [
       "   num_passengers sales_channel  trip_type  purchase_lead  length_of_stay  \\\n",
       "1               1      Internet  RoundTrip            112              20   \n",
       "2               2      Internet  RoundTrip            243              22   \n",
       "3               1      Internet  RoundTrip             96              31   \n",
       "4               2      Internet  RoundTrip             68              22   \n",
       "5               1      Internet  RoundTrip              3              48   \n",
       "\n",
       "   flight_hour flight_day   route booking_origin  wants_extra_baggage  \\\n",
       "1            3        Sat  AKLDEL         Others                    0   \n",
       "2           17        Wed  AKLDEL         Others                    1   \n",
       "3            4        Sat  AKLDEL         Others                    0   \n",
       "4           15        Wed  AKLDEL         Others                    1   \n",
       "5           20        Thu  AKLDEL         Others                    1   \n",
       "\n",
       "   wants_preferred_seat  wants_in_flight_meals  flight_duration  \\\n",
       "1                     0                      0             5.52   \n",
       "2                     1                      0             5.52   \n",
       "3                     0                      1             5.52   \n",
       "4                     0                      1             5.52   \n",
       "5                     0                      1             5.52   \n",
       "\n",
       "   booking_complete departure destination  \n",
       "1                 0       AKL         DEL  \n",
       "2                 0       AKL         DEL  \n",
       "3                 0       AKL         DEL  \n",
       "4                 0       AKL         DEL  \n",
       "5                 0       AKL         DEL  "
      ]
     },
     "execution_count": 258,
     "metadata": {},
     "output_type": "execute_result"
    }
   ],
   "source": [
    "df_cust.head()"
   ]
  },
  {
   "cell_type": "code",
   "execution_count": 259,
   "id": "1ec8e8c6",
   "metadata": {},
   "outputs": [],
   "source": [
    "df_cust.drop(['wants_extra_baggage','wants_preferred_seat','wants_in_flight_meals'], axis=1, inplace=True)"
   ]
  },
  {
   "cell_type": "code",
   "execution_count": 260,
   "id": "51e37e1c",
   "metadata": {},
   "outputs": [
    {
     "data": {
      "text/html": [
       "<div>\n",
       "<style scoped>\n",
       "    .dataframe tbody tr th:only-of-type {\n",
       "        vertical-align: middle;\n",
       "    }\n",
       "\n",
       "    .dataframe tbody tr th {\n",
       "        vertical-align: top;\n",
       "    }\n",
       "\n",
       "    .dataframe thead th {\n",
       "        text-align: right;\n",
       "    }\n",
       "</style>\n",
       "<table border=\"1\" class=\"dataframe\">\n",
       "  <thead>\n",
       "    <tr style=\"text-align: right;\">\n",
       "      <th></th>\n",
       "      <th>num_passengers</th>\n",
       "      <th>sales_channel</th>\n",
       "      <th>trip_type</th>\n",
       "      <th>purchase_lead</th>\n",
       "      <th>length_of_stay</th>\n",
       "      <th>flight_hour</th>\n",
       "      <th>flight_day</th>\n",
       "      <th>route</th>\n",
       "      <th>booking_origin</th>\n",
       "      <th>flight_duration</th>\n",
       "      <th>booking_complete</th>\n",
       "      <th>departure</th>\n",
       "      <th>destination</th>\n",
       "    </tr>\n",
       "  </thead>\n",
       "  <tbody>\n",
       "    <tr>\n",
       "      <th>1</th>\n",
       "      <td>1</td>\n",
       "      <td>Internet</td>\n",
       "      <td>RoundTrip</td>\n",
       "      <td>112</td>\n",
       "      <td>20</td>\n",
       "      <td>3</td>\n",
       "      <td>Sat</td>\n",
       "      <td>AKLDEL</td>\n",
       "      <td>Others</td>\n",
       "      <td>5.52</td>\n",
       "      <td>0</td>\n",
       "      <td>AKL</td>\n",
       "      <td>DEL</td>\n",
       "    </tr>\n",
       "    <tr>\n",
       "      <th>2</th>\n",
       "      <td>2</td>\n",
       "      <td>Internet</td>\n",
       "      <td>RoundTrip</td>\n",
       "      <td>243</td>\n",
       "      <td>22</td>\n",
       "      <td>17</td>\n",
       "      <td>Wed</td>\n",
       "      <td>AKLDEL</td>\n",
       "      <td>Others</td>\n",
       "      <td>5.52</td>\n",
       "      <td>0</td>\n",
       "      <td>AKL</td>\n",
       "      <td>DEL</td>\n",
       "    </tr>\n",
       "    <tr>\n",
       "      <th>3</th>\n",
       "      <td>1</td>\n",
       "      <td>Internet</td>\n",
       "      <td>RoundTrip</td>\n",
       "      <td>96</td>\n",
       "      <td>31</td>\n",
       "      <td>4</td>\n",
       "      <td>Sat</td>\n",
       "      <td>AKLDEL</td>\n",
       "      <td>Others</td>\n",
       "      <td>5.52</td>\n",
       "      <td>0</td>\n",
       "      <td>AKL</td>\n",
       "      <td>DEL</td>\n",
       "    </tr>\n",
       "    <tr>\n",
       "      <th>4</th>\n",
       "      <td>2</td>\n",
       "      <td>Internet</td>\n",
       "      <td>RoundTrip</td>\n",
       "      <td>68</td>\n",
       "      <td>22</td>\n",
       "      <td>15</td>\n",
       "      <td>Wed</td>\n",
       "      <td>AKLDEL</td>\n",
       "      <td>Others</td>\n",
       "      <td>5.52</td>\n",
       "      <td>0</td>\n",
       "      <td>AKL</td>\n",
       "      <td>DEL</td>\n",
       "    </tr>\n",
       "    <tr>\n",
       "      <th>5</th>\n",
       "      <td>1</td>\n",
       "      <td>Internet</td>\n",
       "      <td>RoundTrip</td>\n",
       "      <td>3</td>\n",
       "      <td>48</td>\n",
       "      <td>20</td>\n",
       "      <td>Thu</td>\n",
       "      <td>AKLDEL</td>\n",
       "      <td>Others</td>\n",
       "      <td>5.52</td>\n",
       "      <td>0</td>\n",
       "      <td>AKL</td>\n",
       "      <td>DEL</td>\n",
       "    </tr>\n",
       "    <tr>\n",
       "      <th>...</th>\n",
       "      <td>...</td>\n",
       "      <td>...</td>\n",
       "      <td>...</td>\n",
       "      <td>...</td>\n",
       "      <td>...</td>\n",
       "      <td>...</td>\n",
       "      <td>...</td>\n",
       "      <td>...</td>\n",
       "      <td>...</td>\n",
       "      <td>...</td>\n",
       "      <td>...</td>\n",
       "      <td>...</td>\n",
       "      <td>...</td>\n",
       "    </tr>\n",
       "    <tr>\n",
       "      <th>49995</th>\n",
       "      <td>2</td>\n",
       "      <td>Internet</td>\n",
       "      <td>RoundTrip</td>\n",
       "      <td>27</td>\n",
       "      <td>6</td>\n",
       "      <td>9</td>\n",
       "      <td>Sat</td>\n",
       "      <td>PERPNH</td>\n",
       "      <td>Australia</td>\n",
       "      <td>5.62</td>\n",
       "      <td>0</td>\n",
       "      <td>PER</td>\n",
       "      <td>PNH</td>\n",
       "    </tr>\n",
       "    <tr>\n",
       "      <th>49996</th>\n",
       "      <td>1</td>\n",
       "      <td>Internet</td>\n",
       "      <td>RoundTrip</td>\n",
       "      <td>111</td>\n",
       "      <td>6</td>\n",
       "      <td>4</td>\n",
       "      <td>Sun</td>\n",
       "      <td>PERPNH</td>\n",
       "      <td>Australia</td>\n",
       "      <td>5.62</td>\n",
       "      <td>0</td>\n",
       "      <td>PER</td>\n",
       "      <td>PNH</td>\n",
       "    </tr>\n",
       "    <tr>\n",
       "      <th>49997</th>\n",
       "      <td>1</td>\n",
       "      <td>Internet</td>\n",
       "      <td>RoundTrip</td>\n",
       "      <td>24</td>\n",
       "      <td>6</td>\n",
       "      <td>22</td>\n",
       "      <td>Sat</td>\n",
       "      <td>PERPNH</td>\n",
       "      <td>Australia</td>\n",
       "      <td>5.62</td>\n",
       "      <td>0</td>\n",
       "      <td>PER</td>\n",
       "      <td>PNH</td>\n",
       "    </tr>\n",
       "    <tr>\n",
       "      <th>49998</th>\n",
       "      <td>1</td>\n",
       "      <td>Internet</td>\n",
       "      <td>RoundTrip</td>\n",
       "      <td>15</td>\n",
       "      <td>6</td>\n",
       "      <td>11</td>\n",
       "      <td>Mon</td>\n",
       "      <td>PERPNH</td>\n",
       "      <td>Australia</td>\n",
       "      <td>5.62</td>\n",
       "      <td>0</td>\n",
       "      <td>PER</td>\n",
       "      <td>PNH</td>\n",
       "    </tr>\n",
       "    <tr>\n",
       "      <th>49999</th>\n",
       "      <td>1</td>\n",
       "      <td>Internet</td>\n",
       "      <td>RoundTrip</td>\n",
       "      <td>19</td>\n",
       "      <td>6</td>\n",
       "      <td>10</td>\n",
       "      <td>Thu</td>\n",
       "      <td>PERPNH</td>\n",
       "      <td>Australia</td>\n",
       "      <td>5.62</td>\n",
       "      <td>0</td>\n",
       "      <td>PER</td>\n",
       "      <td>PNH</td>\n",
       "    </tr>\n",
       "  </tbody>\n",
       "</table>\n",
       "<p>46544 rows × 13 columns</p>\n",
       "</div>"
      ],
      "text/plain": [
       "       num_passengers sales_channel  trip_type  purchase_lead  length_of_stay  \\\n",
       "1                   1      Internet  RoundTrip            112              20   \n",
       "2                   2      Internet  RoundTrip            243              22   \n",
       "3                   1      Internet  RoundTrip             96              31   \n",
       "4                   2      Internet  RoundTrip             68              22   \n",
       "5                   1      Internet  RoundTrip              3              48   \n",
       "...               ...           ...        ...            ...             ...   \n",
       "49995               2      Internet  RoundTrip             27               6   \n",
       "49996               1      Internet  RoundTrip            111               6   \n",
       "49997               1      Internet  RoundTrip             24               6   \n",
       "49998               1      Internet  RoundTrip             15               6   \n",
       "49999               1      Internet  RoundTrip             19               6   \n",
       "\n",
       "       flight_hour flight_day   route booking_origin  flight_duration  \\\n",
       "1                3        Sat  AKLDEL         Others             5.52   \n",
       "2               17        Wed  AKLDEL         Others             5.52   \n",
       "3                4        Sat  AKLDEL         Others             5.52   \n",
       "4               15        Wed  AKLDEL         Others             5.52   \n",
       "5               20        Thu  AKLDEL         Others             5.52   \n",
       "...            ...        ...     ...            ...              ...   \n",
       "49995            9        Sat  PERPNH      Australia             5.62   \n",
       "49996            4        Sun  PERPNH      Australia             5.62   \n",
       "49997           22        Sat  PERPNH      Australia             5.62   \n",
       "49998           11        Mon  PERPNH      Australia             5.62   \n",
       "49999           10        Thu  PERPNH      Australia             5.62   \n",
       "\n",
       "       booking_complete departure destination  \n",
       "1                     0       AKL         DEL  \n",
       "2                     0       AKL         DEL  \n",
       "3                     0       AKL         DEL  \n",
       "4                     0       AKL         DEL  \n",
       "5                     0       AKL         DEL  \n",
       "...                 ...       ...         ...  \n",
       "49995                 0       PER         PNH  \n",
       "49996                 0       PER         PNH  \n",
       "49997                 0       PER         PNH  \n",
       "49998                 0       PER         PNH  \n",
       "49999                 0       PER         PNH  \n",
       "\n",
       "[46544 rows x 13 columns]"
      ]
     },
     "execution_count": 260,
     "metadata": {},
     "output_type": "execute_result"
    }
   ],
   "source": [
    "df_cust"
   ]
  },
  {
   "cell_type": "code",
   "execution_count": 261,
   "id": "7bda2d82",
   "metadata": {},
   "outputs": [
    {
     "data": {
      "text/plain": [
       "AKLKUL    2277\n",
       "PENTPE     882\n",
       "MELSGN     800\n",
       "ICNSIN     764\n",
       "ICNSYD     650\n",
       "          ... \n",
       "LBUTPE       1\n",
       "ICNJED       1\n",
       "CCUMRU       1\n",
       "SGNXIY       1\n",
       "MRUXIY       1\n",
       "Name: route, Length: 793, dtype: int64"
      ]
     },
     "execution_count": 261,
     "metadata": {},
     "output_type": "execute_result"
    }
   ],
   "source": [
    "df_cust['route'].value_counts()"
   ]
  },
  {
   "cell_type": "code",
   "execution_count": 262,
   "id": "b537d1b3",
   "metadata": {
    "scrolled": true
   },
   "outputs": [
    {
     "data": {
      "text/plain": [
       "AKLKUL    2277\n",
       "PENTPE     882\n",
       "MELSGN     800\n",
       "ICNSIN     764\n",
       "ICNSYD     650\n",
       "          ... \n",
       "LBUTPE       1\n",
       "ICNJED       1\n",
       "CCUMRU       1\n",
       "SGNXIY       1\n",
       "MRUXIY       1\n",
       "Name: route, Length: 793, dtype: int64"
      ]
     },
     "execution_count": 262,
     "metadata": {},
     "output_type": "execute_result"
    }
   ],
   "source": [
    "routeremake = df_cust['route'].value_counts()\n",
    "routeremake"
   ]
  },
  {
   "cell_type": "code",
   "execution_count": 263,
   "id": "457fdad8",
   "metadata": {},
   "outputs": [],
   "source": [
    "# Keep only the top 5 values\n",
    "top_5 = routeremake[:5].index"
   ]
  },
  {
   "cell_type": "code",
   "execution_count": 264,
   "id": "8674768a",
   "metadata": {
    "scrolled": true
   },
   "outputs": [
    {
     "data": {
      "text/plain": [
       "Index(['AKLKUL', 'PENTPE', 'MELSGN', 'ICNSIN', 'ICNSYD'], dtype='object')"
      ]
     },
     "execution_count": 264,
     "metadata": {},
     "output_type": "execute_result"
    }
   ],
   "source": [
    "top_5"
   ]
  },
  {
   "cell_type": "code",
   "execution_count": 265,
   "id": "9a18b66d",
   "metadata": {},
   "outputs": [],
   "source": [
    "# Replace all values outside of the top 5 with \"Others\"\n",
    "df_cust['route'] = df_cust['route'].apply(lambda x: x if x in top_5 else \"Others\")"
   ]
  },
  {
   "cell_type": "code",
   "execution_count": 266,
   "id": "71874c51",
   "metadata": {},
   "outputs": [
    {
     "data": {
      "text/html": [
       "<div>\n",
       "<style scoped>\n",
       "    .dataframe tbody tr th:only-of-type {\n",
       "        vertical-align: middle;\n",
       "    }\n",
       "\n",
       "    .dataframe tbody tr th {\n",
       "        vertical-align: top;\n",
       "    }\n",
       "\n",
       "    .dataframe thead th {\n",
       "        text-align: right;\n",
       "    }\n",
       "</style>\n",
       "<table border=\"1\" class=\"dataframe\">\n",
       "  <thead>\n",
       "    <tr style=\"text-align: right;\">\n",
       "      <th></th>\n",
       "      <th>num_passengers</th>\n",
       "      <th>sales_channel</th>\n",
       "      <th>trip_type</th>\n",
       "      <th>purchase_lead</th>\n",
       "      <th>length_of_stay</th>\n",
       "      <th>flight_hour</th>\n",
       "      <th>flight_day</th>\n",
       "      <th>route</th>\n",
       "      <th>booking_origin</th>\n",
       "      <th>flight_duration</th>\n",
       "      <th>booking_complete</th>\n",
       "      <th>departure</th>\n",
       "      <th>destination</th>\n",
       "    </tr>\n",
       "  </thead>\n",
       "  <tbody>\n",
       "    <tr>\n",
       "      <th>1</th>\n",
       "      <td>1</td>\n",
       "      <td>Internet</td>\n",
       "      <td>RoundTrip</td>\n",
       "      <td>112</td>\n",
       "      <td>20</td>\n",
       "      <td>3</td>\n",
       "      <td>Sat</td>\n",
       "      <td>Others</td>\n",
       "      <td>Others</td>\n",
       "      <td>5.52</td>\n",
       "      <td>0</td>\n",
       "      <td>AKL</td>\n",
       "      <td>DEL</td>\n",
       "    </tr>\n",
       "    <tr>\n",
       "      <th>2</th>\n",
       "      <td>2</td>\n",
       "      <td>Internet</td>\n",
       "      <td>RoundTrip</td>\n",
       "      <td>243</td>\n",
       "      <td>22</td>\n",
       "      <td>17</td>\n",
       "      <td>Wed</td>\n",
       "      <td>Others</td>\n",
       "      <td>Others</td>\n",
       "      <td>5.52</td>\n",
       "      <td>0</td>\n",
       "      <td>AKL</td>\n",
       "      <td>DEL</td>\n",
       "    </tr>\n",
       "    <tr>\n",
       "      <th>3</th>\n",
       "      <td>1</td>\n",
       "      <td>Internet</td>\n",
       "      <td>RoundTrip</td>\n",
       "      <td>96</td>\n",
       "      <td>31</td>\n",
       "      <td>4</td>\n",
       "      <td>Sat</td>\n",
       "      <td>Others</td>\n",
       "      <td>Others</td>\n",
       "      <td>5.52</td>\n",
       "      <td>0</td>\n",
       "      <td>AKL</td>\n",
       "      <td>DEL</td>\n",
       "    </tr>\n",
       "  </tbody>\n",
       "</table>\n",
       "</div>"
      ],
      "text/plain": [
       "   num_passengers sales_channel  trip_type  purchase_lead  length_of_stay  \\\n",
       "1               1      Internet  RoundTrip            112              20   \n",
       "2               2      Internet  RoundTrip            243              22   \n",
       "3               1      Internet  RoundTrip             96              31   \n",
       "\n",
       "   flight_hour flight_day   route booking_origin  flight_duration  \\\n",
       "1            3        Sat  Others         Others             5.52   \n",
       "2           17        Wed  Others         Others             5.52   \n",
       "3            4        Sat  Others         Others             5.52   \n",
       "\n",
       "   booking_complete departure destination  \n",
       "1                 0       AKL         DEL  \n",
       "2                 0       AKL         DEL  \n",
       "3                 0       AKL         DEL  "
      ]
     },
     "execution_count": 266,
     "metadata": {},
     "output_type": "execute_result"
    }
   ],
   "source": [
    "df_cust.head(3)"
   ]
  },
  {
   "cell_type": "markdown",
   "id": "3e68c0c2",
   "metadata": {},
   "source": [
    "#### drop departure an destinastion"
   ]
  },
  {
   "cell_type": "code",
   "execution_count": 267,
   "id": "c75738b4",
   "metadata": {},
   "outputs": [],
   "source": [
    "df_cust.drop(['departure', 'destination'], axis=1, inplace=True)"
   ]
  },
  {
   "cell_type": "code",
   "execution_count": 268,
   "id": "5ba469dd",
   "metadata": {},
   "outputs": [
    {
     "data": {
      "text/html": [
       "<div>\n",
       "<style scoped>\n",
       "    .dataframe tbody tr th:only-of-type {\n",
       "        vertical-align: middle;\n",
       "    }\n",
       "\n",
       "    .dataframe tbody tr th {\n",
       "        vertical-align: top;\n",
       "    }\n",
       "\n",
       "    .dataframe thead th {\n",
       "        text-align: right;\n",
       "    }\n",
       "</style>\n",
       "<table border=\"1\" class=\"dataframe\">\n",
       "  <thead>\n",
       "    <tr style=\"text-align: right;\">\n",
       "      <th></th>\n",
       "      <th>num_passengers</th>\n",
       "      <th>sales_channel</th>\n",
       "      <th>trip_type</th>\n",
       "      <th>purchase_lead</th>\n",
       "      <th>length_of_stay</th>\n",
       "      <th>flight_hour</th>\n",
       "      <th>flight_day</th>\n",
       "      <th>route</th>\n",
       "      <th>booking_origin</th>\n",
       "      <th>flight_duration</th>\n",
       "      <th>booking_complete</th>\n",
       "    </tr>\n",
       "  </thead>\n",
       "  <tbody>\n",
       "    <tr>\n",
       "      <th>1</th>\n",
       "      <td>1</td>\n",
       "      <td>Internet</td>\n",
       "      <td>RoundTrip</td>\n",
       "      <td>112</td>\n",
       "      <td>20</td>\n",
       "      <td>3</td>\n",
       "      <td>Sat</td>\n",
       "      <td>Others</td>\n",
       "      <td>Others</td>\n",
       "      <td>5.52</td>\n",
       "      <td>0</td>\n",
       "    </tr>\n",
       "    <tr>\n",
       "      <th>2</th>\n",
       "      <td>2</td>\n",
       "      <td>Internet</td>\n",
       "      <td>RoundTrip</td>\n",
       "      <td>243</td>\n",
       "      <td>22</td>\n",
       "      <td>17</td>\n",
       "      <td>Wed</td>\n",
       "      <td>Others</td>\n",
       "      <td>Others</td>\n",
       "      <td>5.52</td>\n",
       "      <td>0</td>\n",
       "    </tr>\n",
       "    <tr>\n",
       "      <th>3</th>\n",
       "      <td>1</td>\n",
       "      <td>Internet</td>\n",
       "      <td>RoundTrip</td>\n",
       "      <td>96</td>\n",
       "      <td>31</td>\n",
       "      <td>4</td>\n",
       "      <td>Sat</td>\n",
       "      <td>Others</td>\n",
       "      <td>Others</td>\n",
       "      <td>5.52</td>\n",
       "      <td>0</td>\n",
       "    </tr>\n",
       "    <tr>\n",
       "      <th>4</th>\n",
       "      <td>2</td>\n",
       "      <td>Internet</td>\n",
       "      <td>RoundTrip</td>\n",
       "      <td>68</td>\n",
       "      <td>22</td>\n",
       "      <td>15</td>\n",
       "      <td>Wed</td>\n",
       "      <td>Others</td>\n",
       "      <td>Others</td>\n",
       "      <td>5.52</td>\n",
       "      <td>0</td>\n",
       "    </tr>\n",
       "    <tr>\n",
       "      <th>5</th>\n",
       "      <td>1</td>\n",
       "      <td>Internet</td>\n",
       "      <td>RoundTrip</td>\n",
       "      <td>3</td>\n",
       "      <td>48</td>\n",
       "      <td>20</td>\n",
       "      <td>Thu</td>\n",
       "      <td>Others</td>\n",
       "      <td>Others</td>\n",
       "      <td>5.52</td>\n",
       "      <td>0</td>\n",
       "    </tr>\n",
       "  </tbody>\n",
       "</table>\n",
       "</div>"
      ],
      "text/plain": [
       "   num_passengers sales_channel  trip_type  purchase_lead  length_of_stay  \\\n",
       "1               1      Internet  RoundTrip            112              20   \n",
       "2               2      Internet  RoundTrip            243              22   \n",
       "3               1      Internet  RoundTrip             96              31   \n",
       "4               2      Internet  RoundTrip             68              22   \n",
       "5               1      Internet  RoundTrip              3              48   \n",
       "\n",
       "   flight_hour flight_day   route booking_origin  flight_duration  \\\n",
       "1            3        Sat  Others         Others             5.52   \n",
       "2           17        Wed  Others         Others             5.52   \n",
       "3            4        Sat  Others         Others             5.52   \n",
       "4           15        Wed  Others         Others             5.52   \n",
       "5           20        Thu  Others         Others             5.52   \n",
       "\n",
       "   booking_complete  \n",
       "1                 0  \n",
       "2                 0  \n",
       "3                 0  \n",
       "4                 0  \n",
       "5                 0  "
      ]
     },
     "execution_count": 268,
     "metadata": {},
     "output_type": "execute_result"
    }
   ],
   "source": [
    "df_cust.head()"
   ]
  },
  {
   "cell_type": "code",
   "execution_count": 269,
   "id": "6f3b2c04",
   "metadata": {},
   "outputs": [
    {
     "data": {
      "text/html": [
       "<div>\n",
       "<style scoped>\n",
       "    .dataframe tbody tr th:only-of-type {\n",
       "        vertical-align: middle;\n",
       "    }\n",
       "\n",
       "    .dataframe tbody tr th {\n",
       "        vertical-align: top;\n",
       "    }\n",
       "\n",
       "    .dataframe thead th {\n",
       "        text-align: right;\n",
       "    }\n",
       "</style>\n",
       "<table border=\"1\" class=\"dataframe\">\n",
       "  <thead>\n",
       "    <tr style=\"text-align: right;\">\n",
       "      <th></th>\n",
       "      <th>num_passengers</th>\n",
       "      <th>purchase_lead</th>\n",
       "      <th>length_of_stay</th>\n",
       "      <th>flight_hour</th>\n",
       "      <th>flight_duration</th>\n",
       "      <th>booking_complete</th>\n",
       "    </tr>\n",
       "  </thead>\n",
       "  <tbody>\n",
       "    <tr>\n",
       "      <th>num_passengers</th>\n",
       "      <td>1.000000</td>\n",
       "      <td>0.187316</td>\n",
       "      <td>-0.111999</td>\n",
       "      <td>0.013127</td>\n",
       "      <td>-0.069101</td>\n",
       "      <td>0.026278</td>\n",
       "    </tr>\n",
       "    <tr>\n",
       "      <th>purchase_lead</th>\n",
       "      <td>0.187316</td>\n",
       "      <td>1.000000</td>\n",
       "      <td>-0.049859</td>\n",
       "      <td>0.033201</td>\n",
       "      <td>0.076469</td>\n",
       "      <td>-0.029760</td>\n",
       "    </tr>\n",
       "    <tr>\n",
       "      <th>length_of_stay</th>\n",
       "      <td>-0.111999</td>\n",
       "      <td>-0.049859</td>\n",
       "      <td>1.000000</td>\n",
       "      <td>-0.023655</td>\n",
       "      <td>0.137749</td>\n",
       "      <td>-0.041261</td>\n",
       "    </tr>\n",
       "    <tr>\n",
       "      <th>flight_hour</th>\n",
       "      <td>0.013127</td>\n",
       "      <td>0.033201</td>\n",
       "      <td>-0.023655</td>\n",
       "      <td>1.000000</td>\n",
       "      <td>-0.003122</td>\n",
       "      <td>0.006991</td>\n",
       "    </tr>\n",
       "    <tr>\n",
       "      <th>flight_duration</th>\n",
       "      <td>-0.069101</td>\n",
       "      <td>0.076469</td>\n",
       "      <td>0.137749</td>\n",
       "      <td>-0.003122</td>\n",
       "      <td>1.000000</td>\n",
       "      <td>-0.108065</td>\n",
       "    </tr>\n",
       "    <tr>\n",
       "      <th>booking_complete</th>\n",
       "      <td>0.026278</td>\n",
       "      <td>-0.029760</td>\n",
       "      <td>-0.041261</td>\n",
       "      <td>0.006991</td>\n",
       "      <td>-0.108065</td>\n",
       "      <td>1.000000</td>\n",
       "    </tr>\n",
       "  </tbody>\n",
       "</table>\n",
       "</div>"
      ],
      "text/plain": [
       "                  num_passengers  purchase_lead  length_of_stay  flight_hour  \\\n",
       "num_passengers          1.000000       0.187316       -0.111999     0.013127   \n",
       "purchase_lead           0.187316       1.000000       -0.049859     0.033201   \n",
       "length_of_stay         -0.111999      -0.049859        1.000000    -0.023655   \n",
       "flight_hour             0.013127       0.033201       -0.023655     1.000000   \n",
       "flight_duration        -0.069101       0.076469        0.137749    -0.003122   \n",
       "booking_complete        0.026278      -0.029760       -0.041261     0.006991   \n",
       "\n",
       "                  flight_duration  booking_complete  \n",
       "num_passengers          -0.069101          0.026278  \n",
       "purchase_lead            0.076469         -0.029760  \n",
       "length_of_stay           0.137749         -0.041261  \n",
       "flight_hour             -0.003122          0.006991  \n",
       "flight_duration          1.000000         -0.108065  \n",
       "booking_complete        -0.108065          1.000000  "
      ]
     },
     "execution_count": 269,
     "metadata": {},
     "output_type": "execute_result"
    }
   ],
   "source": [
    "df_cust.corr()"
   ]
  },
  {
   "cell_type": "markdown",
   "id": "d8284a21",
   "metadata": {},
   "source": [
    "drop yang tidak terlalu penting"
   ]
  },
  {
   "cell_type": "code",
   "execution_count": 270,
   "id": "57a7c709",
   "metadata": {},
   "outputs": [
    {
     "data": {
      "text/html": [
       "<div>\n",
       "<style scoped>\n",
       "    .dataframe tbody tr th:only-of-type {\n",
       "        vertical-align: middle;\n",
       "    }\n",
       "\n",
       "    .dataframe tbody tr th {\n",
       "        vertical-align: top;\n",
       "    }\n",
       "\n",
       "    .dataframe thead th {\n",
       "        text-align: right;\n",
       "    }\n",
       "</style>\n",
       "<table border=\"1\" class=\"dataframe\">\n",
       "  <thead>\n",
       "    <tr style=\"text-align: right;\">\n",
       "      <th></th>\n",
       "      <th>num_passengers</th>\n",
       "      <th>sales_channel</th>\n",
       "      <th>trip_type</th>\n",
       "      <th>purchase_lead</th>\n",
       "      <th>length_of_stay</th>\n",
       "      <th>flight_hour</th>\n",
       "      <th>flight_day</th>\n",
       "      <th>route</th>\n",
       "      <th>booking_origin</th>\n",
       "      <th>flight_duration</th>\n",
       "      <th>booking_complete</th>\n",
       "    </tr>\n",
       "  </thead>\n",
       "  <tbody>\n",
       "    <tr>\n",
       "      <th>1</th>\n",
       "      <td>1</td>\n",
       "      <td>Internet</td>\n",
       "      <td>RoundTrip</td>\n",
       "      <td>112</td>\n",
       "      <td>20</td>\n",
       "      <td>3</td>\n",
       "      <td>Sat</td>\n",
       "      <td>Others</td>\n",
       "      <td>Others</td>\n",
       "      <td>5.52</td>\n",
       "      <td>0</td>\n",
       "    </tr>\n",
       "    <tr>\n",
       "      <th>2</th>\n",
       "      <td>2</td>\n",
       "      <td>Internet</td>\n",
       "      <td>RoundTrip</td>\n",
       "      <td>243</td>\n",
       "      <td>22</td>\n",
       "      <td>17</td>\n",
       "      <td>Wed</td>\n",
       "      <td>Others</td>\n",
       "      <td>Others</td>\n",
       "      <td>5.52</td>\n",
       "      <td>0</td>\n",
       "    </tr>\n",
       "    <tr>\n",
       "      <th>3</th>\n",
       "      <td>1</td>\n",
       "      <td>Internet</td>\n",
       "      <td>RoundTrip</td>\n",
       "      <td>96</td>\n",
       "      <td>31</td>\n",
       "      <td>4</td>\n",
       "      <td>Sat</td>\n",
       "      <td>Others</td>\n",
       "      <td>Others</td>\n",
       "      <td>5.52</td>\n",
       "      <td>0</td>\n",
       "    </tr>\n",
       "  </tbody>\n",
       "</table>\n",
       "</div>"
      ],
      "text/plain": [
       "   num_passengers sales_channel  trip_type  purchase_lead  length_of_stay  \\\n",
       "1               1      Internet  RoundTrip            112              20   \n",
       "2               2      Internet  RoundTrip            243              22   \n",
       "3               1      Internet  RoundTrip             96              31   \n",
       "\n",
       "   flight_hour flight_day   route booking_origin  flight_duration  \\\n",
       "1            3        Sat  Others         Others             5.52   \n",
       "2           17        Wed  Others         Others             5.52   \n",
       "3            4        Sat  Others         Others             5.52   \n",
       "\n",
       "   booking_complete  \n",
       "1                 0  \n",
       "2                 0  \n",
       "3                 0  "
      ]
     },
     "execution_count": 270,
     "metadata": {},
     "output_type": "execute_result"
    }
   ],
   "source": [
    "df_cust.head(3)"
   ]
  },
  {
   "cell_type": "markdown",
   "id": "2bfa9d99",
   "metadata": {},
   "source": [
    "### DATA PREPARATION"
   ]
  },
  {
   "cell_type": "code",
   "execution_count": 271,
   "id": "0c2d9add",
   "metadata": {},
   "outputs": [],
   "source": [
    "#sales channel onehot\n",
    "one_hot = pd.get_dummies(df_cust['sales_channel'])"
   ]
  },
  {
   "cell_type": "code",
   "execution_count": 272,
   "id": "5ccd6b5d",
   "metadata": {},
   "outputs": [],
   "source": [
    "one_hot = one_hot.add_prefix(df_cust.columns[0] + '_')"
   ]
  },
  {
   "cell_type": "code",
   "execution_count": 273,
   "id": "70eba9ab",
   "metadata": {},
   "outputs": [],
   "source": [
    "# Concatenate the original DataFrame and the one-hot encoded DataFrame\n",
    "df_cust = pd.concat([df_cust, one_hot], axis=1)"
   ]
  },
  {
   "cell_type": "code",
   "execution_count": 274,
   "id": "8305a844",
   "metadata": {},
   "outputs": [],
   "source": [
    "#trip type one hot\n",
    "one_hot2 = pd.get_dummies(df_cust['trip_type'])"
   ]
  },
  {
   "cell_type": "code",
   "execution_count": 275,
   "id": "013d9ac4",
   "metadata": {},
   "outputs": [],
   "source": [
    "one_hot2 = one_hot2.add_prefix(df_cust.columns[1] + '_')"
   ]
  },
  {
   "cell_type": "code",
   "execution_count": 276,
   "id": "8cad329c",
   "metadata": {},
   "outputs": [],
   "source": [
    "df_cust = pd.concat([df_cust, one_hot2], axis=1)"
   ]
  },
  {
   "cell_type": "code",
   "execution_count": 277,
   "id": "c657bfff",
   "metadata": {},
   "outputs": [],
   "source": [
    "#flight day one hot\n",
    "one_hot3 = pd.get_dummies(df_cust['flight_day'])"
   ]
  },
  {
   "cell_type": "code",
   "execution_count": 278,
   "id": "a3700450",
   "metadata": {},
   "outputs": [],
   "source": [
    "one_hot3 = one_hot3.add_prefix(df_cust.columns[2] + '_')"
   ]
  },
  {
   "cell_type": "code",
   "execution_count": 279,
   "id": "4f3088b9",
   "metadata": {},
   "outputs": [],
   "source": [
    "df_cust = pd.concat([df_cust, one_hot3], axis=1)"
   ]
  },
  {
   "cell_type": "code",
   "execution_count": 280,
   "id": "b106ed43",
   "metadata": {},
   "outputs": [],
   "source": [
    "#route one hot\n",
    "one_hot4 = pd.get_dummies(df_cust['route'])"
   ]
  },
  {
   "cell_type": "code",
   "execution_count": 281,
   "id": "fb220eeb",
   "metadata": {},
   "outputs": [],
   "source": [
    "one_hot4 = one_hot4.add_prefix(df_cust.columns[3] + '_')"
   ]
  },
  {
   "cell_type": "code",
   "execution_count": 282,
   "id": "a3e774aa",
   "metadata": {},
   "outputs": [],
   "source": [
    "df_cust = pd.concat([df_cust, one_hot4], axis=1)"
   ]
  },
  {
   "cell_type": "code",
   "execution_count": 283,
   "id": "03f60b0e",
   "metadata": {},
   "outputs": [],
   "source": [
    "#booking_origin one hot\n",
    "one_hot5 = pd.get_dummies(df_cust['booking_origin'])"
   ]
  },
  {
   "cell_type": "code",
   "execution_count": 284,
   "id": "37b6b7e5",
   "metadata": {},
   "outputs": [],
   "source": [
    "one_hot5 = one_hot5.add_prefix(df_cust.columns[4] + '_')"
   ]
  },
  {
   "cell_type": "code",
   "execution_count": 285,
   "id": "20a475a7",
   "metadata": {},
   "outputs": [],
   "source": [
    "df_cust = pd.concat([df_cust, one_hot5], axis=1)"
   ]
  },
  {
   "cell_type": "code",
   "execution_count": 286,
   "id": "47b704ba",
   "metadata": {},
   "outputs": [
    {
     "data": {
      "text/html": [
       "<div>\n",
       "<style scoped>\n",
       "    .dataframe tbody tr th:only-of-type {\n",
       "        vertical-align: middle;\n",
       "    }\n",
       "\n",
       "    .dataframe tbody tr th {\n",
       "        vertical-align: top;\n",
       "    }\n",
       "\n",
       "    .dataframe thead th {\n",
       "        text-align: right;\n",
       "    }\n",
       "</style>\n",
       "<table border=\"1\" class=\"dataframe\">\n",
       "  <thead>\n",
       "    <tr style=\"text-align: right;\">\n",
       "      <th></th>\n",
       "      <th>num_passengers</th>\n",
       "      <th>sales_channel</th>\n",
       "      <th>trip_type</th>\n",
       "      <th>purchase_lead</th>\n",
       "      <th>length_of_stay</th>\n",
       "      <th>flight_hour</th>\n",
       "      <th>flight_day</th>\n",
       "      <th>route</th>\n",
       "      <th>booking_origin</th>\n",
       "      <th>flight_duration</th>\n",
       "      <th>...</th>\n",
       "      <th>purchase_lead_ICNSYD</th>\n",
       "      <th>purchase_lead_MELSGN</th>\n",
       "      <th>purchase_lead_Others</th>\n",
       "      <th>purchase_lead_PENTPE</th>\n",
       "      <th>length_of_stay_Australia</th>\n",
       "      <th>length_of_stay_China</th>\n",
       "      <th>length_of_stay_Japan</th>\n",
       "      <th>length_of_stay_Malaysia</th>\n",
       "      <th>length_of_stay_Others</th>\n",
       "      <th>length_of_stay_South Korea</th>\n",
       "    </tr>\n",
       "  </thead>\n",
       "  <tbody>\n",
       "    <tr>\n",
       "      <th>1</th>\n",
       "      <td>1</td>\n",
       "      <td>Internet</td>\n",
       "      <td>RoundTrip</td>\n",
       "      <td>112</td>\n",
       "      <td>20</td>\n",
       "      <td>3</td>\n",
       "      <td>Sat</td>\n",
       "      <td>Others</td>\n",
       "      <td>Others</td>\n",
       "      <td>5.52</td>\n",
       "      <td>...</td>\n",
       "      <td>0</td>\n",
       "      <td>0</td>\n",
       "      <td>1</td>\n",
       "      <td>0</td>\n",
       "      <td>0</td>\n",
       "      <td>0</td>\n",
       "      <td>0</td>\n",
       "      <td>0</td>\n",
       "      <td>1</td>\n",
       "      <td>0</td>\n",
       "    </tr>\n",
       "    <tr>\n",
       "      <th>2</th>\n",
       "      <td>2</td>\n",
       "      <td>Internet</td>\n",
       "      <td>RoundTrip</td>\n",
       "      <td>243</td>\n",
       "      <td>22</td>\n",
       "      <td>17</td>\n",
       "      <td>Wed</td>\n",
       "      <td>Others</td>\n",
       "      <td>Others</td>\n",
       "      <td>5.52</td>\n",
       "      <td>...</td>\n",
       "      <td>0</td>\n",
       "      <td>0</td>\n",
       "      <td>1</td>\n",
       "      <td>0</td>\n",
       "      <td>0</td>\n",
       "      <td>0</td>\n",
       "      <td>0</td>\n",
       "      <td>0</td>\n",
       "      <td>1</td>\n",
       "      <td>0</td>\n",
       "    </tr>\n",
       "    <tr>\n",
       "      <th>3</th>\n",
       "      <td>1</td>\n",
       "      <td>Internet</td>\n",
       "      <td>RoundTrip</td>\n",
       "      <td>96</td>\n",
       "      <td>31</td>\n",
       "      <td>4</td>\n",
       "      <td>Sat</td>\n",
       "      <td>Others</td>\n",
       "      <td>Others</td>\n",
       "      <td>5.52</td>\n",
       "      <td>...</td>\n",
       "      <td>0</td>\n",
       "      <td>0</td>\n",
       "      <td>1</td>\n",
       "      <td>0</td>\n",
       "      <td>0</td>\n",
       "      <td>0</td>\n",
       "      <td>0</td>\n",
       "      <td>0</td>\n",
       "      <td>1</td>\n",
       "      <td>0</td>\n",
       "    </tr>\n",
       "  </tbody>\n",
       "</table>\n",
       "<p>3 rows × 35 columns</p>\n",
       "</div>"
      ],
      "text/plain": [
       "   num_passengers sales_channel  trip_type  purchase_lead  length_of_stay  \\\n",
       "1               1      Internet  RoundTrip            112              20   \n",
       "2               2      Internet  RoundTrip            243              22   \n",
       "3               1      Internet  RoundTrip             96              31   \n",
       "\n",
       "   flight_hour flight_day   route booking_origin  flight_duration  ...  \\\n",
       "1            3        Sat  Others         Others             5.52  ...   \n",
       "2           17        Wed  Others         Others             5.52  ...   \n",
       "3            4        Sat  Others         Others             5.52  ...   \n",
       "\n",
       "   purchase_lead_ICNSYD  purchase_lead_MELSGN  purchase_lead_Others  \\\n",
       "1                     0                     0                     1   \n",
       "2                     0                     0                     1   \n",
       "3                     0                     0                     1   \n",
       "\n",
       "   purchase_lead_PENTPE  length_of_stay_Australia  length_of_stay_China  \\\n",
       "1                     0                         0                     0   \n",
       "2                     0                         0                     0   \n",
       "3                     0                         0                     0   \n",
       "\n",
       "   length_of_stay_Japan  length_of_stay_Malaysia  length_of_stay_Others  \\\n",
       "1                     0                        0                      1   \n",
       "2                     0                        0                      1   \n",
       "3                     0                        0                      1   \n",
       "\n",
       "   length_of_stay_South Korea  \n",
       "1                           0  \n",
       "2                           0  \n",
       "3                           0  \n",
       "\n",
       "[3 rows x 35 columns]"
      ]
     },
     "execution_count": 286,
     "metadata": {},
     "output_type": "execute_result"
    }
   ],
   "source": [
    "df_cust.head(3)"
   ]
  },
  {
   "cell_type": "markdown",
   "id": "24dae067",
   "metadata": {},
   "source": [
    "drop sales the categories columns"
   ]
  },
  {
   "cell_type": "code",
   "execution_count": 287,
   "id": "047d181b",
   "metadata": {},
   "outputs": [],
   "source": [
    "df_cust.drop(['sales_channel','trip_type','flight_day','route','booking_origin'], axis=1, inplace=True)"
   ]
  },
  {
   "cell_type": "code",
   "execution_count": 288,
   "id": "c14ff6b5",
   "metadata": {},
   "outputs": [
    {
     "data": {
      "text/html": [
       "<div>\n",
       "<style scoped>\n",
       "    .dataframe tbody tr th:only-of-type {\n",
       "        vertical-align: middle;\n",
       "    }\n",
       "\n",
       "    .dataframe tbody tr th {\n",
       "        vertical-align: top;\n",
       "    }\n",
       "\n",
       "    .dataframe thead th {\n",
       "        text-align: right;\n",
       "    }\n",
       "</style>\n",
       "<table border=\"1\" class=\"dataframe\">\n",
       "  <thead>\n",
       "    <tr style=\"text-align: right;\">\n",
       "      <th></th>\n",
       "      <th>num_passengers</th>\n",
       "      <th>purchase_lead</th>\n",
       "      <th>length_of_stay</th>\n",
       "      <th>flight_hour</th>\n",
       "      <th>flight_duration</th>\n",
       "      <th>booking_complete</th>\n",
       "      <th>num_passengers_Internet</th>\n",
       "      <th>num_passengers_Mobile</th>\n",
       "      <th>sales_channel_CircleTrip</th>\n",
       "      <th>sales_channel_OneWay</th>\n",
       "      <th>...</th>\n",
       "      <th>purchase_lead_ICNSYD</th>\n",
       "      <th>purchase_lead_MELSGN</th>\n",
       "      <th>purchase_lead_Others</th>\n",
       "      <th>purchase_lead_PENTPE</th>\n",
       "      <th>length_of_stay_Australia</th>\n",
       "      <th>length_of_stay_China</th>\n",
       "      <th>length_of_stay_Japan</th>\n",
       "      <th>length_of_stay_Malaysia</th>\n",
       "      <th>length_of_stay_Others</th>\n",
       "      <th>length_of_stay_South Korea</th>\n",
       "    </tr>\n",
       "  </thead>\n",
       "  <tbody>\n",
       "    <tr>\n",
       "      <th>1</th>\n",
       "      <td>1</td>\n",
       "      <td>112</td>\n",
       "      <td>20</td>\n",
       "      <td>3</td>\n",
       "      <td>5.52</td>\n",
       "      <td>0</td>\n",
       "      <td>1</td>\n",
       "      <td>0</td>\n",
       "      <td>0</td>\n",
       "      <td>0</td>\n",
       "      <td>...</td>\n",
       "      <td>0</td>\n",
       "      <td>0</td>\n",
       "      <td>1</td>\n",
       "      <td>0</td>\n",
       "      <td>0</td>\n",
       "      <td>0</td>\n",
       "      <td>0</td>\n",
       "      <td>0</td>\n",
       "      <td>1</td>\n",
       "      <td>0</td>\n",
       "    </tr>\n",
       "    <tr>\n",
       "      <th>2</th>\n",
       "      <td>2</td>\n",
       "      <td>243</td>\n",
       "      <td>22</td>\n",
       "      <td>17</td>\n",
       "      <td>5.52</td>\n",
       "      <td>0</td>\n",
       "      <td>1</td>\n",
       "      <td>0</td>\n",
       "      <td>0</td>\n",
       "      <td>0</td>\n",
       "      <td>...</td>\n",
       "      <td>0</td>\n",
       "      <td>0</td>\n",
       "      <td>1</td>\n",
       "      <td>0</td>\n",
       "      <td>0</td>\n",
       "      <td>0</td>\n",
       "      <td>0</td>\n",
       "      <td>0</td>\n",
       "      <td>1</td>\n",
       "      <td>0</td>\n",
       "    </tr>\n",
       "    <tr>\n",
       "      <th>3</th>\n",
       "      <td>1</td>\n",
       "      <td>96</td>\n",
       "      <td>31</td>\n",
       "      <td>4</td>\n",
       "      <td>5.52</td>\n",
       "      <td>0</td>\n",
       "      <td>1</td>\n",
       "      <td>0</td>\n",
       "      <td>0</td>\n",
       "      <td>0</td>\n",
       "      <td>...</td>\n",
       "      <td>0</td>\n",
       "      <td>0</td>\n",
       "      <td>1</td>\n",
       "      <td>0</td>\n",
       "      <td>0</td>\n",
       "      <td>0</td>\n",
       "      <td>0</td>\n",
       "      <td>0</td>\n",
       "      <td>1</td>\n",
       "      <td>0</td>\n",
       "    </tr>\n",
       "  </tbody>\n",
       "</table>\n",
       "<p>3 rows × 30 columns</p>\n",
       "</div>"
      ],
      "text/plain": [
       "   num_passengers  purchase_lead  length_of_stay  flight_hour  \\\n",
       "1               1            112              20            3   \n",
       "2               2            243              22           17   \n",
       "3               1             96              31            4   \n",
       "\n",
       "   flight_duration  booking_complete  num_passengers_Internet  \\\n",
       "1             5.52                 0                        1   \n",
       "2             5.52                 0                        1   \n",
       "3             5.52                 0                        1   \n",
       "\n",
       "   num_passengers_Mobile  sales_channel_CircleTrip  sales_channel_OneWay  ...  \\\n",
       "1                      0                         0                     0  ...   \n",
       "2                      0                         0                     0  ...   \n",
       "3                      0                         0                     0  ...   \n",
       "\n",
       "   purchase_lead_ICNSYD  purchase_lead_MELSGN  purchase_lead_Others  \\\n",
       "1                     0                     0                     1   \n",
       "2                     0                     0                     1   \n",
       "3                     0                     0                     1   \n",
       "\n",
       "   purchase_lead_PENTPE  length_of_stay_Australia  length_of_stay_China  \\\n",
       "1                     0                         0                     0   \n",
       "2                     0                         0                     0   \n",
       "3                     0                         0                     0   \n",
       "\n",
       "   length_of_stay_Japan  length_of_stay_Malaysia  length_of_stay_Others  \\\n",
       "1                     0                        0                      1   \n",
       "2                     0                        0                      1   \n",
       "3                     0                        0                      1   \n",
       "\n",
       "   length_of_stay_South Korea  \n",
       "1                           0  \n",
       "2                           0  \n",
       "3                           0  \n",
       "\n",
       "[3 rows x 30 columns]"
      ]
     },
     "execution_count": 288,
     "metadata": {},
     "output_type": "execute_result"
    }
   ],
   "source": [
    "df_cust.head(3)"
   ]
  },
  {
   "cell_type": "markdown",
   "id": "8268e88b",
   "metadata": {},
   "source": [
    "## Modelling"
   ]
  },
  {
   "cell_type": "code",
   "execution_count": 289,
   "id": "ba4ed0f6",
   "metadata": {},
   "outputs": [],
   "source": [
    "from sklearn.model_selection import train_test_split # pembagi dataset menjadi training dan testing set\n",
    "from sklearn.metrics import accuracy_score,confusion_matrix, classification_report # evaluasi performa model"
   ]
  },
  {
   "cell_type": "code",
   "execution_count": 290,
   "id": "fe722386",
   "metadata": {},
   "outputs": [
    {
     "data": {
      "text/html": [
       "<div>\n",
       "<style scoped>\n",
       "    .dataframe tbody tr th:only-of-type {\n",
       "        vertical-align: middle;\n",
       "    }\n",
       "\n",
       "    .dataframe tbody tr th {\n",
       "        vertical-align: top;\n",
       "    }\n",
       "\n",
       "    .dataframe thead th {\n",
       "        text-align: right;\n",
       "    }\n",
       "</style>\n",
       "<table border=\"1\" class=\"dataframe\">\n",
       "  <thead>\n",
       "    <tr style=\"text-align: right;\">\n",
       "      <th></th>\n",
       "      <th>num_passengers</th>\n",
       "      <th>purchase_lead</th>\n",
       "      <th>length_of_stay</th>\n",
       "      <th>flight_hour</th>\n",
       "      <th>flight_duration</th>\n",
       "      <th>num_passengers_Internet</th>\n",
       "      <th>num_passengers_Mobile</th>\n",
       "      <th>sales_channel_CircleTrip</th>\n",
       "      <th>sales_channel_OneWay</th>\n",
       "      <th>sales_channel_RoundTrip</th>\n",
       "      <th>...</th>\n",
       "      <th>purchase_lead_ICNSYD</th>\n",
       "      <th>purchase_lead_MELSGN</th>\n",
       "      <th>purchase_lead_Others</th>\n",
       "      <th>purchase_lead_PENTPE</th>\n",
       "      <th>length_of_stay_Australia</th>\n",
       "      <th>length_of_stay_China</th>\n",
       "      <th>length_of_stay_Japan</th>\n",
       "      <th>length_of_stay_Malaysia</th>\n",
       "      <th>length_of_stay_Others</th>\n",
       "      <th>length_of_stay_South Korea</th>\n",
       "    </tr>\n",
       "  </thead>\n",
       "  <tbody>\n",
       "    <tr>\n",
       "      <th>1</th>\n",
       "      <td>1</td>\n",
       "      <td>112</td>\n",
       "      <td>20</td>\n",
       "      <td>3</td>\n",
       "      <td>5.52</td>\n",
       "      <td>1</td>\n",
       "      <td>0</td>\n",
       "      <td>0</td>\n",
       "      <td>0</td>\n",
       "      <td>1</td>\n",
       "      <td>...</td>\n",
       "      <td>0</td>\n",
       "      <td>0</td>\n",
       "      <td>1</td>\n",
       "      <td>0</td>\n",
       "      <td>0</td>\n",
       "      <td>0</td>\n",
       "      <td>0</td>\n",
       "      <td>0</td>\n",
       "      <td>1</td>\n",
       "      <td>0</td>\n",
       "    </tr>\n",
       "    <tr>\n",
       "      <th>2</th>\n",
       "      <td>2</td>\n",
       "      <td>243</td>\n",
       "      <td>22</td>\n",
       "      <td>17</td>\n",
       "      <td>5.52</td>\n",
       "      <td>1</td>\n",
       "      <td>0</td>\n",
       "      <td>0</td>\n",
       "      <td>0</td>\n",
       "      <td>1</td>\n",
       "      <td>...</td>\n",
       "      <td>0</td>\n",
       "      <td>0</td>\n",
       "      <td>1</td>\n",
       "      <td>0</td>\n",
       "      <td>0</td>\n",
       "      <td>0</td>\n",
       "      <td>0</td>\n",
       "      <td>0</td>\n",
       "      <td>1</td>\n",
       "      <td>0</td>\n",
       "    </tr>\n",
       "    <tr>\n",
       "      <th>3</th>\n",
       "      <td>1</td>\n",
       "      <td>96</td>\n",
       "      <td>31</td>\n",
       "      <td>4</td>\n",
       "      <td>5.52</td>\n",
       "      <td>1</td>\n",
       "      <td>0</td>\n",
       "      <td>0</td>\n",
       "      <td>0</td>\n",
       "      <td>1</td>\n",
       "      <td>...</td>\n",
       "      <td>0</td>\n",
       "      <td>0</td>\n",
       "      <td>1</td>\n",
       "      <td>0</td>\n",
       "      <td>0</td>\n",
       "      <td>0</td>\n",
       "      <td>0</td>\n",
       "      <td>0</td>\n",
       "      <td>1</td>\n",
       "      <td>0</td>\n",
       "    </tr>\n",
       "    <tr>\n",
       "      <th>4</th>\n",
       "      <td>2</td>\n",
       "      <td>68</td>\n",
       "      <td>22</td>\n",
       "      <td>15</td>\n",
       "      <td>5.52</td>\n",
       "      <td>1</td>\n",
       "      <td>0</td>\n",
       "      <td>0</td>\n",
       "      <td>0</td>\n",
       "      <td>1</td>\n",
       "      <td>...</td>\n",
       "      <td>0</td>\n",
       "      <td>0</td>\n",
       "      <td>1</td>\n",
       "      <td>0</td>\n",
       "      <td>0</td>\n",
       "      <td>0</td>\n",
       "      <td>0</td>\n",
       "      <td>0</td>\n",
       "      <td>1</td>\n",
       "      <td>0</td>\n",
       "    </tr>\n",
       "    <tr>\n",
       "      <th>5</th>\n",
       "      <td>1</td>\n",
       "      <td>3</td>\n",
       "      <td>48</td>\n",
       "      <td>20</td>\n",
       "      <td>5.52</td>\n",
       "      <td>1</td>\n",
       "      <td>0</td>\n",
       "      <td>0</td>\n",
       "      <td>0</td>\n",
       "      <td>1</td>\n",
       "      <td>...</td>\n",
       "      <td>0</td>\n",
       "      <td>0</td>\n",
       "      <td>1</td>\n",
       "      <td>0</td>\n",
       "      <td>0</td>\n",
       "      <td>0</td>\n",
       "      <td>0</td>\n",
       "      <td>0</td>\n",
       "      <td>1</td>\n",
       "      <td>0</td>\n",
       "    </tr>\n",
       "  </tbody>\n",
       "</table>\n",
       "<p>5 rows × 29 columns</p>\n",
       "</div>"
      ],
      "text/plain": [
       "   num_passengers  purchase_lead  length_of_stay  flight_hour  \\\n",
       "1               1            112              20            3   \n",
       "2               2            243              22           17   \n",
       "3               1             96              31            4   \n",
       "4               2             68              22           15   \n",
       "5               1              3              48           20   \n",
       "\n",
       "   flight_duration  num_passengers_Internet  num_passengers_Mobile  \\\n",
       "1             5.52                        1                      0   \n",
       "2             5.52                        1                      0   \n",
       "3             5.52                        1                      0   \n",
       "4             5.52                        1                      0   \n",
       "5             5.52                        1                      0   \n",
       "\n",
       "   sales_channel_CircleTrip  sales_channel_OneWay  sales_channel_RoundTrip  \\\n",
       "1                         0                     0                        1   \n",
       "2                         0                     0                        1   \n",
       "3                         0                     0                        1   \n",
       "4                         0                     0                        1   \n",
       "5                         0                     0                        1   \n",
       "\n",
       "   ...  purchase_lead_ICNSYD  purchase_lead_MELSGN  purchase_lead_Others  \\\n",
       "1  ...                     0                     0                     1   \n",
       "2  ...                     0                     0                     1   \n",
       "3  ...                     0                     0                     1   \n",
       "4  ...                     0                     0                     1   \n",
       "5  ...                     0                     0                     1   \n",
       "\n",
       "   purchase_lead_PENTPE  length_of_stay_Australia  length_of_stay_China  \\\n",
       "1                     0                         0                     0   \n",
       "2                     0                         0                     0   \n",
       "3                     0                         0                     0   \n",
       "4                     0                         0                     0   \n",
       "5                     0                         0                     0   \n",
       "\n",
       "   length_of_stay_Japan  length_of_stay_Malaysia  length_of_stay_Others  \\\n",
       "1                     0                        0                      1   \n",
       "2                     0                        0                      1   \n",
       "3                     0                        0                      1   \n",
       "4                     0                        0                      1   \n",
       "5                     0                        0                      1   \n",
       "\n",
       "   length_of_stay_South Korea  \n",
       "1                           0  \n",
       "2                           0  \n",
       "3                           0  \n",
       "4                           0  \n",
       "5                           0  \n",
       "\n",
       "[5 rows x 29 columns]"
      ]
     },
     "execution_count": 290,
     "metadata": {},
     "output_type": "execute_result"
    }
   ],
   "source": [
    "X = df_cust.drop(columns='booking_complete') # menempatkan features ke dalam variable X\n",
    "X.head() # tampilkan 5 baris pertama"
   ]
  },
  {
   "cell_type": "code",
   "execution_count": 291,
   "id": "6f91ece2",
   "metadata": {},
   "outputs": [
    {
     "data": {
      "text/plain": [
       "1    0\n",
       "2    0\n",
       "3    0\n",
       "4    0\n",
       "5    0\n",
       "Name: booking_complete, dtype: int64"
      ]
     },
     "execution_count": 291,
     "metadata": {},
     "output_type": "execute_result"
    }
   ],
   "source": [
    "y = df_cust['booking_complete'] # menempatkan class label (target) ke dalam variabel y\n",
    "y.head() # tampilkan 5 baris pertama"
   ]
  },
  {
   "cell_type": "code",
   "execution_count": 292,
   "id": "ada8db85",
   "metadata": {},
   "outputs": [
    {
     "name": "stdout",
     "output_type": "stream",
     "text": [
      "training dataset\n",
      "(27926, 29)\n",
      "(27926,)\n",
      "\n",
      "testing dataset:\n",
      "(18618, 29)\n",
      "(18618,)\n"
     ]
    }
   ],
   "source": [
    "# membagi dataset ke dalam training dan testing set\n",
    "X_train, X_test, y_train, y_test = train_test_split(X, y, test_size=0.4, random_state=10)\n",
    "\n",
    "print('training dataset')\n",
    "print(X_train.shape)\n",
    "print(y_train.shape)\n",
    "print()\n",
    "print('testing dataset:')\n",
    "print(X_test.shape)\n",
    "print(y_test.shape)"
   ]
  },
  {
   "cell_type": "code",
   "execution_count": 293,
   "id": "2727674b",
   "metadata": {},
   "outputs": [],
   "source": [
    "from sklearn.neighbors import KNeighborsClassifier"
   ]
  },
  {
   "cell_type": "code",
   "execution_count": null,
   "id": "42a7c109",
   "metadata": {},
   "outputs": [],
   "source": [
    "model_knn = KNeighborsClassifier(n_neighbors=3) # konfigurasi algoritma\n",
    "model_knn.fit(X_train,y_train) # training model/classifier\n",
    "y_pred = model_knn.predict(X_test) # melakukan prediksi"
   ]
  },
  {
   "cell_type": "code",
   "execution_count": 295,
   "id": "0f47d406",
   "metadata": {},
   "outputs": [],
   "source": [
    "k_range = list(range(1,26))\n",
    "scores = []\n",
    "for k in k_range:\n",
    "    model_knn = KNeighborsClassifier(n_neighbors=k) # konfigurasi algoritma\n",
    "    model_knn.fit(X_train, y_train) # training model/classifier\n",
    "    y_pred = model_knn.predict(X_test) # melakukan prediksi\n",
    "    scores.append(accuracy_score(y_test, y_pred)) # evaluasi performa"
   ]
  },
  {
   "cell_type": "code",
   "execution_count": 296,
   "id": "3188b1b2",
   "metadata": {
    "scrolled": false
   },
   "outputs": [
    {
     "data": {
      "image/png": "[encoded data removed]",
      "text/plain": [
       "<Figure size 1000x500 with 1 Axes>"
      ]
     },
     "metadata": {},
     "output_type": "display_data"
    }
   ],
   "source": [
    "fig = plt.figure(figsize=(10, 5))\n",
    "plt.plot(k_range, scores)\n",
    "plt.xlabel('Value of k for KNN')\n",
    "plt.ylabel('Accuracy Score')\n",
    "plt.title('Accuracy Scores for Values of k of k-Nearest-Neighbors')\n",
    "plt.tight_layout()\n",
    "plt.show()"
   ]
  },
  {
   "cell_type": "code",
   "execution_count": 297,
   "id": "dd2db686",
   "metadata": {},
   "outputs": [],
   "source": [
    "model_knn = KNeighborsClassifier(n_neighbors=3) # konfigurasi algoritma\n",
    "model_knn.fit(X_train,y_train) # training model/classifier\n",
    "y_pred = model_knn.predict(X_test) # melakukan prediksi"
   ]
  },
  {
   "cell_type": "code",
   "execution_count": 298,
   "id": "db890adf",
   "metadata": {},
   "outputs": [
    {
     "name": "stdout",
     "output_type": "stream",
     "text": [
      "0.8150714362444946\n"
     ]
    }
   ],
   "source": [
    "print(accuracy_score(y_test, y_pred)) # evaluasi akurasi"
   ]
  },
  {
   "cell_type": "markdown",
   "id": "03b9ab2d",
   "metadata": {},
   "source": [
    "**confussion matrix**"
   ]
  },
  {
   "cell_type": "code",
   "execution_count": 299,
   "id": "843c0301",
   "metadata": {},
   "outputs": [
    {
     "name": "stdout",
     "output_type": "stream",
     "text": [
      "[[14855   930]\n",
      " [ 2513   320]]\n"
     ]
    }
   ],
   "source": [
    "print(confusion_matrix(y_test, y_pred)) # evaluasi confusion matrix"
   ]
  },
  {
   "cell_type": "markdown",
   "id": "a2ec3f49",
   "metadata": {},
   "source": [
    "**classification report**"
   ]
  },
  {
   "cell_type": "code",
   "execution_count": 300,
   "id": "d73d69eb",
   "metadata": {},
   "outputs": [
    {
     "name": "stdout",
     "output_type": "stream",
     "text": [
      "              precision    recall  f1-score   support\n",
      "\n",
      "           0       0.86      0.94      0.90     15785\n",
      "           1       0.26      0.11      0.16      2833\n",
      "\n",
      "    accuracy                           0.82     18618\n",
      "   macro avg       0.56      0.53      0.53     18618\n",
      "weighted avg       0.76      0.82      0.78     18618\n",
      "\n"
     ]
    }
   ],
   "source": [
    "print(classification_report(y_test, y_pred)) # evaluasi klasifikasi"
   ]
  },
  {
   "cell_type": "markdown",
   "id": "6300ab97",
   "metadata": {},
   "source": [
    "### Logistic Regression"
   ]
  },
  {
   "cell_type": "code",
   "execution_count": 301,
   "id": "c4715eb0",
   "metadata": {},
   "outputs": [],
   "source": [
    "from sklearn.linear_model import LogisticRegression"
   ]
  },
  {
   "cell_type": "code",
   "execution_count": 302,
   "id": "00d81ac5",
   "metadata": {},
   "outputs": [],
   "source": [
    "# model_logreg = LogisticRegression()\n",
    "model_logreg = LogisticRegression(solver='lbfgs', multi_class='auto')\n",
    "model_logreg.fit(X_train,y_train)\n",
    "y_pred = model_logreg.predict(X_test)"
   ]
  },
  {
   "cell_type": "code",
   "execution_count": 303,
   "id": "c5ffe74c",
   "metadata": {},
   "outputs": [
    {
     "name": "stdout",
     "output_type": "stream",
     "text": [
      "0.8478354280803524\n"
     ]
    }
   ],
   "source": [
    "#accuracy score\n",
    "print(accuracy_score(y_test, y_pred))"
   ]
  },
  {
   "cell_type": "code",
   "execution_count": 304,
   "id": "78c4716b",
   "metadata": {},
   "outputs": [
    {
     "name": "stdout",
     "output_type": "stream",
     "text": [
      "[[15785     0]\n",
      " [ 2833     0]]\n"
     ]
    }
   ],
   "source": [
    "#confussionmatrix\n",
    "print(confusion_matrix(y_test, y_pred))"
   ]
  },
  {
   "cell_type": "code",
   "execution_count": 305,
   "id": "88065773",
   "metadata": {},
   "outputs": [
    {
     "name": "stdout",
     "output_type": "stream",
     "text": [
      "              precision    recall  f1-score   support\n",
      "\n",
      "           0       0.85      1.00      0.92     15785\n",
      "           1       0.00      0.00      0.00      2833\n",
      "\n",
      "    accuracy                           0.85     18618\n",
      "   macro avg       0.42      0.50      0.46     18618\n",
      "weighted avg       0.72      0.85      0.78     18618\n",
      "\n"
     ]
    }
   ],
   "source": [
    "#classification report\n",
    "print(classification_report(y_test, y_pred))"
   ]
  },
  {
   "cell_type": "markdown",
   "id": "c9571d06",
   "metadata": {},
   "source": [
    "### random forest"
   ]
  },
  {
   "cell_type": "code",
   "execution_count": 306,
   "id": "dddf282f",
   "metadata": {},
   "outputs": [],
   "source": [
    "from sklearn.ensemble import RandomForestClassifier"
   ]
  },
  {
   "cell_type": "code",
   "execution_count": 307,
   "id": "6158369f",
   "metadata": {},
   "outputs": [],
   "source": [
    "# model_rf = RandomForestClassifier()\n",
    "model_rf = RandomForestClassifier(n_estimators=100)\n",
    "model_rf.fit(X_train,y_train)\n",
    "pred_rf = model_rf.predict(X_test)"
   ]
  },
  {
   "cell_type": "markdown",
   "id": "dfb56579",
   "metadata": {},
   "source": [
    "### SVC "
   ]
  },
  {
   "cell_type": "code",
   "execution_count": 308,
   "id": "e0349bf5",
   "metadata": {},
   "outputs": [],
   "source": [
    "from sklearn.svm import SVC"
   ]
  },
  {
   "cell_type": "code",
   "execution_count": 309,
   "id": "d278691c",
   "metadata": {},
   "outputs": [],
   "source": [
    "# model_svc = SVC()\n",
    "model_svc = SVC(gamma='scale')\n",
    "model_svc.fit(X_train,y_train)\n",
    "y_pred = model_svc.predict(X_test)"
   ]
  },
  {
   "cell_type": "markdown",
   "id": "eeef23ef",
   "metadata": {},
   "source": [
    "### Decisison Tree"
   ]
  },
  {
   "cell_type": "code",
   "execution_count": 310,
   "id": "f88e464c",
   "metadata": {},
   "outputs": [],
   "source": [
    "from sklearn.tree import DecisionTreeClassifier"
   ]
  },
  {
   "cell_type": "code",
   "execution_count": 311,
   "id": "0e0f305b",
   "metadata": {},
   "outputs": [],
   "source": [
    "model_dt = DecisionTreeClassifier()\n",
    "model_dt.fit(X_train,y_train)\n",
    "y_pred = model_dt.predict(X_test)"
   ]
  },
  {
   "cell_type": "markdown",
   "id": "38bb58e8",
   "metadata": {},
   "source": [
    "**accuracy comparison for various models**"
   ]
  },
  {
   "cell_type": "code",
   "execution_count": 312,
   "id": "a9ce5f65",
   "metadata": {},
   "outputs": [
    {
     "name": "stdout",
     "output_type": "stream",
     "text": [
      "[0.8150714362444946, 0.8478354280803524, 0.8478354280803524, 0.7714040176173595, 0.8425717048018047]\n"
     ]
    }
   ],
   "source": [
    "models = [model_knn, model_logreg, model_svc, model_dt, model_rf]\n",
    "accuracy_scores = []\n",
    "for model in models:\n",
    "    y_pred = model.predict(X_test)\n",
    "    accuracy = accuracy_score(y_test, y_pred)\n",
    "    accuracy_scores.append(accuracy)\n",
    "    \n",
    "print(accuracy_scores)"
   ]
  },
  {
   "cell_type": "markdown",
   "id": "b9660756",
   "metadata": {},
   "source": [
    "### the good model is logistic regression, svc, and random forest"
   ]
  },
  {
   "cell_type": "code",
   "execution_count": null,
   "id": "2c9ee536",
   "metadata": {},
   "outputs": [],
   "source": []
  },
  {
   "cell_type": "code",
   "execution_count": null,
   "id": "58938aa6",
   "metadata": {},
   "outputs": [],
   "source": []
  }
 ],
 "metadata": {
  "kernelspec": {
   "display_name": "Python 3 (ipykernel)",
   "language": "python",
   "name": "python3"
  },
  "language_info": {
   "codemirror_mode": {
    "name": "ipython",
    "version": 3
   },
   "file_extension": ".py",
   "mimetype": "text/x-python",
   "name": "python",
   "nbconvert_exporter": "python",
   "pygments_lexer": "ipython3",
   "version": "3.9.13"
  }
 },
 "nbformat": 4,
 "nbformat_minor": 5
}
