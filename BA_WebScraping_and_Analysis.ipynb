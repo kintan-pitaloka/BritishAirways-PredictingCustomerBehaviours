{
 "cells": [
  {
   "cell_type": "markdown",
   "id": "14f38710",
   "metadata": {},
   "source": [
    "# British Airways Predicting Customer Behaviours"
   ]
  },
  {
   "cell_type": "markdown",
   "id": "7be045cf",
   "metadata": {},
   "source": [
    "### Web scraping and analysis"
   ]
  },
  {
   "cell_type": "markdown",
   "id": "6bc7407c",
   "metadata": {},
   "source": [
    "This Jupyter notebook includes some code to get you started with web scraping. We will use a package called BeautifulSoup to collect the data from the web. Once you've collected your data and saved it into a local .csv file you should start with your analysis.\n",
    "\n",
    "Scraping data from Skytrax\n",
    "If you visit [https://www.airlinequality.com] you can see that there is a lot of data there. For this task, we are only interested in reviews related to British Airways and the Airline itself.\n",
    "\n",
    "If you navigate to this link: [https://www.airlinequality.com/airline-reviews/british-airways] you will see this data. Now, we can use Python and BeautifulSoup to collect all the links to the reviews and then to collect the text data on each of the individual review links."
   ]
  },
  {
   "cell_type": "code",
   "execution_count": 162,
   "id": "cf98c9bc",
   "metadata": {},
   "outputs": [],
   "source": [
    "import requests\n",
    "from bs4 import BeautifulSoup\n",
    "import pandas as pd\n",
    "import matplotlib.pyplot as plt\n",
    "%matplotlib inline"
   ]
  },
  {
   "cell_type": "code",
   "execution_count": 164,
   "id": "fe91e3fc",
   "metadata": {
    "scrolled": true
   },
   "outputs": [
    {
     "name": "stdout",
     "output_type": "stream",
     "text": [
      "Scraping page 1\n",
      "   ---> 100 total reviews\n",
      "Scraping page 2\n",
      "   ---> 200 total reviews\n",
      "Scraping page 3\n",
      "   ---> 300 total reviews\n",
      "Scraping page 4\n",
      "   ---> 400 total reviews\n",
      "Scraping page 5\n",
      "   ---> 500 total reviews\n",
      "Scraping page 6\n",
      "   ---> 600 total reviews\n",
      "Scraping page 7\n",
      "   ---> 700 total reviews\n",
      "Scraping page 8\n",
      "   ---> 800 total reviews\n",
      "Scraping page 9\n",
      "   ---> 900 total reviews\n",
      "Scraping page 10\n",
      "   ---> 1000 total reviews\n"
     ]
    }
   ],
   "source": [
    "#web scraping\n",
    "base_url = \"https://www.airlinequality.com/airline-reviews/british-airways\"\n",
    "pages = 10\n",
    "page_size = 100\n",
    "\n",
    "reviews = []\n",
    "\n",
    "\n",
    "# for i in range(1, pages + 1):\n",
    "for i in range(1, pages + 1):\n",
    "\n",
    "    print(f\"Scraping page {i}\")\n",
    "\n",
    "    # Create URL to collect links from paginated data\n",
    "    url = f\"{base_url}/page/{i}/?sortby=post_date%3ADesc&pagesize={page_size}\"\n",
    "\n",
    "    # Collect HTML data from this page\n",
    "    response = requests.get(url)\n",
    "\n",
    "    # Parse content\n",
    "    content = response.content\n",
    "    parsed_content = BeautifulSoup(content, 'html.parser')\n",
    "    for para in parsed_content.find_all(\"div\", {\"class\": \"text_content\"}):\n",
    "        reviews.append(para.get_text())\n",
    "    \n",
    "    print(f\"   ---> {len(reviews)} total reviews\")"
   ]
  },
  {
   "cell_type": "code",
   "execution_count": 165,
   "id": "13d89674",
   "metadata": {},
   "outputs": [
    {
     "data": {
      "text/html": [
       "<div>\n",
       "<style scoped>\n",
       "    .dataframe tbody tr th:only-of-type {\n",
       "        vertical-align: middle;\n",
       "    }\n",
       "\n",
       "    .dataframe tbody tr th {\n",
       "        vertical-align: top;\n",
       "    }\n",
       "\n",
       "    .dataframe thead th {\n",
       "        text-align: right;\n",
       "    }\n",
       "</style>\n",
       "<table border=\"1\" class=\"dataframe\">\n",
       "  <thead>\n",
       "    <tr style=\"text-align: right;\">\n",
       "      <th></th>\n",
       "      <th>reviews</th>\n",
       "    </tr>\n",
       "  </thead>\n",
       "  <tbody>\n",
       "    <tr>\n",
       "      <th>0</th>\n",
       "      <td>✅ Trip Verified |  This flight was one of the ...</td>\n",
       "    </tr>\n",
       "    <tr>\n",
       "      <th>1</th>\n",
       "      <td>Not Verified | It seems that there is a race t...</td>\n",
       "    </tr>\n",
       "    <tr>\n",
       "      <th>2</th>\n",
       "      <td>Not Verified |  As a Spanish born individual l...</td>\n",
       "    </tr>\n",
       "    <tr>\n",
       "      <th>3</th>\n",
       "      <td>✅ Trip Verified |  A rather empty and quiet fl...</td>\n",
       "    </tr>\n",
       "    <tr>\n",
       "      <th>4</th>\n",
       "      <td>✅ Trip Verified |  Easy check in and staff mem...</td>\n",
       "    </tr>\n",
       "  </tbody>\n",
       "</table>\n",
       "</div>"
      ],
      "text/plain": [
       "                                             reviews\n",
       "0  ✅ Trip Verified |  This flight was one of the ...\n",
       "1  Not Verified | It seems that there is a race t...\n",
       "2  Not Verified |  As a Spanish born individual l...\n",
       "3  ✅ Trip Verified |  A rather empty and quiet fl...\n",
       "4  ✅ Trip Verified |  Easy check in and staff mem..."
      ]
     },
     "execution_count": 165,
     "metadata": {},
     "output_type": "execute_result"
    }
   ],
   "source": [
    "#make dataframe\n",
    "df = pd.DataFrame()\n",
    "df[\"reviews\"] = reviews\n",
    "df.head()"
   ]
  },
  {
   "cell_type": "code",
   "execution_count": 166,
   "id": "18b57395",
   "metadata": {},
   "outputs": [],
   "source": [
    "df.to_csv(\"data/BA_reviews2.csv\")"
   ]
  },
  {
   "cell_type": "markdown",
   "id": "f3b29360",
   "metadata": {},
   "source": [
    "### Data Exploration"
   ]
  },
  {
   "cell_type": "code",
   "execution_count": 167,
   "id": "024b73f0",
   "metadata": {},
   "outputs": [],
   "source": [
    "data_ba = pd.read_csv('data/BA_reviews2.csv', index_col=[0])"
   ]
  },
  {
   "cell_type": "code",
   "execution_count": 168,
   "id": "9c5d2b97",
   "metadata": {},
   "outputs": [
    {
     "data": {
      "text/html": [
       "<div>\n",
       "<style scoped>\n",
       "    .dataframe tbody tr th:only-of-type {\n",
       "        vertical-align: middle;\n",
       "    }\n",
       "\n",
       "    .dataframe tbody tr th {\n",
       "        vertical-align: top;\n",
       "    }\n",
       "\n",
       "    .dataframe thead th {\n",
       "        text-align: right;\n",
       "    }\n",
       "</style>\n",
       "<table border=\"1\" class=\"dataframe\">\n",
       "  <thead>\n",
       "    <tr style=\"text-align: right;\">\n",
       "      <th></th>\n",
       "      <th>reviews</th>\n",
       "    </tr>\n",
       "  </thead>\n",
       "  <tbody>\n",
       "    <tr>\n",
       "      <th>0</th>\n",
       "      <td>✅ Trip Verified |  This flight was one of the ...</td>\n",
       "    </tr>\n",
       "    <tr>\n",
       "      <th>1</th>\n",
       "      <td>Not Verified | It seems that there is a race t...</td>\n",
       "    </tr>\n",
       "    <tr>\n",
       "      <th>2</th>\n",
       "      <td>Not Verified |  As a Spanish born individual l...</td>\n",
       "    </tr>\n",
       "    <tr>\n",
       "      <th>3</th>\n",
       "      <td>✅ Trip Verified |  A rather empty and quiet fl...</td>\n",
       "    </tr>\n",
       "    <tr>\n",
       "      <th>4</th>\n",
       "      <td>✅ Trip Verified |  Easy check in and staff mem...</td>\n",
       "    </tr>\n",
       "  </tbody>\n",
       "</table>\n",
       "</div>"
      ],
      "text/plain": [
       "                                             reviews\n",
       "0  ✅ Trip Verified |  This flight was one of the ...\n",
       "1  Not Verified | It seems that there is a race t...\n",
       "2  Not Verified |  As a Spanish born individual l...\n",
       "3  ✅ Trip Verified |  A rather empty and quiet fl...\n",
       "4  ✅ Trip Verified |  Easy check in and staff mem..."
      ]
     },
     "execution_count": 168,
     "metadata": {},
     "output_type": "execute_result"
    }
   ],
   "source": [
    "data_ba.head()"
   ]
  },
  {
   "cell_type": "code",
   "execution_count": 169,
   "id": "232c79d0",
   "metadata": {},
   "outputs": [
    {
     "name": "stdout",
     "output_type": "stream",
     "text": [
      "<class 'pandas.core.frame.DataFrame'>\n",
      "Int64Index: 1000 entries, 0 to 999\n",
      "Data columns (total 1 columns):\n",
      " #   Column   Non-Null Count  Dtype \n",
      "---  ------   --------------  ----- \n",
      " 0   reviews  1000 non-null   object\n",
      "dtypes: object(1)\n",
      "memory usage: 15.6+ KB\n"
     ]
    }
   ],
   "source": [
    "data_ba.info()"
   ]
  },
  {
   "cell_type": "code",
   "execution_count": 170,
   "id": "f1ed4bfa",
   "metadata": {},
   "outputs": [],
   "source": [
    "#copy data \n",
    "data1 = data_ba.copy()"
   ]
  },
  {
   "cell_type": "code",
   "execution_count": 171,
   "id": "52f23b6c",
   "metadata": {},
   "outputs": [
    {
     "data": {
      "text/html": [
       "<div>\n",
       "<style scoped>\n",
       "    .dataframe tbody tr th:only-of-type {\n",
       "        vertical-align: middle;\n",
       "    }\n",
       "\n",
       "    .dataframe tbody tr th {\n",
       "        vertical-align: top;\n",
       "    }\n",
       "\n",
       "    .dataframe thead th {\n",
       "        text-align: right;\n",
       "    }\n",
       "</style>\n",
       "<table border=\"1\" class=\"dataframe\">\n",
       "  <thead>\n",
       "    <tr style=\"text-align: right;\">\n",
       "      <th></th>\n",
       "      <th>reviews</th>\n",
       "    </tr>\n",
       "  </thead>\n",
       "  <tbody>\n",
       "    <tr>\n",
       "      <th>0</th>\n",
       "      <td>✅ Trip Verified |  This flight was one of the ...</td>\n",
       "    </tr>\n",
       "    <tr>\n",
       "      <th>1</th>\n",
       "      <td>Not Verified | It seems that there is a race t...</td>\n",
       "    </tr>\n",
       "    <tr>\n",
       "      <th>2</th>\n",
       "      <td>Not Verified |  As a Spanish born individual l...</td>\n",
       "    </tr>\n",
       "    <tr>\n",
       "      <th>3</th>\n",
       "      <td>✅ Trip Verified |  A rather empty and quiet fl...</td>\n",
       "    </tr>\n",
       "    <tr>\n",
       "      <th>4</th>\n",
       "      <td>✅ Trip Verified |  Easy check in and staff mem...</td>\n",
       "    </tr>\n",
       "  </tbody>\n",
       "</table>\n",
       "</div>"
      ],
      "text/plain": [
       "                                             reviews\n",
       "0  ✅ Trip Verified |  This flight was one of the ...\n",
       "1  Not Verified | It seems that there is a race t...\n",
       "2  Not Verified |  As a Spanish born individual l...\n",
       "3  ✅ Trip Verified |  A rather empty and quiet fl...\n",
       "4  ✅ Trip Verified |  Easy check in and staff mem..."
      ]
     },
     "execution_count": 171,
     "metadata": {},
     "output_type": "execute_result"
    }
   ],
   "source": [
    "data1.head()"
   ]
  },
  {
   "cell_type": "code",
   "execution_count": 172,
   "id": "849ebdce",
   "metadata": {
    "scrolled": true
   },
   "outputs": [
    {
     "data": {
      "text/plain": [
       "reviews    False\n",
       "dtype: bool"
      ]
     },
     "execution_count": 172,
     "metadata": {},
     "output_type": "execute_result"
    }
   ],
   "source": [
    "data1.isna().any()"
   ]
  },
  {
   "cell_type": "code",
   "execution_count": 173,
   "id": "b5b8212a",
   "metadata": {},
   "outputs": [
    {
     "data": {
      "text/html": [
       "<div>\n",
       "<style scoped>\n",
       "    .dataframe tbody tr th:only-of-type {\n",
       "        vertical-align: middle;\n",
       "    }\n",
       "\n",
       "    .dataframe tbody tr th {\n",
       "        vertical-align: top;\n",
       "    }\n",
       "\n",
       "    .dataframe thead th {\n",
       "        text-align: right;\n",
       "    }\n",
       "</style>\n",
       "<table border=\"1\" class=\"dataframe\">\n",
       "  <thead>\n",
       "    <tr style=\"text-align: right;\">\n",
       "      <th></th>\n",
       "      <th>reviews</th>\n",
       "    </tr>\n",
       "  </thead>\n",
       "  <tbody>\n",
       "    <tr>\n",
       "      <th>0</th>\n",
       "      <td>✅ Trip Verified |  This flight was one of the ...</td>\n",
       "    </tr>\n",
       "    <tr>\n",
       "      <th>1</th>\n",
       "      <td>Not Verified | It seems that there is a race t...</td>\n",
       "    </tr>\n",
       "    <tr>\n",
       "      <th>2</th>\n",
       "      <td>Not Verified |  As a Spanish born individual l...</td>\n",
       "    </tr>\n",
       "    <tr>\n",
       "      <th>3</th>\n",
       "      <td>✅ Trip Verified |  A rather empty and quiet fl...</td>\n",
       "    </tr>\n",
       "    <tr>\n",
       "      <th>4</th>\n",
       "      <td>✅ Trip Verified |  Easy check in and staff mem...</td>\n",
       "    </tr>\n",
       "  </tbody>\n",
       "</table>\n",
       "</div>"
      ],
      "text/plain": [
       "                                             reviews\n",
       "0  ✅ Trip Verified |  This flight was one of the ...\n",
       "1  Not Verified | It seems that there is a race t...\n",
       "2  Not Verified |  As a Spanish born individual l...\n",
       "3  ✅ Trip Verified |  A rather empty and quiet fl...\n",
       "4  ✅ Trip Verified |  Easy check in and staff mem..."
      ]
     },
     "execution_count": 173,
     "metadata": {},
     "output_type": "execute_result"
    }
   ],
   "source": [
    "data1.head()"
   ]
  },
  {
   "cell_type": "code",
   "execution_count": 174,
   "id": "c472b5d4",
   "metadata": {
    "scrolled": true
   },
   "outputs": [
    {
     "name": "stdout",
     "output_type": "stream",
     "text": [
      "Requirement already satisfied: textblob in c:\\users\\user\\anaconda3\\lib\\site-packages (0.17.1)\n",
      "Requirement already satisfied: nltk>=3.1 in c:\\users\\user\\anaconda3\\lib\\site-packages (from textblob) (3.7)\n",
      "Requirement already satisfied: click in c:\\users\\user\\anaconda3\\lib\\site-packages (from nltk>=3.1->textblob) (8.0.4)\n",
      "Requirement already satisfied: regex>=2021.8.3 in c:\\users\\user\\anaconda3\\lib\\site-packages (from nltk>=3.1->textblob) (2022.7.9)\n",
      "Requirement already satisfied: joblib in c:\\users\\user\\anaconda3\\lib\\site-packages (from nltk>=3.1->textblob) (1.1.0)\n",
      "Requirement already satisfied: tqdm in c:\\users\\user\\anaconda3\\lib\\site-packages (from nltk>=3.1->textblob) (4.64.1)\n",
      "Requirement already satisfied: colorama in c:\\users\\user\\anaconda3\\lib\\site-packages (from click->nltk>=3.1->textblob) (0.4.5)\n"
     ]
    }
   ],
   "source": [
    "!pip install textblob"
   ]
  },
  {
   "cell_type": "code",
   "execution_count": 175,
   "id": "babdf4d2",
   "metadata": {},
   "outputs": [],
   "source": [
    "from textblob import TextBlob"
   ]
  },
  {
   "cell_type": "code",
   "execution_count": 177,
   "id": "53d9e5d1",
   "metadata": {},
   "outputs": [],
   "source": [
    "data2 = data_ba.copy()"
   ]
  },
  {
   "cell_type": "code",
   "execution_count": 178,
   "id": "04e9125e",
   "metadata": {},
   "outputs": [
    {
     "data": {
      "text/html": [
       "<div>\n",
       "<style scoped>\n",
       "    .dataframe tbody tr th:only-of-type {\n",
       "        vertical-align: middle;\n",
       "    }\n",
       "\n",
       "    .dataframe tbody tr th {\n",
       "        vertical-align: top;\n",
       "    }\n",
       "\n",
       "    .dataframe thead th {\n",
       "        text-align: right;\n",
       "    }\n",
       "</style>\n",
       "<table border=\"1\" class=\"dataframe\">\n",
       "  <thead>\n",
       "    <tr style=\"text-align: right;\">\n",
       "      <th></th>\n",
       "      <th>reviews</th>\n",
       "    </tr>\n",
       "  </thead>\n",
       "  <tbody>\n",
       "    <tr>\n",
       "      <th>0</th>\n",
       "      <td>✅ Trip Verified |  This flight was one of the ...</td>\n",
       "    </tr>\n",
       "    <tr>\n",
       "      <th>1</th>\n",
       "      <td>Not Verified | It seems that there is a race t...</td>\n",
       "    </tr>\n",
       "    <tr>\n",
       "      <th>2</th>\n",
       "      <td>Not Verified |  As a Spanish born individual l...</td>\n",
       "    </tr>\n",
       "    <tr>\n",
       "      <th>3</th>\n",
       "      <td>✅ Trip Verified |  A rather empty and quiet fl...</td>\n",
       "    </tr>\n",
       "    <tr>\n",
       "      <th>4</th>\n",
       "      <td>✅ Trip Verified |  Easy check in and staff mem...</td>\n",
       "    </tr>\n",
       "  </tbody>\n",
       "</table>\n",
       "</div>"
      ],
      "text/plain": [
       "                                             reviews\n",
       "0  ✅ Trip Verified |  This flight was one of the ...\n",
       "1  Not Verified | It seems that there is a race t...\n",
       "2  Not Verified |  As a Spanish born individual l...\n",
       "3  ✅ Trip Verified |  A rather empty and quiet fl...\n",
       "4  ✅ Trip Verified |  Easy check in and staff mem..."
      ]
     },
     "execution_count": 178,
     "metadata": {},
     "output_type": "execute_result"
    }
   ],
   "source": [
    "data2.head()"
   ]
  },
  {
   "cell_type": "code",
   "execution_count": 179,
   "id": "ecd67ce9",
   "metadata": {},
   "outputs": [
    {
     "data": {
      "text/plain": [
       "'Not Verified | It seems that there is a race to the bottom amongst airlines. I cannot even check in because BA requires the submission of documents for Covid restrictions. However the form to start the submission process is hopelessly broken. After clicking \"submit\" the form just hangs forever. No error message is given. I tried three different browsers on three different devices. All have the same hang. Which means you cannot check in online nor can you select a seat. I tried using the chat bot, but after 30 minutes of clicking \"try again\" I thought I had donated enough time to BA. '"
      ]
     },
     "execution_count": 179,
     "metadata": {},
     "output_type": "execute_result"
    }
   ],
   "source": [
    "data2['reviews'][1]"
   ]
  },
  {
   "cell_type": "code",
   "execution_count": 180,
   "id": "0920968b",
   "metadata": {},
   "outputs": [],
   "source": [
    "data2['verified'] = data2['reviews'].apply(lambda x: str(x.split('|')[0]))"
   ]
  },
  {
   "cell_type": "code",
   "execution_count": 181,
   "id": "7e773f5e",
   "metadata": {},
   "outputs": [
    {
     "data": {
      "text/html": [
       "<div>\n",
       "<style scoped>\n",
       "    .dataframe tbody tr th:only-of-type {\n",
       "        vertical-align: middle;\n",
       "    }\n",
       "\n",
       "    .dataframe tbody tr th {\n",
       "        vertical-align: top;\n",
       "    }\n",
       "\n",
       "    .dataframe thead th {\n",
       "        text-align: right;\n",
       "    }\n",
       "</style>\n",
       "<table border=\"1\" class=\"dataframe\">\n",
       "  <thead>\n",
       "    <tr style=\"text-align: right;\">\n",
       "      <th></th>\n",
       "      <th>reviews</th>\n",
       "      <th>verified</th>\n",
       "    </tr>\n",
       "  </thead>\n",
       "  <tbody>\n",
       "    <tr>\n",
       "      <th>0</th>\n",
       "      <td>✅ Trip Verified |  This flight was one of the ...</td>\n",
       "      <td>✅ Trip Verified</td>\n",
       "    </tr>\n",
       "    <tr>\n",
       "      <th>1</th>\n",
       "      <td>Not Verified | It seems that there is a race t...</td>\n",
       "      <td>Not Verified</td>\n",
       "    </tr>\n",
       "    <tr>\n",
       "      <th>2</th>\n",
       "      <td>Not Verified |  As a Spanish born individual l...</td>\n",
       "      <td>Not Verified</td>\n",
       "    </tr>\n",
       "    <tr>\n",
       "      <th>3</th>\n",
       "      <td>✅ Trip Verified |  A rather empty and quiet fl...</td>\n",
       "      <td>✅ Trip Verified</td>\n",
       "    </tr>\n",
       "    <tr>\n",
       "      <th>4</th>\n",
       "      <td>✅ Trip Verified |  Easy check in and staff mem...</td>\n",
       "      <td>✅ Trip Verified</td>\n",
       "    </tr>\n",
       "  </tbody>\n",
       "</table>\n",
       "</div>"
      ],
      "text/plain": [
       "                                             reviews          verified\n",
       "0  ✅ Trip Verified |  This flight was one of the ...  ✅ Trip Verified \n",
       "1  Not Verified | It seems that there is a race t...     Not Verified \n",
       "2  Not Verified |  As a Spanish born individual l...     Not Verified \n",
       "3  ✅ Trip Verified |  A rather empty and quiet fl...  ✅ Trip Verified \n",
       "4  ✅ Trip Verified |  Easy check in and staff mem...  ✅ Trip Verified "
      ]
     },
     "execution_count": 181,
     "metadata": {},
     "output_type": "execute_result"
    }
   ],
   "source": [
    "data2.head()"
   ]
  },
  {
   "cell_type": "code",
   "execution_count": 182,
   "id": "04f97cfb",
   "metadata": {},
   "outputs": [],
   "source": [
    "data2['reviews'] = data2['reviews'].str.replace('Not Verified', '')"
   ]
  },
  {
   "cell_type": "code",
   "execution_count": 183,
   "id": "2ca5a3c4",
   "metadata": {},
   "outputs": [],
   "source": [
    "data2['reviews'] = data2['reviews'].str.replace('Trip Verified', '')"
   ]
  },
  {
   "cell_type": "code",
   "execution_count": 184,
   "id": "4ebc63de",
   "metadata": {
    "scrolled": true
   },
   "outputs": [
    {
     "data": {
      "text/html": [
       "<div>\n",
       "<style scoped>\n",
       "    .dataframe tbody tr th:only-of-type {\n",
       "        vertical-align: middle;\n",
       "    }\n",
       "\n",
       "    .dataframe tbody tr th {\n",
       "        vertical-align: top;\n",
       "    }\n",
       "\n",
       "    .dataframe thead th {\n",
       "        text-align: right;\n",
       "    }\n",
       "</style>\n",
       "<table border=\"1\" class=\"dataframe\">\n",
       "  <thead>\n",
       "    <tr style=\"text-align: right;\">\n",
       "      <th></th>\n",
       "      <th>reviews</th>\n",
       "      <th>verified</th>\n",
       "    </tr>\n",
       "  </thead>\n",
       "  <tbody>\n",
       "    <tr>\n",
       "      <th>0</th>\n",
       "      <td>✅  |  This flight was one of the worst I have ...</td>\n",
       "      <td>✅ Trip Verified</td>\n",
       "    </tr>\n",
       "    <tr>\n",
       "      <th>1</th>\n",
       "      <td>| It seems that there is a race to the bottom...</td>\n",
       "      <td>Not Verified</td>\n",
       "    </tr>\n",
       "    <tr>\n",
       "      <th>2</th>\n",
       "      <td>|  As a Spanish born individual living in Eng...</td>\n",
       "      <td>Not Verified</td>\n",
       "    </tr>\n",
       "    <tr>\n",
       "      <th>3</th>\n",
       "      <td>✅  |  A rather empty and quiet flight to Tel A...</td>\n",
       "      <td>✅ Trip Verified</td>\n",
       "    </tr>\n",
       "    <tr>\n",
       "      <th>4</th>\n",
       "      <td>✅  |  Easy check in and staff member was polit...</td>\n",
       "      <td>✅ Trip Verified</td>\n",
       "    </tr>\n",
       "    <tr>\n",
       "      <th>5</th>\n",
       "      <td>✅  |  Being a silver flyer and booking a fligh...</td>\n",
       "      <td>✅ Trip Verified</td>\n",
       "    </tr>\n",
       "    <tr>\n",
       "      <th>6</th>\n",
       "      <td>|  I find BA incredibly tacky and constantly ...</td>\n",
       "      <td>Not Verified</td>\n",
       "    </tr>\n",
       "    <tr>\n",
       "      <th>7</th>\n",
       "      <td>✅  |  Flew ATL to LHR 8th Jan 2023. Was unluck...</td>\n",
       "      <td>✅ Trip Verified</td>\n",
       "    </tr>\n",
       "    <tr>\n",
       "      <th>8</th>\n",
       "      <td>|  Great thing about British Airways A380 is ...</td>\n",
       "      <td>Not Verified</td>\n",
       "    </tr>\n",
       "    <tr>\n",
       "      <th>9</th>\n",
       "      <td>| The staff are friendly. The plane was cold,...</td>\n",
       "      <td>Not Verified</td>\n",
       "    </tr>\n",
       "    <tr>\n",
       "      <th>10</th>\n",
       "      <td>✅  | Probably the worst business class experie...</td>\n",
       "      <td>✅ Trip Verified</td>\n",
       "    </tr>\n",
       "    <tr>\n",
       "      <th>11</th>\n",
       "      <td>✅  | Definitely not recommended, especially fo...</td>\n",
       "      <td>✅ Trip Verified</td>\n",
       "    </tr>\n",
       "    <tr>\n",
       "      <th>12</th>\n",
       "      <td>✅  |  BA shuttle service across the UK is stil...</td>\n",
       "      <td>✅ Trip Verified</td>\n",
       "    </tr>\n",
       "    <tr>\n",
       "      <th>13</th>\n",
       "      <td>✅  | I must admit like many others I tend to a...</td>\n",
       "      <td>✅ Trip Verified</td>\n",
       "    </tr>\n",
       "    <tr>\n",
       "      <th>14</th>\n",
       "      <td>|  When will BA update their Business class c...</td>\n",
       "      <td>Not Verified</td>\n",
       "    </tr>\n",
       "    <tr>\n",
       "      <th>15</th>\n",
       "      <td>✅  |  Paid £200 day before flight for an upgra...</td>\n",
       "      <td>✅ Trip Verified</td>\n",
       "    </tr>\n",
       "    <tr>\n",
       "      <th>16</th>\n",
       "      <td>✅  |  BA website did not work (weirdly deleted...</td>\n",
       "      <td>✅ Trip Verified</td>\n",
       "    </tr>\n",
       "    <tr>\n",
       "      <th>17</th>\n",
       "      <td>✅  |  Absolutely terrible experience with Brit...</td>\n",
       "      <td>✅ Trip Verified</td>\n",
       "    </tr>\n",
       "    <tr>\n",
       "      <th>18</th>\n",
       "      <td>✅  |  Vancouver to Delhi via London. We were b...</td>\n",
       "      <td>✅ Trip Verified</td>\n",
       "    </tr>\n",
       "    <tr>\n",
       "      <th>19</th>\n",
       "      <td>✅  |  Old A320 with narrow pitch. Flight perfe...</td>\n",
       "      <td>✅ Trip Verified</td>\n",
       "    </tr>\n",
       "  </tbody>\n",
       "</table>\n",
       "</div>"
      ],
      "text/plain": [
       "                                              reviews          verified\n",
       "0   ✅  |  This flight was one of the worst I have ...  ✅ Trip Verified \n",
       "1    | It seems that there is a race to the bottom...     Not Verified \n",
       "2    |  As a Spanish born individual living in Eng...     Not Verified \n",
       "3   ✅  |  A rather empty and quiet flight to Tel A...  ✅ Trip Verified \n",
       "4   ✅  |  Easy check in and staff member was polit...  ✅ Trip Verified \n",
       "5   ✅  |  Being a silver flyer and booking a fligh...  ✅ Trip Verified \n",
       "6    |  I find BA incredibly tacky and constantly ...     Not Verified \n",
       "7   ✅  |  Flew ATL to LHR 8th Jan 2023. Was unluck...  ✅ Trip Verified \n",
       "8    |  Great thing about British Airways A380 is ...     Not Verified \n",
       "9    | The staff are friendly. The plane was cold,...     Not Verified \n",
       "10  ✅  | Probably the worst business class experie...  ✅ Trip Verified \n",
       "11  ✅  | Definitely not recommended, especially fo...  ✅ Trip Verified \n",
       "12  ✅  |  BA shuttle service across the UK is stil...  ✅ Trip Verified \n",
       "13  ✅  | I must admit like many others I tend to a...  ✅ Trip Verified \n",
       "14   |  When will BA update their Business class c...     Not Verified \n",
       "15  ✅  |  Paid £200 day before flight for an upgra...  ✅ Trip Verified \n",
       "16  ✅  |  BA website did not work (weirdly deleted...  ✅ Trip Verified \n",
       "17  ✅  |  Absolutely terrible experience with Brit...  ✅ Trip Verified \n",
       "18  ✅  |  Vancouver to Delhi via London. We were b...  ✅ Trip Verified \n",
       "19  ✅  |  Old A320 with narrow pitch. Flight perfe...  ✅ Trip Verified "
      ]
     },
     "execution_count": 184,
     "metadata": {},
     "output_type": "execute_result"
    }
   ],
   "source": [
    "data2.head(20)"
   ]
  },
  {
   "cell_type": "code",
   "execution_count": 185,
   "id": "ecc64377",
   "metadata": {},
   "outputs": [],
   "source": [
    "#import regular expression\n",
    "import re"
   ]
  },
  {
   "cell_type": "code",
   "execution_count": 187,
   "id": "25701ca8",
   "metadata": {},
   "outputs": [],
   "source": [
    "#delete emoji in reviews columns\n",
    "data2['reviews'] = data2['reviews'].apply(lambda x: re.sub(r'[^\\x00-\\x7F]+','', x))"
   ]
  },
  {
   "cell_type": "code",
   "execution_count": 188,
   "id": "9545b43e",
   "metadata": {},
   "outputs": [],
   "source": [
    "#delete emoji in verified columns\n",
    "data2['verified'] = data2['verified'].apply(lambda x: re.sub(r'[^\\x00-\\x7F]+','', x))"
   ]
  },
  {
   "cell_type": "code",
   "execution_count": 189,
   "id": "053108e9",
   "metadata": {},
   "outputs": [
    {
     "data": {
      "text/html": [
       "<div>\n",
       "<style scoped>\n",
       "    .dataframe tbody tr th:only-of-type {\n",
       "        vertical-align: middle;\n",
       "    }\n",
       "\n",
       "    .dataframe tbody tr th {\n",
       "        vertical-align: top;\n",
       "    }\n",
       "\n",
       "    .dataframe thead th {\n",
       "        text-align: right;\n",
       "    }\n",
       "</style>\n",
       "<table border=\"1\" class=\"dataframe\">\n",
       "  <thead>\n",
       "    <tr style=\"text-align: right;\">\n",
       "      <th></th>\n",
       "      <th>reviews</th>\n",
       "      <th>verified</th>\n",
       "    </tr>\n",
       "  </thead>\n",
       "  <tbody>\n",
       "    <tr>\n",
       "      <th>0</th>\n",
       "      <td>|  This flight was one of the worst I have e...</td>\n",
       "      <td>Trip Verified</td>\n",
       "    </tr>\n",
       "    <tr>\n",
       "      <th>1</th>\n",
       "      <td>| It seems that there is a race to the bottom...</td>\n",
       "      <td>Not Verified</td>\n",
       "    </tr>\n",
       "    <tr>\n",
       "      <th>2</th>\n",
       "      <td>|  As a Spanish born individual living in Eng...</td>\n",
       "      <td>Not Verified</td>\n",
       "    </tr>\n",
       "    <tr>\n",
       "      <th>3</th>\n",
       "      <td>|  A rather empty and quiet flight to Tel Av...</td>\n",
       "      <td>Trip Verified</td>\n",
       "    </tr>\n",
       "    <tr>\n",
       "      <th>4</th>\n",
       "      <td>|  Easy check in and staff member was polite...</td>\n",
       "      <td>Trip Verified</td>\n",
       "    </tr>\n",
       "  </tbody>\n",
       "</table>\n",
       "</div>"
      ],
      "text/plain": [
       "                                             reviews         verified\n",
       "0    |  This flight was one of the worst I have e...   Trip Verified \n",
       "1   | It seems that there is a race to the bottom...    Not Verified \n",
       "2   |  As a Spanish born individual living in Eng...    Not Verified \n",
       "3    |  A rather empty and quiet flight to Tel Av...   Trip Verified \n",
       "4    |  Easy check in and staff member was polite...   Trip Verified "
      ]
     },
     "execution_count": 189,
     "metadata": {},
     "output_type": "execute_result"
    }
   ],
   "source": [
    "data2.head()"
   ]
  },
  {
   "cell_type": "code",
   "execution_count": 190,
   "id": "0b850800",
   "metadata": {},
   "outputs": [
    {
     "name": "stderr",
     "output_type": "stream",
     "text": [
      "C:\\Users\\user\\AppData\\Local\\Temp\\ipykernel_16304\\581334364.py:2: FutureWarning: The default value of regex will change from True to False in a future version.\n",
      "  data2['reviews'] = data2['reviews'].str.replace(\"[|,:;']\",\"\")\n"
     ]
    }
   ],
   "source": [
    "#delete '|' with regex\n",
    "data2['reviews'] = data2['reviews'].str.replace(\"[|,:;']\",\"\")"
   ]
  },
  {
   "cell_type": "code",
   "execution_count": 191,
   "id": "02877ae5",
   "metadata": {},
   "outputs": [
    {
     "data": {
      "text/html": [
       "<div>\n",
       "<style scoped>\n",
       "    .dataframe tbody tr th:only-of-type {\n",
       "        vertical-align: middle;\n",
       "    }\n",
       "\n",
       "    .dataframe tbody tr th {\n",
       "        vertical-align: top;\n",
       "    }\n",
       "\n",
       "    .dataframe thead th {\n",
       "        text-align: right;\n",
       "    }\n",
       "</style>\n",
       "<table border=\"1\" class=\"dataframe\">\n",
       "  <thead>\n",
       "    <tr style=\"text-align: right;\">\n",
       "      <th></th>\n",
       "      <th>reviews</th>\n",
       "      <th>verified</th>\n",
       "    </tr>\n",
       "  </thead>\n",
       "  <tbody>\n",
       "    <tr>\n",
       "      <th>0</th>\n",
       "      <td>This flight was one of the worst I have ev...</td>\n",
       "      <td>Trip Verified</td>\n",
       "    </tr>\n",
       "    <tr>\n",
       "      <th>1</th>\n",
       "      <td>It seems that there is a race to the bottom ...</td>\n",
       "      <td>Not Verified</td>\n",
       "    </tr>\n",
       "    <tr>\n",
       "      <th>2</th>\n",
       "      <td>As a Spanish born individual living in Engl...</td>\n",
       "      <td>Not Verified</td>\n",
       "    </tr>\n",
       "    <tr>\n",
       "      <th>3</th>\n",
       "      <td>A rather empty and quiet flight to Tel Avi...</td>\n",
       "      <td>Trip Verified</td>\n",
       "    </tr>\n",
       "    <tr>\n",
       "      <th>4</th>\n",
       "      <td>Easy check in and staff member was polite ...</td>\n",
       "      <td>Trip Verified</td>\n",
       "    </tr>\n",
       "  </tbody>\n",
       "</table>\n",
       "</div>"
      ],
      "text/plain": [
       "                                             reviews         verified\n",
       "0      This flight was one of the worst I have ev...   Trip Verified \n",
       "1    It seems that there is a race to the bottom ...    Not Verified \n",
       "2     As a Spanish born individual living in Engl...    Not Verified \n",
       "3      A rather empty and quiet flight to Tel Avi...   Trip Verified \n",
       "4      Easy check in and staff member was polite ...   Trip Verified "
      ]
     },
     "execution_count": 191,
     "metadata": {},
     "output_type": "execute_result"
    }
   ],
   "source": [
    "data2.head()"
   ]
  },
  {
   "cell_type": "code",
   "execution_count": 192,
   "id": "7bb8d600",
   "metadata": {},
   "outputs": [],
   "source": [
    "#delete coloumns verified\n",
    "data2.drop(data2.columns[1], axis=1, inplace=True)"
   ]
  },
  {
   "cell_type": "code",
   "execution_count": 193,
   "id": "4856352a",
   "metadata": {},
   "outputs": [
    {
     "data": {
      "text/html": [
       "<div>\n",
       "<style scoped>\n",
       "    .dataframe tbody tr th:only-of-type {\n",
       "        vertical-align: middle;\n",
       "    }\n",
       "\n",
       "    .dataframe tbody tr th {\n",
       "        vertical-align: top;\n",
       "    }\n",
       "\n",
       "    .dataframe thead th {\n",
       "        text-align: right;\n",
       "    }\n",
       "</style>\n",
       "<table border=\"1\" class=\"dataframe\">\n",
       "  <thead>\n",
       "    <tr style=\"text-align: right;\">\n",
       "      <th></th>\n",
       "      <th>reviews</th>\n",
       "    </tr>\n",
       "  </thead>\n",
       "  <tbody>\n",
       "    <tr>\n",
       "      <th>0</th>\n",
       "      <td>This flight was one of the worst I have ev...</td>\n",
       "    </tr>\n",
       "    <tr>\n",
       "      <th>1</th>\n",
       "      <td>It seems that there is a race to the bottom ...</td>\n",
       "    </tr>\n",
       "    <tr>\n",
       "      <th>2</th>\n",
       "      <td>As a Spanish born individual living in Engl...</td>\n",
       "    </tr>\n",
       "    <tr>\n",
       "      <th>3</th>\n",
       "      <td>A rather empty and quiet flight to Tel Avi...</td>\n",
       "    </tr>\n",
       "    <tr>\n",
       "      <th>4</th>\n",
       "      <td>Easy check in and staff member was polite ...</td>\n",
       "    </tr>\n",
       "  </tbody>\n",
       "</table>\n",
       "</div>"
      ],
      "text/plain": [
       "                                             reviews\n",
       "0      This flight was one of the worst I have ev...\n",
       "1    It seems that there is a race to the bottom ...\n",
       "2     As a Spanish born individual living in Engl...\n",
       "3      A rather empty and quiet flight to Tel Avi...\n",
       "4      Easy check in and staff member was polite ..."
      ]
     },
     "execution_count": 193,
     "metadata": {},
     "output_type": "execute_result"
    }
   ],
   "source": [
    "data2.head()"
   ]
  },
  {
   "cell_type": "code",
   "execution_count": 194,
   "id": "682d84bc",
   "metadata": {},
   "outputs": [
    {
     "data": {
      "text/plain": [
       "0"
      ]
     },
     "execution_count": 194,
     "metadata": {},
     "output_type": "execute_result"
    }
   ],
   "source": [
    "data2['reviews'].isna().sum()"
   ]
  },
  {
   "cell_type": "code",
   "execution_count": 195,
   "id": "a05e1910",
   "metadata": {},
   "outputs": [],
   "source": [
    "#create column sentiment and apply textblob\n",
    "data2['sentiment'] = data2['reviews'].apply(lambda x: TextBlob(x).sentiment[0])"
   ]
  },
  {
   "cell_type": "code",
   "execution_count": 196,
   "id": "75b82785",
   "metadata": {
    "scrolled": true
   },
   "outputs": [
    {
     "data": {
      "text/html": [
       "<div>\n",
       "<style scoped>\n",
       "    .dataframe tbody tr th:only-of-type {\n",
       "        vertical-align: middle;\n",
       "    }\n",
       "\n",
       "    .dataframe tbody tr th {\n",
       "        vertical-align: top;\n",
       "    }\n",
       "\n",
       "    .dataframe thead th {\n",
       "        text-align: right;\n",
       "    }\n",
       "</style>\n",
       "<table border=\"1\" class=\"dataframe\">\n",
       "  <thead>\n",
       "    <tr style=\"text-align: right;\">\n",
       "      <th></th>\n",
       "      <th>reviews</th>\n",
       "      <th>sentiment</th>\n",
       "    </tr>\n",
       "  </thead>\n",
       "  <tbody>\n",
       "    <tr>\n",
       "      <th>0</th>\n",
       "      <td>This flight was one of the worst I have ev...</td>\n",
       "      <td>-0.096390</td>\n",
       "    </tr>\n",
       "    <tr>\n",
       "      <th>1</th>\n",
       "      <td>It seems that there is a race to the bottom ...</td>\n",
       "      <td>-0.080000</td>\n",
       "    </tr>\n",
       "    <tr>\n",
       "      <th>2</th>\n",
       "      <td>As a Spanish born individual living in Engl...</td>\n",
       "      <td>0.061335</td>\n",
       "    </tr>\n",
       "    <tr>\n",
       "      <th>3</th>\n",
       "      <td>A rather empty and quiet flight to Tel Avi...</td>\n",
       "      <td>0.131448</td>\n",
       "    </tr>\n",
       "    <tr>\n",
       "      <th>4</th>\n",
       "      <td>Easy check in and staff member was polite ...</td>\n",
       "      <td>0.353283</td>\n",
       "    </tr>\n",
       "  </tbody>\n",
       "</table>\n",
       "</div>"
      ],
      "text/plain": [
       "                                             reviews  sentiment\n",
       "0      This flight was one of the worst I have ev...  -0.096390\n",
       "1    It seems that there is a race to the bottom ...  -0.080000\n",
       "2     As a Spanish born individual living in Engl...   0.061335\n",
       "3      A rather empty and quiet flight to Tel Avi...   0.131448\n",
       "4      Easy check in and staff member was polite ...   0.353283"
      ]
     },
     "execution_count": 196,
     "metadata": {},
     "output_type": "execute_result"
    }
   ],
   "source": [
    "data2.head()"
   ]
  },
  {
   "cell_type": "code",
   "execution_count": 197,
   "id": "d2cc4643",
   "metadata": {},
   "outputs": [
    {
     "name": "stderr",
     "output_type": "stream",
     "text": [
      "[nltk_data] Downloading package punkt to\n",
      "[nltk_data]     C:\\Users\\user\\AppData\\Roaming\\nltk_data...\n",
      "[nltk_data]   Package punkt is already up-to-date!\n",
      "[nltk_data] Downloading package brown to\n",
      "[nltk_data]     C:\\Users\\user\\AppData\\Roaming\\nltk_data...\n",
      "[nltk_data]   Package brown is already up-to-date!\n"
     ]
    },
    {
     "data": {
      "text/plain": [
       "True"
      ]
     },
     "execution_count": 197,
     "metadata": {},
     "output_type": "execute_result"
    }
   ],
   "source": [
    "#import nltk\n",
    "import nltk\n",
    "nltk.download('punkt')\n",
    "nltk.download('brown')"
   ]
  },
  {
   "cell_type": "code",
   "execution_count": 198,
   "id": "cc1ac6d7",
   "metadata": {},
   "outputs": [],
   "source": [
    "#create column noun_prase \n",
    "data2['noun_phrases'] = data2['reviews'].apply(lambda x: TextBlob(x).noun_phrases)"
   ]
  },
  {
   "cell_type": "code",
   "execution_count": 199,
   "id": "32b4f388",
   "metadata": {},
   "outputs": [
    {
     "data": {
      "text/html": [
       "<div>\n",
       "<style scoped>\n",
       "    .dataframe tbody tr th:only-of-type {\n",
       "        vertical-align: middle;\n",
       "    }\n",
       "\n",
       "    .dataframe tbody tr th {\n",
       "        vertical-align: top;\n",
       "    }\n",
       "\n",
       "    .dataframe thead th {\n",
       "        text-align: right;\n",
       "    }\n",
       "</style>\n",
       "<table border=\"1\" class=\"dataframe\">\n",
       "  <thead>\n",
       "    <tr style=\"text-align: right;\">\n",
       "      <th></th>\n",
       "      <th>reviews</th>\n",
       "      <th>sentiment</th>\n",
       "      <th>noun_phrases</th>\n",
       "    </tr>\n",
       "  </thead>\n",
       "  <tbody>\n",
       "    <tr>\n",
       "      <th>0</th>\n",
       "      <td>This flight was one of the worst I have ev...</td>\n",
       "      <td>-0.096390</td>\n",
       "      <td>[business class, new experience, firstly, cros...</td>\n",
       "    </tr>\n",
       "    <tr>\n",
       "      <th>1</th>\n",
       "      <td>It seems that there is a race to the bottom ...</td>\n",
       "      <td>-0.080000</td>\n",
       "      <td>[bottom amongst airlines, ba, covid, submissio...</td>\n",
       "    </tr>\n",
       "    <tr>\n",
       "      <th>2</th>\n",
       "      <td>As a Spanish born individual living in Engl...</td>\n",
       "      <td>0.061335</td>\n",
       "      <td>[england, airways, multiple times, january, al...</td>\n",
       "    </tr>\n",
       "    <tr>\n",
       "      <th>3</th>\n",
       "      <td>A rather empty and quiet flight to Tel Avi...</td>\n",
       "      <td>0.131448</td>\n",
       "      <td>[quiet flight, tel aviv, friendly cabin crew, ...</td>\n",
       "    </tr>\n",
       "    <tr>\n",
       "      <th>4</th>\n",
       "      <td>Easy check in and staff member was polite ...</td>\n",
       "      <td>0.353283</td>\n",
       "      <td>[easy, staff member, specific point, ba, londo...</td>\n",
       "    </tr>\n",
       "  </tbody>\n",
       "</table>\n",
       "</div>"
      ],
      "text/plain": [
       "                                             reviews  sentiment  \\\n",
       "0      This flight was one of the worst I have ev...  -0.096390   \n",
       "1    It seems that there is a race to the bottom ...  -0.080000   \n",
       "2     As a Spanish born individual living in Engl...   0.061335   \n",
       "3      A rather empty and quiet flight to Tel Avi...   0.131448   \n",
       "4      Easy check in and staff member was polite ...   0.353283   \n",
       "\n",
       "                                        noun_phrases  \n",
       "0  [business class, new experience, firstly, cros...  \n",
       "1  [bottom amongst airlines, ba, covid, submissio...  \n",
       "2  [england, airways, multiple times, january, al...  \n",
       "3  [quiet flight, tel aviv, friendly cabin crew, ...  \n",
       "4  [easy, staff member, specific point, ba, londo...  "
      ]
     },
     "execution_count": 199,
     "metadata": {},
     "output_type": "execute_result"
    }
   ],
   "source": [
    "data2.head()"
   ]
  },
  {
   "cell_type": "code",
   "execution_count": 200,
   "id": "749877e0",
   "metadata": {},
   "outputs": [
    {
     "name": "stdout",
     "output_type": "stream",
     "text": [
      "<class 'pandas.core.frame.DataFrame'>\n",
      "Int64Index: 1000 entries, 0 to 999\n",
      "Data columns (total 3 columns):\n",
      " #   Column        Non-Null Count  Dtype  \n",
      "---  ------        --------------  -----  \n",
      " 0   reviews       1000 non-null   object \n",
      " 1   sentiment     1000 non-null   float64\n",
      " 2   noun_phrases  1000 non-null   object \n",
      "dtypes: float64(1), object(2)\n",
      "memory usage: 63.5+ KB\n"
     ]
    }
   ],
   "source": [
    "data2.info()"
   ]
  },
  {
   "cell_type": "markdown",
   "id": "d818f3f0",
   "metadata": {},
   "source": [
    "right now the dataframe have 3 columns"
   ]
  },
  {
   "cell_type": "code",
   "execution_count": 201,
   "id": "630f8e1f",
   "metadata": {
    "scrolled": true
   },
   "outputs": [
    {
     "data": {
      "text/plain": [
       "<AxesSubplot:>"
      ]
     },
     "execution_count": 201,
     "metadata": {},
     "output_type": "execute_result"
    },
    {
     "data": {
      "image/png": "[encoded data removed]",
      "text/plain": [
       "<Figure size 640x480 with 1 Axes>"
      ]
     },
     "metadata": {},
     "output_type": "display_data"
    }
   ],
   "source": [
    "#sentiment plot\n",
    "data2['sentiment'].plot()"
   ]
  },
  {
   "cell_type": "code",
   "execution_count": 204,
   "id": "9f88ce20",
   "metadata": {
    "scrolled": true
   },
   "outputs": [
    {
     "name": "stderr",
     "output_type": "stream",
     "text": [
      "[nltk_data] Downloading package stopwords to\n",
      "[nltk_data]     C:\\Users\\user\\AppData\\Roaming\\nltk_data...\n",
      "[nltk_data]   Unzipping corpora\\stopwords.zip.\n"
     ]
    },
    {
     "data": {
      "text/plain": [
       "True"
      ]
     },
     "execution_count": 204,
     "metadata": {},
     "output_type": "execute_result"
    }
   ],
   "source": [
    "from nltk.corpus import stopwords\n",
    "from nltk.tokenize import word_tokenize\n",
    "nltk.download('stopwords')"
   ]
  },
  {
   "cell_type": "code",
   "execution_count": 208,
   "id": "6586f54b",
   "metadata": {},
   "outputs": [
    {
     "data": {
      "text/plain": [
       "[business class, new experience, firstly, cross check, meantime, small bag, business class passenger, business class, small glasses, cheap service, expensive price]                                     1\n",
       "[seattle, upper deck, nice perk, seattle, europe, ba, europe, seattle, overall, staff, upper, deck crew, bare minimum, additional service, top ups, offering water, ba, wont use, foreseeable future]    1\n",
       "[shanghai, disappointing business class, long time, previous flight, drinks service, id, gold card holder, ba, frequent fliers, ill, world group, long haul trips, cathay jal, finnair, ive, ba]         1\n",
       "[customer service, lost, london, barcelona, day cruise, $ $ $, husbands 60th birthday, 5th wedding anniversary, seattle, airways, customer service agent, heathrow, truly, customer experience, ive]     1\n",
       "[zurich, around, crew member, happy birthday, champagne brandy, thanks]                                                                                                                                  1\n",
       "                                                                                                                                                                                                        ..\n",
       "[honeymoon flight, san diego, barcelona, september, additional cost, airways, im, global pandemic]                                                                                                       1\n",
       "[travel bane]                                                                                                                                                                                            1\n",
       "[tokyo, london, soft drinks, total waste, premium economy, covid19, total lack, airways]                                                                                                                 1\n",
       "[ba, february, london, london heathrow, london, mins floor, london, paris, original connexion]                                                                                                           1\n",
       "[ba, ticket price, istanbul, london, ba, hour flight, screen devices, oh, ba, flight time, free hot meals, modern entertainment system, pegasus, atlasglobal, similar service, ba, ba]                   1\n",
       "Name: noun_phrases, Length: 1000, dtype: int64"
      ]
     },
     "execution_count": 208,
     "metadata": {},
     "output_type": "execute_result"
    }
   ],
   "source": [
    "data2['noun_phrases'].value_counts()"
   ]
  },
  {
   "cell_type": "code",
   "execution_count": 210,
   "id": "5daa9ab3",
   "metadata": {},
   "outputs": [],
   "source": [
    "# Flatten the list of words\n",
    "data2['noun_phrases'] = data2['noun_phrases'].apply(lambda x: [word.lower() for word in x])\n",
    "data2['noun_phrases'] = data2['noun_phrases'].apply(lambda x: \" \".join(x))"
   ]
  },
  {
   "cell_type": "code",
   "execution_count": 211,
   "id": "453655b9",
   "metadata": {
    "scrolled": false
   },
   "outputs": [
    {
     "data": {
      "text/html": [
       "<div>\n",
       "<style scoped>\n",
       "    .dataframe tbody tr th:only-of-type {\n",
       "        vertical-align: middle;\n",
       "    }\n",
       "\n",
       "    .dataframe tbody tr th {\n",
       "        vertical-align: top;\n",
       "    }\n",
       "\n",
       "    .dataframe thead th {\n",
       "        text-align: right;\n",
       "    }\n",
       "</style>\n",
       "<table border=\"1\" class=\"dataframe\">\n",
       "  <thead>\n",
       "    <tr style=\"text-align: right;\">\n",
       "      <th></th>\n",
       "      <th>reviews</th>\n",
       "      <th>sentiment</th>\n",
       "      <th>noun_phrases</th>\n",
       "    </tr>\n",
       "  </thead>\n",
       "  <tbody>\n",
       "    <tr>\n",
       "      <th>0</th>\n",
       "      <td>[This, flight, was, one, of, the, worst, I, ha...</td>\n",
       "      <td>-0.096390</td>\n",
       "      <td>business class new experience firstly cross ch...</td>\n",
       "    </tr>\n",
       "    <tr>\n",
       "      <th>1</th>\n",
       "      <td>[It, seems, that, there, is, a, race, to, the,...</td>\n",
       "      <td>-0.080000</td>\n",
       "      <td>bottom amongst airlines ba covid submission pr...</td>\n",
       "    </tr>\n",
       "    <tr>\n",
       "      <th>2</th>\n",
       "      <td>[As, a, Spanish, born, individual, living, in,...</td>\n",
       "      <td>0.061335</td>\n",
       "      <td>england airways multiple times january alicant...</td>\n",
       "    </tr>\n",
       "    <tr>\n",
       "      <th>3</th>\n",
       "      <td>[A, rather, empty, and, quiet, flight, to, Tel...</td>\n",
       "      <td>0.131448</td>\n",
       "      <td>quiet flight tel aviv friendly cabin crew enti...</td>\n",
       "    </tr>\n",
       "    <tr>\n",
       "      <th>4</th>\n",
       "      <td>[Easy, check, in, and, staff, member, was, pol...</td>\n",
       "      <td>0.353283</td>\n",
       "      <td>easy staff member specific point ba london gal...</td>\n",
       "    </tr>\n",
       "  </tbody>\n",
       "</table>\n",
       "</div>"
      ],
      "text/plain": [
       "                                             reviews  sentiment  \\\n",
       "0  [This, flight, was, one, of, the, worst, I, ha...  -0.096390   \n",
       "1  [It, seems, that, there, is, a, race, to, the,...  -0.080000   \n",
       "2  [As, a, Spanish, born, individual, living, in,...   0.061335   \n",
       "3  [A, rather, empty, and, quiet, flight, to, Tel...   0.131448   \n",
       "4  [Easy, check, in, and, staff, member, was, pol...   0.353283   \n",
       "\n",
       "                                        noun_phrases  \n",
       "0  business class new experience firstly cross ch...  \n",
       "1  bottom amongst airlines ba covid submission pr...  \n",
       "2  england airways multiple times january alicant...  \n",
       "3  quiet flight tel aviv friendly cabin crew enti...  \n",
       "4  easy staff member specific point ba london gal...  "
      ]
     },
     "execution_count": 211,
     "metadata": {},
     "output_type": "execute_result"
    }
   ],
   "source": [
    "data2.head()"
   ]
  },
  {
   "cell_type": "code",
   "execution_count": 224,
   "id": "9203f2e1",
   "metadata": {
    "scrolled": true
   },
   "outputs": [
    {
     "name": "stdout",
     "output_type": "stream",
     "text": [
      "<class 'pandas.core.frame.DataFrame'>\n",
      "Int64Index: 1000 entries, 0 to 999\n",
      "Data columns (total 3 columns):\n",
      " #   Column        Non-Null Count  Dtype  \n",
      "---  ------        --------------  -----  \n",
      " 0   reviews       1000 non-null   object \n",
      " 1   sentiment     1000 non-null   float64\n",
      " 2   noun_phrases  1000 non-null   object \n",
      "dtypes: float64(1), object(2)\n",
      "memory usage: 63.5+ KB\n"
     ]
    }
   ],
   "source": [
    "data2.info()"
   ]
  },
  {
   "cell_type": "code",
   "execution_count": 241,
   "id": "dd8d3af6",
   "metadata": {},
   "outputs": [],
   "source": [
    "sentiment_positive = data2[data2['sentiment']>= 0.1]\n",
    "sentiment_netral = data2[data2['sentiment']== 0]\n",
    "sentiment_negative = data2[data2['sentiment']<=-0.1]"
   ]
  },
  {
   "cell_type": "code",
   "execution_count": 242,
   "id": "0ca39dd3",
   "metadata": {},
   "outputs": [
    {
     "data": {
      "text/html": [
       "<div>\n",
       "<style scoped>\n",
       "    .dataframe tbody tr th:only-of-type {\n",
       "        vertical-align: middle;\n",
       "    }\n",
       "\n",
       "    .dataframe tbody tr th {\n",
       "        vertical-align: top;\n",
       "    }\n",
       "\n",
       "    .dataframe thead th {\n",
       "        text-align: right;\n",
       "    }\n",
       "</style>\n",
       "<table border=\"1\" class=\"dataframe\">\n",
       "  <thead>\n",
       "    <tr style=\"text-align: right;\">\n",
       "      <th></th>\n",
       "      <th>reviews</th>\n",
       "      <th>sentiment</th>\n",
       "      <th>noun_phrases</th>\n",
       "    </tr>\n",
       "  </thead>\n",
       "  <tbody>\n",
       "    <tr>\n",
       "      <th>3</th>\n",
       "      <td>[A, rather, empty, and, quiet, flight, to, Tel...</td>\n",
       "      <td>0.131448</td>\n",
       "      <td>quiet flight tel aviv friendly cabin crew enti...</td>\n",
       "    </tr>\n",
       "    <tr>\n",
       "      <th>4</th>\n",
       "      <td>[Easy, check, in, and, staff, member, was, pol...</td>\n",
       "      <td>0.353283</td>\n",
       "      <td>easy staff member specific point ba london gal...</td>\n",
       "    </tr>\n",
       "    <tr>\n",
       "      <th>5</th>\n",
       "      <td>[Being, a, silver, flyer, and, booking, a, fli...</td>\n",
       "      <td>0.210714</td>\n",
       "      <td>silver flyer ba dublin ba lingus travelled gen...</td>\n",
       "    </tr>\n",
       "    <tr>\n",
       "      <th>6</th>\n",
       "      <td>[I, find, BA, incredibly, tacky, and, constant...</td>\n",
       "      <td>0.104487</td>\n",
       "      <td>ba major airlines whole life hour flight major...</td>\n",
       "    </tr>\n",
       "    <tr>\n",
       "      <th>12</th>\n",
       "      <td>[BA, shuttle, service, across, the, UK, is, st...</td>\n",
       "      <td>0.322222</td>\n",
       "      <td>ba shuttle service uk good product ba long hau...</td>\n",
       "    </tr>\n",
       "  </tbody>\n",
       "</table>\n",
       "</div>"
      ],
      "text/plain": [
       "                                              reviews  sentiment  \\\n",
       "3   [A, rather, empty, and, quiet, flight, to, Tel...   0.131448   \n",
       "4   [Easy, check, in, and, staff, member, was, pol...   0.353283   \n",
       "5   [Being, a, silver, flyer, and, booking, a, fli...   0.210714   \n",
       "6   [I, find, BA, incredibly, tacky, and, constant...   0.104487   \n",
       "12  [BA, shuttle, service, across, the, UK, is, st...   0.322222   \n",
       "\n",
       "                                         noun_phrases  \n",
       "3   quiet flight tel aviv friendly cabin crew enti...  \n",
       "4   easy staff member specific point ba london gal...  \n",
       "5   silver flyer ba dublin ba lingus travelled gen...  \n",
       "6   ba major airlines whole life hour flight major...  \n",
       "12  ba shuttle service uk good product ba long hau...  "
      ]
     },
     "execution_count": 242,
     "metadata": {},
     "output_type": "execute_result"
    }
   ],
   "source": [
    "sentiment_positive.head()"
   ]
  },
  {
   "cell_type": "code",
   "execution_count": 243,
   "id": "0ce74a4c",
   "metadata": {},
   "outputs": [
    {
     "data": {
      "text/html": [
       "<div>\n",
       "<style scoped>\n",
       "    .dataframe tbody tr th:only-of-type {\n",
       "        vertical-align: middle;\n",
       "    }\n",
       "\n",
       "    .dataframe tbody tr th {\n",
       "        vertical-align: top;\n",
       "    }\n",
       "\n",
       "    .dataframe thead th {\n",
       "        text-align: right;\n",
       "    }\n",
       "</style>\n",
       "<table border=\"1\" class=\"dataframe\">\n",
       "  <thead>\n",
       "    <tr style=\"text-align: right;\">\n",
       "      <th></th>\n",
       "      <th>reviews</th>\n",
       "      <th>sentiment</th>\n",
       "      <th>noun_phrases</th>\n",
       "    </tr>\n",
       "  </thead>\n",
       "  <tbody>\n",
       "    <tr>\n",
       "      <th>45</th>\n",
       "      <td>[Beyond, disgusted, with, the, fact, that, my,...</td>\n",
       "      <td>0.0</td>\n",
       "      <td>ba september ba generic non customer service w...</td>\n",
       "    </tr>\n",
       "    <tr>\n",
       "      <th>114</th>\n",
       "      <td>[The, flight, was, delayed, over, 6, hours, an...</td>\n",
       "      <td>0.0</td>\n",
       "      <td>connection flight different route airways</td>\n",
       "    </tr>\n",
       "    <tr>\n",
       "      <th>204</th>\n",
       "      <td>[For, once, more, BA, got, it, all, wrong, wit...</td>\n",
       "      <td>0.0</td>\n",
       "      <td>ba hours delay food voucher dispensable commodity</td>\n",
       "    </tr>\n",
       "    <tr>\n",
       "      <th>377</th>\n",
       "      <td>[Johannesburg, to, Dublin, via, London, ., I, ...</td>\n",
       "      <td>0.0</td>\n",
       "      <td>johannesburg dublin london transit visa suppor...</td>\n",
       "    </tr>\n",
       "    <tr>\n",
       "      <th>393</th>\n",
       "      <td>[I, purchased, roundtrip, tickets, for, my, wi...</td>\n",
       "      <td>0.0</td>\n",
       "      <td>roundtrip tickets orlando florida accra ghana ...</td>\n",
       "    </tr>\n",
       "  </tbody>\n",
       "</table>\n",
       "</div>"
      ],
      "text/plain": [
       "                                               reviews  sentiment  \\\n",
       "45   [Beyond, disgusted, with, the, fact, that, my,...        0.0   \n",
       "114  [The, flight, was, delayed, over, 6, hours, an...        0.0   \n",
       "204  [For, once, more, BA, got, it, all, wrong, wit...        0.0   \n",
       "377  [Johannesburg, to, Dublin, via, London, ., I, ...        0.0   \n",
       "393  [I, purchased, roundtrip, tickets, for, my, wi...        0.0   \n",
       "\n",
       "                                          noun_phrases  \n",
       "45   ba september ba generic non customer service w...  \n",
       "114          connection flight different route airways  \n",
       "204  ba hours delay food voucher dispensable commodity  \n",
       "377  johannesburg dublin london transit visa suppor...  \n",
       "393  roundtrip tickets orlando florida accra ghana ...  "
      ]
     },
     "execution_count": 243,
     "metadata": {},
     "output_type": "execute_result"
    }
   ],
   "source": [
    "sentiment_netral.head()"
   ]
  },
  {
   "cell_type": "code",
   "execution_count": 244,
   "id": "8db80e10",
   "metadata": {},
   "outputs": [
    {
     "data": {
      "text/html": [
       "<div>\n",
       "<style scoped>\n",
       "    .dataframe tbody tr th:only-of-type {\n",
       "        vertical-align: middle;\n",
       "    }\n",
       "\n",
       "    .dataframe tbody tr th {\n",
       "        vertical-align: top;\n",
       "    }\n",
       "\n",
       "    .dataframe thead th {\n",
       "        text-align: right;\n",
       "    }\n",
       "</style>\n",
       "<table border=\"1\" class=\"dataframe\">\n",
       "  <thead>\n",
       "    <tr style=\"text-align: right;\">\n",
       "      <th></th>\n",
       "      <th>reviews</th>\n",
       "      <th>sentiment</th>\n",
       "      <th>noun_phrases</th>\n",
       "    </tr>\n",
       "  </thead>\n",
       "  <tbody>\n",
       "    <tr>\n",
       "      <th>7</th>\n",
       "      <td>[Flew, ATL, to, LHR, 8th, Jan, 2023, ., Was, u...</td>\n",
       "      <td>-0.147953</td>\n",
       "      <td>flew atl lhr jan was refit ife ife nasty earbu...</td>\n",
       "    </tr>\n",
       "    <tr>\n",
       "      <th>16</th>\n",
       "      <td>[BA, website, did, not, work, (, weirdly, dele...</td>\n",
       "      <td>-0.130010</td>\n",
       "      <td>ba chaos cape town airport chaos gate / queue ...</td>\n",
       "    </tr>\n",
       "    <tr>\n",
       "      <th>21</th>\n",
       "      <td>[BA, cancelled, my, flight, home, to, Heathrow...</td>\n",
       "      <td>-0.227500</td>\n",
       "      <td>ba flight home heathrow dec iceland dreadful d...</td>\n",
       "    </tr>\n",
       "    <tr>\n",
       "      <th>29</th>\n",
       "      <td>[Glasgow, to, London, delayed, by, 1, hour, .,...</td>\n",
       "      <td>-0.112500</td>\n",
       "      <td>glasgow london ba theres high risk oneworld</td>\n",
       "    </tr>\n",
       "    <tr>\n",
       "      <th>32</th>\n",
       "      <td>[Disappointing, again, especially, on, busines...</td>\n",
       "      <td>-0.280000</td>\n",
       "      <td>disappointing world lounges heathrow business ...</td>\n",
       "    </tr>\n",
       "  </tbody>\n",
       "</table>\n",
       "</div>"
      ],
      "text/plain": [
       "                                              reviews  sentiment  \\\n",
       "7   [Flew, ATL, to, LHR, 8th, Jan, 2023, ., Was, u...  -0.147953   \n",
       "16  [BA, website, did, not, work, (, weirdly, dele...  -0.130010   \n",
       "21  [BA, cancelled, my, flight, home, to, Heathrow...  -0.227500   \n",
       "29  [Glasgow, to, London, delayed, by, 1, hour, .,...  -0.112500   \n",
       "32  [Disappointing, again, especially, on, busines...  -0.280000   \n",
       "\n",
       "                                         noun_phrases  \n",
       "7   flew atl lhr jan was refit ife ife nasty earbu...  \n",
       "16  ba chaos cape town airport chaos gate / queue ...  \n",
       "21  ba flight home heathrow dec iceland dreadful d...  \n",
       "29        glasgow london ba theres high risk oneworld  \n",
       "32  disappointing world lounges heathrow business ...  "
      ]
     },
     "execution_count": 244,
     "metadata": {},
     "output_type": "execute_result"
    }
   ],
   "source": [
    "sentiment_negative.head()"
   ]
  },
  {
   "cell_type": "code",
   "execution_count": 275,
   "id": "52197aeb",
   "metadata": {},
   "outputs": [
    {
     "data": {
      "text/plain": [
       "(430, 3)"
      ]
     },
     "execution_count": 275,
     "metadata": {},
     "output_type": "execute_result"
    }
   ],
   "source": [
    "sentiment_positive.shape"
   ]
  },
  {
   "cell_type": "code",
   "execution_count": 277,
   "id": "5a1041a6",
   "metadata": {},
   "outputs": [
    {
     "name": "stdout",
     "output_type": "stream",
     "text": [
      "Percentage of cols in DataFrame: 0.23%\n"
     ]
    }
   ],
   "source": [
    "sentiment_positive_percent = (sentiment_positive.shape[1] / sentiment_positive.size) * 100\n",
    "print(\"Percentage of cols in DataFrame: {:.2f}%\".format(sentiment_positive_percent))"
   ]
  },
  {
   "cell_type": "code",
   "execution_count": 250,
   "id": "3b767458",
   "metadata": {},
   "outputs": [
    {
     "data": {
      "text/plain": [
       "<AxesSubplot:>"
      ]
     },
     "execution_count": 250,
     "metadata": {},
     "output_type": "execute_result"
    },
    {
     "data": {
      "image/png": "[encoded data removed]",
      "text/plain": [
       "<Figure size 640x480 with 1 Axes>"
      ]
     },
     "metadata": {},
     "output_type": "display_data"
    }
   ],
   "source": [
    "sentiment_positive.plot()"
   ]
  },
  {
   "cell_type": "code",
   "execution_count": 272,
   "id": "d7931660",
   "metadata": {
    "scrolled": true
   },
   "outputs": [
    {
     "data": {
      "text/plain": [
       "(145, 3)"
      ]
     },
     "execution_count": 272,
     "metadata": {},
     "output_type": "execute_result"
    }
   ],
   "source": [
    "sentiment_negative.shape"
   ]
  },
  {
   "cell_type": "code",
   "execution_count": 278,
   "id": "7b82ba8e",
   "metadata": {},
   "outputs": [
    {
     "name": "stdout",
     "output_type": "stream",
     "text": [
      "Percentage of cols in DataFrame: 0.69%\n"
     ]
    }
   ],
   "source": [
    "sentiment_negative_percent = (sentiment_negative.shape[1] / sentiment_negative.size) * 100\n",
    "print(\"Percentage of cols in DataFrame: {:.2f}%\".format(sentiment_negative_percent))"
   ]
  },
  {
   "cell_type": "code",
   "execution_count": 273,
   "id": "8d4db3a0",
   "metadata": {},
   "outputs": [
    {
     "data": {
      "text/plain": [
       "<AxesSubplot:>"
      ]
     },
     "execution_count": 273,
     "metadata": {},
     "output_type": "execute_result"
    },
    {
     "data": {
      "image/png": "[encoded data removed]",
      "text/plain": [
       "<Figure size 640x480 with 1 Axes>"
      ]
     },
     "metadata": {},
     "output_type": "display_data"
    }
   ],
   "source": [
    "sentiment_negative.plot()"
   ]
  },
  {
   "cell_type": "code",
   "execution_count": 249,
   "id": "7a35fd47",
   "metadata": {},
   "outputs": [
    {
     "data": {
      "text/plain": [
       "(9, 3)"
      ]
     },
     "execution_count": 249,
     "metadata": {},
     "output_type": "execute_result"
    }
   ],
   "source": [
    "sentiment_netral.shape"
   ]
  },
  {
   "cell_type": "code",
   "execution_count": 279,
   "id": "a87e3a7c",
   "metadata": {},
   "outputs": [
    {
     "name": "stdout",
     "output_type": "stream",
     "text": [
      "Percentage of cols in DataFrame: 11.11%\n"
     ]
    }
   ],
   "source": [
    "sentiment_netral_percent = (sentiment_netral.shape[1] / sentiment_netral.size) * 100\n",
    "print(\"Percentage of cols in DataFrame: {:.2f}%\".format(sentiment_netral_percent))"
   ]
  },
  {
   "cell_type": "code",
   "execution_count": 280,
   "id": "ba2a5ecd",
   "metadata": {},
   "outputs": [
    {
     "data": {
      "text/plain": [
       "<AxesSubplot:>"
      ]
     },
     "execution_count": 280,
     "metadata": {},
     "output_type": "execute_result"
    },
    {
     "data": {
      "image/png": "[encoded data removed]",
      "text/plain": [
       "<Figure size 640x480 with 1 Axes>"
      ]
     },
     "metadata": {},
     "output_type": "display_data"
    }
   ],
   "source": [
    "sentiment_netral.plot()"
   ]
  },
  {
   "cell_type": "code",
   "execution_count": null,
   "id": "f9ed0395",
   "metadata": {},
   "outputs": [],
   "source": []
  }
 ],
 "metadata": {
  "kernelspec": {
   "display_name": "Python 3 (ipykernel)",
   "language": "python",
   "name": "python3"
  },
  "language_info": {
   "codemirror_mode": {
    "name": "ipython",
    "version": 3
   },
   "file_extension": ".py",
   "mimetype": "text/x-python",
   "name": "python",
   "nbconvert_exporter": "python",
   "pygments_lexer": "ipython3",
   "version": "3.9.13"
  }
 },
 "nbformat": 4,
 "nbformat_minor": 5
}
